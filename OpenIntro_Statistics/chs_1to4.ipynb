{
 "cells": [
  {
   "cell_type": "code",
   "execution_count": 1,
   "metadata": {},
   "outputs": [],
   "source": [
    "import math\n",
    "import numpy as np\n",
    "import pandas as pd\n",
    "import seaborn as sns\n",
    "\n",
    "from scipy.stats import norm"
   ]
  },
  {
   "attachments": {},
   "cell_type": "markdown",
   "metadata": {},
   "source": [
    "# Chapter 1: Introduction to Data"
   ]
  },
  {
   "attachments": {},
   "cell_type": "markdown",
   "metadata": {},
   "source": [
    "# Chapter 2: Summarizing Data"
   ]
  },
  {
   "attachments": {},
   "cell_type": "markdown",
   "metadata": {},
   "source": [
    "# Chapter 3: Probability"
   ]
  },
  {
   "attachments": {},
   "cell_type": "markdown",
   "metadata": {},
   "source": [
    "# Chapter 4: Distributions of Random Variables"
   ]
  },
  {
   "cell_type": "code",
   "execution_count": 8,
   "metadata": {},
   "outputs": [],
   "source": [
    "# probability of finding first success in \n",
    "# Nth trial if\n",
    "# P is probability of success and\n",
    "# 1-P is probability of failure\n",
    "def geometric_distribution(p:float, n:int):\n",
    "    from math import sqrt\n",
    "\n",
    "    probability = p * (1-p)**(n-1)\n",
    "    mean = 1 / p\n",
    "    variance = (1-p)/(p**2)\n",
    "    std = math.sqrt(variance)\n",
    "\n",
    "    return probability, mean, variance, std"
   ]
  },
  {
   "cell_type": "code",
   "execution_count": 10,
   "metadata": {},
   "outputs": [
    {
     "name": "stdout",
     "output_type": "stream",
     "text": [
      "1.43\n"
     ]
    }
   ],
   "source": [
    "# GP 4.23\n",
    "print(round(1/0.7, 2))"
   ]
  },
  {
   "cell_type": "code",
   "execution_count": 14,
   "metadata": {},
   "outputs": [
    {
     "name": "stdout",
     "output_type": "stream",
     "text": [
      "0.973\n",
      "0.973\n"
     ]
    }
   ],
   "source": [
    "prob = 0.7\n",
    "p_list = []\n",
    "for i in range(1, 4):\n",
    "    p, mu, sigma, std = geometric_distribution(prob, i)\n",
    "    p_list.append(p)\n",
    "print(sum(p_list))\n",
    "p_complement = (1-prob)**3\n",
    "print(1-p_complement)"
   ]
  },
  {
   "cell_type": "code",
   "execution_count": null,
   "metadata": {},
   "outputs": [],
   "source": []
  }
 ],
 "metadata": {
  "kernelspec": {
   "display_name": "venv",
   "language": "python",
   "name": "python3"
  },
  "language_info": {
   "codemirror_mode": {
    "name": "ipython",
    "version": 3
   },
   "file_extension": ".py",
   "mimetype": "text/x-python",
   "name": "python",
   "nbconvert_exporter": "python",
   "pygments_lexer": "ipython3",
   "version": "3.10.11"
  },
  "orig_nbformat": 4
 },
 "nbformat": 4,
 "nbformat_minor": 2
}
