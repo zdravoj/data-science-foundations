{
 "cells": [
  {
   "cell_type": "code",
   "execution_count": 17,
   "metadata": {},
   "outputs": [],
   "source": [
    "import math\n",
    "import numpy as np\n",
    "import pandas as pd\n",
    "import seaborn as sns\n",
    "\n",
    "from scipy.stats import norm\n",
    "\n",
    "import warnings"
   ]
  },
  {
   "cell_type": "code",
   "execution_count": 9,
   "metadata": {},
   "outputs": [],
   "source": [
    "sns.set_theme(style= 'whitegrid')"
   ]
  },
  {
   "attachments": {},
   "cell_type": "markdown",
   "metadata": {},
   "source": [
    "# Chapter 1: Introduction to Data"
   ]
  },
  {
   "cell_type": "markdown",
   "metadata": {},
   "source": [
    "## 1.1 Case Study: using stents to prevent strokes"
   ]
  },
  {
   "cell_type": "code",
   "execution_count": 2,
   "metadata": {},
   "outputs": [
    {
     "name": "stdout",
     "output_type": "stream",
     "text": [
      "(451, 2) (451, 2) (451, 3)\n"
     ]
    },
    {
     "data": {
      "text/html": [
       "<div>\n",
       "<style scoped>\n",
       "    .dataframe tbody tr th:only-of-type {\n",
       "        vertical-align: middle;\n",
       "    }\n",
       "\n",
       "    .dataframe tbody tr th {\n",
       "        vertical-align: top;\n",
       "    }\n",
       "\n",
       "    .dataframe thead th {\n",
       "        text-align: right;\n",
       "    }\n",
       "</style>\n",
       "<table border=\"1\" class=\"dataframe\">\n",
       "  <thead>\n",
       "    <tr style=\"text-align: right;\">\n",
       "      <th></th>\n",
       "      <th>group</th>\n",
       "      <th>0_to_30_days</th>\n",
       "      <th>0_to_365_days</th>\n",
       "    </tr>\n",
       "  </thead>\n",
       "  <tbody>\n",
       "    <tr>\n",
       "      <th>236</th>\n",
       "      <td>control</td>\n",
       "      <td>stroke</td>\n",
       "      <td>stroke</td>\n",
       "    </tr>\n",
       "    <tr>\n",
       "      <th>221</th>\n",
       "      <td>treatment</td>\n",
       "      <td>no event</td>\n",
       "      <td>no event</td>\n",
       "    </tr>\n",
       "    <tr>\n",
       "      <th>121</th>\n",
       "      <td>treatment</td>\n",
       "      <td>no event</td>\n",
       "      <td>no event</td>\n",
       "    </tr>\n",
       "    <tr>\n",
       "      <th>324</th>\n",
       "      <td>control</td>\n",
       "      <td>no event</td>\n",
       "      <td>no event</td>\n",
       "    </tr>\n",
       "    <tr>\n",
       "      <th>442</th>\n",
       "      <td>control</td>\n",
       "      <td>no event</td>\n",
       "      <td>no event</td>\n",
       "    </tr>\n",
       "    <tr>\n",
       "      <th>443</th>\n",
       "      <td>control</td>\n",
       "      <td>no event</td>\n",
       "      <td>no event</td>\n",
       "    </tr>\n",
       "    <tr>\n",
       "      <th>318</th>\n",
       "      <td>control</td>\n",
       "      <td>no event</td>\n",
       "      <td>no event</td>\n",
       "    </tr>\n",
       "    <tr>\n",
       "      <th>152</th>\n",
       "      <td>treatment</td>\n",
       "      <td>no event</td>\n",
       "      <td>no event</td>\n",
       "    </tr>\n",
       "  </tbody>\n",
       "</table>\n",
       "</div>"
      ],
      "text/plain": [
       "         group 0_to_30_days 0_to_365_days\n",
       "236    control       stroke        stroke\n",
       "221  treatment     no event      no event\n",
       "121  treatment     no event      no event\n",
       "324    control     no event      no event\n",
       "442    control     no event      no event\n",
       "443    control     no event      no event\n",
       "318    control     no event      no event\n",
       "152  treatment     no event      no event"
      ]
     },
     "metadata": {},
     "output_type": "display_data"
    }
   ],
   "source": [
    "# retrieve datasets\n",
    "stent30 = pd.read_csv(\n",
    "    'OI_Resources/stent30.csv',\n",
    "    header=0,\n",
    "    names=['group', '0_to_30_days']\n",
    ")\n",
    "stent365 = pd.read_csv(\n",
    "    'OI_Resources/stent365.csv',\n",
    "    header=0,\n",
    "    names= ['group', '0_to_365_days']\n",
    ")\n",
    "\n",
    "# create stents dataset\n",
    "stents = pd.concat(\n",
    "    [stent30, stent365['0_to_365_days']],\n",
    "    axis='columns'\n",
    ")\n",
    "\n",
    "# dataset rows and columns\n",
    "print(stent30.shape, stent365.shape, stents.shape)\n",
    "# sample 8 records\n",
    "display(stents.sample(8))\n",
    "# patient outcomes for treatment groups\n",
    "# display(stents[['group', '0_to_30_days']].value_counts())\n",
    "# display(stents[['group', '0_to_365_days']].value_counts())"
   ]
  },
  {
   "cell_type": "code",
   "execution_count": 3,
   "metadata": {},
   "outputs": [
    {
     "data": {
      "text/html": [
       "<div>\n",
       "<style scoped>\n",
       "    .dataframe tbody tr th:only-of-type {\n",
       "        vertical-align: middle;\n",
       "    }\n",
       "\n",
       "    .dataframe tbody tr th {\n",
       "        vertical-align: top;\n",
       "    }\n",
       "\n",
       "    .dataframe thead th {\n",
       "        text-align: right;\n",
       "    }\n",
       "</style>\n",
       "<table border=\"1\" class=\"dataframe\">\n",
       "  <thead>\n",
       "    <tr style=\"text-align: right;\">\n",
       "      <th>0_to_30_days</th>\n",
       "      <th>no event</th>\n",
       "      <th>stroke</th>\n",
       "    </tr>\n",
       "    <tr>\n",
       "      <th>group</th>\n",
       "      <th></th>\n",
       "      <th></th>\n",
       "    </tr>\n",
       "  </thead>\n",
       "  <tbody>\n",
       "    <tr>\n",
       "      <th>control</th>\n",
       "      <td>214</td>\n",
       "      <td>13</td>\n",
       "    </tr>\n",
       "    <tr>\n",
       "      <th>treatment</th>\n",
       "      <td>191</td>\n",
       "      <td>33</td>\n",
       "    </tr>\n",
       "  </tbody>\n",
       "</table>\n",
       "</div>"
      ],
      "text/plain": [
       "0_to_30_days  no event  stroke\n",
       "group                         \n",
       "control            214      13\n",
       "treatment          191      33"
      ]
     },
     "metadata": {},
     "output_type": "display_data"
    },
    {
     "data": {
      "text/html": [
       "<div>\n",
       "<style scoped>\n",
       "    .dataframe tbody tr th:only-of-type {\n",
       "        vertical-align: middle;\n",
       "    }\n",
       "\n",
       "    .dataframe tbody tr th {\n",
       "        vertical-align: top;\n",
       "    }\n",
       "\n",
       "    .dataframe thead th {\n",
       "        text-align: right;\n",
       "    }\n",
       "</style>\n",
       "<table border=\"1\" class=\"dataframe\">\n",
       "  <thead>\n",
       "    <tr style=\"text-align: right;\">\n",
       "      <th>0_to_365_days</th>\n",
       "      <th>no event</th>\n",
       "      <th>stroke</th>\n",
       "    </tr>\n",
       "    <tr>\n",
       "      <th>group</th>\n",
       "      <th></th>\n",
       "      <th></th>\n",
       "    </tr>\n",
       "  </thead>\n",
       "  <tbody>\n",
       "    <tr>\n",
       "      <th>control</th>\n",
       "      <td>199</td>\n",
       "      <td>28</td>\n",
       "    </tr>\n",
       "    <tr>\n",
       "      <th>treatment</th>\n",
       "      <td>179</td>\n",
       "      <td>45</td>\n",
       "    </tr>\n",
       "  </tbody>\n",
       "</table>\n",
       "</div>"
      ],
      "text/plain": [
       "0_to_365_days  no event  stroke\n",
       "group                          \n",
       "control             199      28\n",
       "treatment           179      45"
      ]
     },
     "metadata": {},
     "output_type": "display_data"
    }
   ],
   "source": [
    "# patient outcomes for treatment groups\n",
    "month_outcomes = pd.crosstab(stents['group'], stents['0_to_30_days'])\n",
    "year_outcomes = pd.crosstab(stents['group'], stents['0_to_365_days'])\n",
    "display(month_outcomes)\n",
    "display(year_outcomes)"
   ]
  },
  {
   "cell_type": "markdown",
   "metadata": {},
   "source": [
    "**Summary statistic**: A single number summarizing a large amount of data."
   ]
  },
  {
   "cell_type": "code",
   "execution_count": 4,
   "metadata": {},
   "outputs": [
    {
     "name": "stdout",
     "output_type": "stream",
     "text": [
      "Proportion of strokes in 1-year control group: 12.33%\n",
      "Proportion of strokes in 1-year treatment group: 20.09%\n",
      "Difference in stroke proportions: 7.76% more strokes in treatment group\n"
     ]
    }
   ],
   "source": [
    "# proportion of patients in control group who had stroke within 1 year\n",
    "year_control_stroke_prop = round((year_outcomes.loc['control', 'stroke']\\\n",
    "/ year_outcomes.loc['control'].sum())*100, 2)\n",
    "# proportion of patients in treatment group who had stroke within 1 year\n",
    "year_treatment_stroke_prop = round((year_outcomes.loc['treatment', 'stroke']\\\n",
    "/ year_outcomes.loc['treatment'].sum())*100, 2)\n",
    "\n",
    "print('Proportion of strokes in 1-year control group:', f'{year_control_stroke_prop}%')\n",
    "print('Proportion of strokes in 1-year treatment group:', f'{year_treatment_stroke_prop}%')\n",
    "\n",
    "# difference in proportions (treatment - control)\n",
    "year_stroke_prop_difference = year_treatment_stroke_prop - year_control_stroke_prop\n",
    "\n",
    "print('Difference in stroke proportions:',\\\n",
    "    f'{abs(year_stroke_prop_difference)}%',\\\n",
    "    'more strokes in',\\\n",
    "    'treatment' if year_stroke_prop_difference >= 0 else 'control',\n",
    "    'group'\n",
    ")"
   ]
  },
  {
   "cell_type": "markdown",
   "metadata": {},
   "source": [
    "**Do not generalize to all patients and all stents**: This study only considers one type of stent and the patients all had specific characteristics, and all volunteered to be part of the study."
   ]
  },
  {
   "cell_type": "markdown",
   "metadata": {},
   "source": [
    "## 1.1 Exercises"
   ]
  },
  {
   "cell_type": "markdown",
   "metadata": {},
   "source": [
    "### 1.1.1"
   ]
  },
  {
   "cell_type": "code",
   "execution_count": 5,
   "metadata": {},
   "outputs": [
    {
     "data": {
      "text/html": [
       "<div>\n",
       "<style scoped>\n",
       "    .dataframe tbody tr th:only-of-type {\n",
       "        vertical-align: middle;\n",
       "    }\n",
       "\n",
       "    .dataframe tbody tr th {\n",
       "        vertical-align: top;\n",
       "    }\n",
       "\n",
       "    .dataframe thead th {\n",
       "        text-align: right;\n",
       "    }\n",
       "</style>\n",
       "<table border=\"1\" class=\"dataframe\">\n",
       "  <thead>\n",
       "    <tr style=\"text-align: right;\">\n",
       "      <th></th>\n",
       "      <th>Pain_free</th>\n",
       "      <th>Not_pain_free</th>\n",
       "      <th>Group_total</th>\n",
       "    </tr>\n",
       "  </thead>\n",
       "  <tbody>\n",
       "    <tr>\n",
       "      <th>Treatment</th>\n",
       "      <td>10</td>\n",
       "      <td>33</td>\n",
       "      <td>43</td>\n",
       "    </tr>\n",
       "    <tr>\n",
       "      <th>Control</th>\n",
       "      <td>2</td>\n",
       "      <td>44</td>\n",
       "      <td>46</td>\n",
       "    </tr>\n",
       "    <tr>\n",
       "      <th>Outcome_total</th>\n",
       "      <td>12</td>\n",
       "      <td>77</td>\n",
       "      <td>89</td>\n",
       "    </tr>\n",
       "  </tbody>\n",
       "</table>\n",
       "</div>"
      ],
      "text/plain": [
       "               Pain_free  Not_pain_free  Group_total\n",
       "Treatment             10             33           43\n",
       "Control                2             44           46\n",
       "Outcome_total         12             77           89"
      ]
     },
     "metadata": {},
     "output_type": "display_data"
    },
    {
     "name": "stdout",
     "output_type": "stream",
     "text": [
      "Percent of pain-free patients in the treatment group: 23.26%\n",
      "Percent of pain-free patients in the control group: 4.35%\n",
      "The Treatment group had a higher percentage of pain-free patients.\n",
      "The difference of 18.91% could be attributed to random chance, though this is unlikely.\n"
     ]
    }
   ],
   "source": [
    "# data-only dataframe\n",
    "migraine_df = pd.DataFrame(\n",
    "    data= [\n",
    "        [10, 33],\n",
    "        [2, 44]\n",
    "    ],\n",
    "    index= [\n",
    "        'Treatment',\n",
    "        'Control'\n",
    "    ],\n",
    "    columns= [\n",
    "        'Pain_free',\n",
    "        'Not_pain_free'\n",
    "    ]\n",
    ")\n",
    "# add totals row and column\n",
    "migraine_df['Group_total'] = [sum(migraine_df.loc[idx]) for idx in migraine_df.index]\n",
    "migraine_df.loc['Outcome_total'] = migraine_df.sum()\n",
    "\n",
    "display(migraine_df)\n",
    "\n",
    "# 1.1.1a\n",
    "pct_treat_pf = migraine_df.loc['Treatment', 'Pain_free'] / migraine_df.loc['Treatment', 'Group_total']\n",
    "print(f'Percent of pain-free patients in the treatment group: {round(pct_treat_pf*100, 2)}%')\n",
    "# 1.1.1b\n",
    "pct_cont_pf = migraine_df.loc['Control', 'Pain_free'] / migraine_df.loc['Control', 'Group_total']\n",
    "print(f'Percent of pain-free patients in the control group: {round(pct_cont_pf*100, 2)}%')\n",
    "# 1.1.1c\n",
    "higher_pct_group = 'Treatment' if pct_treat_pf > pct_cont_pf else 'Control' \n",
    "print(f'The {higher_pct_group} group had a higher percentage of pain-free patients.')\n",
    "# 1.1.1d\n",
    "pct_difference = abs(pct_treat_pf - pct_cont_pf)\n",
    "print(\n",
    "    f'The difference of {round(pct_difference*100, 2)}% could be attributed to random chance,',\n",
    "     'though this is unlikely.'\n",
    ")"
   ]
  },
  {
   "cell_type": "markdown",
   "metadata": {},
   "source": [
    "### 1.1.2"
   ]
  },
  {
   "cell_type": "code",
   "execution_count": 6,
   "metadata": {},
   "outputs": [
    {
     "data": {
      "text/html": [
       "<div>\n",
       "<style scoped>\n",
       "    .dataframe tbody tr th:only-of-type {\n",
       "        vertical-align: middle;\n",
       "    }\n",
       "\n",
       "    .dataframe tbody tr th {\n",
       "        vertical-align: top;\n",
       "    }\n",
       "\n",
       "    .dataframe thead th {\n",
       "        text-align: right;\n",
       "    }\n",
       "</style>\n",
       "<table border=\"1\" class=\"dataframe\">\n",
       "  <thead>\n",
       "    <tr style=\"text-align: right;\">\n",
       "      <th></th>\n",
       "      <th>Improvement</th>\n",
       "      <th>No_improvement</th>\n",
       "      <th>Group_total</th>\n",
       "    </tr>\n",
       "  </thead>\n",
       "  <tbody>\n",
       "    <tr>\n",
       "      <th>Treatment</th>\n",
       "      <td>66</td>\n",
       "      <td>19</td>\n",
       "      <td>85</td>\n",
       "    </tr>\n",
       "    <tr>\n",
       "      <th>Control</th>\n",
       "      <td>65</td>\n",
       "      <td>16</td>\n",
       "      <td>81</td>\n",
       "    </tr>\n",
       "    <tr>\n",
       "      <th>Outcome_total</th>\n",
       "      <td>131</td>\n",
       "      <td>35</td>\n",
       "      <td>166</td>\n",
       "    </tr>\n",
       "  </tbody>\n",
       "</table>\n",
       "</div>"
      ],
      "text/plain": [
       "               Improvement  No_improvement  Group_total\n",
       "Treatment               66              19           85\n",
       "Control                 65              16           81\n",
       "Outcome_total          131              35          166"
      ]
     },
     "metadata": {},
     "output_type": "display_data"
    },
    {
     "name": "stdout",
     "output_type": "stream",
     "text": [
      "Percent of treatment patients with improvement in symptoms: 77.65%\n",
      "Percent of control patients with improvement in symptoms: 80.25%\n",
      "The Control group had a higher percentage of patients with improvment in symptoms.\n",
      "With a difference of 2.6%, there does not seem to be a real difference between the two groups.\n",
      "The difference is likely due to random chance.\n"
     ]
    }
   ],
   "source": [
    "# create full df (with totals)\n",
    "sinusitis_df = pd.DataFrame(\n",
    "    data= {\n",
    "        'Improvement': [66, 65, 131],\n",
    "        'No_improvement': [19, 16, 35],\n",
    "        'Group_total': [85, 81, 166]\n",
    "    },\n",
    "    index= [\n",
    "        'Treatment',\n",
    "        'Control',\n",
    "        'Outcome_total'\n",
    "    ]\n",
    ")\n",
    "\n",
    "display(sinusitis_df)\n",
    "\n",
    "#1.1.2a\n",
    "pct_treat_i = sinusitis_df.loc['Treatment', 'Improvement'] / sinusitis_df.loc['Treatment', 'Group_total']\n",
    "print(f'Percent of treatment patients with improvement in symptoms: {round(pct_treat_i*100, 2)}%')\n",
    "#1.1.2b\n",
    "pct_cont_i = sinusitis_df.loc['Control', 'Improvement'] / sinusitis_df.loc['Control', 'Group_total']\n",
    "print(f'Percent of control patients with improvement in symptoms: {round(pct_cont_i*100, 2)}%')\n",
    "#1.1.2c\n",
    "higher_pct_group = 'Treatment' if pct_treat_i > pct_cont_i else 'Control'\n",
    "print(f'The {higher_pct_group} group had a higher percentage of patients with improvment in symptoms.')\n",
    "#1.1.2d\n",
    "pct_difference = abs(pct_treat_i - pct_cont_i)\n",
    "print(\n",
    "    f'With a difference of {round(pct_difference*100, 2)}%,',\n",
    "    'there does not seem to be a real difference between the two groups.'\n",
    ")\n",
    "print('The difference is likely due to random chance.')\n"
   ]
  },
  {
   "cell_type": "markdown",
   "metadata": {},
   "source": [
    "## 1.2: Data Basics"
   ]
  },
  {
   "cell_type": "markdown",
   "metadata": {},
   "source": [
    "A **data matrix** is a representation in tabular format, where each row is a data entity called a **point**, **case**, **record**, or **observation**. Each column is a characteristic, called a **variable** or **feature**."
   ]
  },
  {
   "cell_type": "code",
   "execution_count": 7,
   "metadata": {},
   "outputs": [
    {
     "data": {
      "text/html": [
       "<div>\n",
       "<style scoped>\n",
       "    .dataframe tbody tr th:only-of-type {\n",
       "        vertical-align: middle;\n",
       "    }\n",
       "\n",
       "    .dataframe tbody tr th {\n",
       "        vertical-align: top;\n",
       "    }\n",
       "\n",
       "    .dataframe thead th {\n",
       "        text-align: right;\n",
       "    }\n",
       "</style>\n",
       "<table border=\"1\" class=\"dataframe\">\n",
       "  <thead>\n",
       "    <tr style=\"text-align: right;\">\n",
       "      <th></th>\n",
       "      <th>loan_amount</th>\n",
       "      <th>interest_rate</th>\n",
       "      <th>term</th>\n",
       "      <th>grade</th>\n",
       "      <th>state</th>\n",
       "      <th>total_income</th>\n",
       "      <th>homeownership</th>\n",
       "    </tr>\n",
       "  </thead>\n",
       "  <tbody>\n",
       "    <tr>\n",
       "      <th>0</th>\n",
       "      <td>22000</td>\n",
       "      <td>10.90</td>\n",
       "      <td>60</td>\n",
       "      <td>B</td>\n",
       "      <td>NJ</td>\n",
       "      <td>59000</td>\n",
       "      <td>rent</td>\n",
       "    </tr>\n",
       "    <tr>\n",
       "      <th>1</th>\n",
       "      <td>6000</td>\n",
       "      <td>9.92</td>\n",
       "      <td>36</td>\n",
       "      <td>B</td>\n",
       "      <td>CA</td>\n",
       "      <td>60000</td>\n",
       "      <td>rent</td>\n",
       "    </tr>\n",
       "    <tr>\n",
       "      <th>2</th>\n",
       "      <td>25000</td>\n",
       "      <td>26.30</td>\n",
       "      <td>36</td>\n",
       "      <td>E</td>\n",
       "      <td>SC</td>\n",
       "      <td>75000</td>\n",
       "      <td>mortgage</td>\n",
       "    </tr>\n",
       "    <tr>\n",
       "      <th>3</th>\n",
       "      <td>6000</td>\n",
       "      <td>9.92</td>\n",
       "      <td>36</td>\n",
       "      <td>B</td>\n",
       "      <td>CA</td>\n",
       "      <td>75000</td>\n",
       "      <td>rent</td>\n",
       "    </tr>\n",
       "    <tr>\n",
       "      <th>4</th>\n",
       "      <td>25000</td>\n",
       "      <td>9.43</td>\n",
       "      <td>60</td>\n",
       "      <td>B</td>\n",
       "      <td>OH</td>\n",
       "      <td>254000</td>\n",
       "      <td>mortgage</td>\n",
       "    </tr>\n",
       "  </tbody>\n",
       "</table>\n",
       "</div>"
      ],
      "text/plain": [
       "   loan_amount  interest_rate  term grade state  total_income homeownership\n",
       "0        22000          10.90    60     B    NJ         59000          rent\n",
       "1         6000           9.92    36     B    CA         60000          rent\n",
       "2        25000          26.30    36     E    SC         75000      mortgage\n",
       "3         6000           9.92    36     B    CA         75000          rent\n",
       "4        25000           9.43    60     B    OH        254000      mortgage"
      ]
     },
     "metadata": {},
     "output_type": "display_data"
    }
   ],
   "source": [
    "loan50 = pd.read_csv(\n",
    "    'OI_Resources/loan50.csv',\n",
    "    usecols= [\n",
    "        'loan_amount',\n",
    "        'interest_rate',\n",
    "        'term',\n",
    "        'grade',\n",
    "        'state',\n",
    "        'total_income',\n",
    "        'homeownership'\n",
    "    ]\n",
    ")[[\n",
    "    'loan_amount',\n",
    "    'interest_rate',\n",
    "    'term',\n",
    "    'grade',\n",
    "    'state',\n",
    "    'total_income',\n",
    "    'homeownership'\n",
    "]]\n",
    "display(loan50.head())"
   ]
  },
  {
   "cell_type": "markdown",
   "metadata": {},
   "source": [
    "- loan_amount: loan amount in USD.\n",
    "- interest_rate: interest rate as annual percentage.\n",
    "- term: length of loan in whole number months.\n",
    "- grade: likelihood of being repaid. A through G, with A being most likely, and G being most unlikely.\n",
    "- state: US state where borrower resides.\n",
    "- total_income: total annual income in USD.\n",
    "- homeownership: indicates whether borrower owns home, has a mortgage, or rents."
   ]
  },
  {
   "cell_type": "markdown",
   "metadata": {},
   "source": [
    "It is **extremely important** that you **understand what your features represent**. This requires **domain knowledge** of the data's origin industry, but equally important is understanding **what units of measurement each feature uses**. An annual interest rate recorded as a percentage is very different from a monthly interest rate recorded as a float between 0 and 1!"
   ]
  },
  {
   "cell_type": "code",
   "execution_count": 8,
   "metadata": {},
   "outputs": [
    {
     "data": {
      "text/html": [
       "<div>\n",
       "<style scoped>\n",
       "    .dataframe tbody tr th:only-of-type {\n",
       "        vertical-align: middle;\n",
       "    }\n",
       "\n",
       "    .dataframe tbody tr th {\n",
       "        vertical-align: top;\n",
       "    }\n",
       "\n",
       "    .dataframe thead th {\n",
       "        text-align: right;\n",
       "    }\n",
       "</style>\n",
       "<table border=\"1\" class=\"dataframe\">\n",
       "  <thead>\n",
       "    <tr style=\"text-align: right;\">\n",
       "      <th></th>\n",
       "      <th>name</th>\n",
       "      <th>state</th>\n",
       "      <th>pop2000</th>\n",
       "      <th>pop2010</th>\n",
       "      <th>pop2017</th>\n",
       "      <th>pop_change</th>\n",
       "      <th>poverty</th>\n",
       "      <th>homeownership</th>\n",
       "      <th>multi_unit</th>\n",
       "      <th>unemployment_rate</th>\n",
       "      <th>metro</th>\n",
       "      <th>median_edu</th>\n",
       "      <th>per_capita_income</th>\n",
       "      <th>median_hh_income</th>\n",
       "      <th>smoking_ban</th>\n",
       "    </tr>\n",
       "  </thead>\n",
       "  <tbody>\n",
       "    <tr>\n",
       "      <th>0</th>\n",
       "      <td>Autauga County</td>\n",
       "      <td>Alabama</td>\n",
       "      <td>43671.0</td>\n",
       "      <td>54571</td>\n",
       "      <td>55504.0</td>\n",
       "      <td>1.48</td>\n",
       "      <td>13.7</td>\n",
       "      <td>77.5</td>\n",
       "      <td>7.2</td>\n",
       "      <td>3.86</td>\n",
       "      <td>yes</td>\n",
       "      <td>some_college</td>\n",
       "      <td>27841.70</td>\n",
       "      <td>55317.0</td>\n",
       "      <td>none</td>\n",
       "    </tr>\n",
       "    <tr>\n",
       "      <th>1</th>\n",
       "      <td>Baldwin County</td>\n",
       "      <td>Alabama</td>\n",
       "      <td>140415.0</td>\n",
       "      <td>182265</td>\n",
       "      <td>212628.0</td>\n",
       "      <td>9.19</td>\n",
       "      <td>11.8</td>\n",
       "      <td>76.7</td>\n",
       "      <td>22.6</td>\n",
       "      <td>3.99</td>\n",
       "      <td>yes</td>\n",
       "      <td>some_college</td>\n",
       "      <td>27779.85</td>\n",
       "      <td>52562.0</td>\n",
       "      <td>none</td>\n",
       "    </tr>\n",
       "    <tr>\n",
       "      <th>2</th>\n",
       "      <td>Barbour County</td>\n",
       "      <td>Alabama</td>\n",
       "      <td>29038.0</td>\n",
       "      <td>27457</td>\n",
       "      <td>25270.0</td>\n",
       "      <td>-6.22</td>\n",
       "      <td>27.2</td>\n",
       "      <td>68.0</td>\n",
       "      <td>11.1</td>\n",
       "      <td>5.90</td>\n",
       "      <td>no</td>\n",
       "      <td>hs_diploma</td>\n",
       "      <td>17891.73</td>\n",
       "      <td>33368.0</td>\n",
       "      <td>partial</td>\n",
       "    </tr>\n",
       "    <tr>\n",
       "      <th>3</th>\n",
       "      <td>Bibb County</td>\n",
       "      <td>Alabama</td>\n",
       "      <td>20826.0</td>\n",
       "      <td>22915</td>\n",
       "      <td>22668.0</td>\n",
       "      <td>0.73</td>\n",
       "      <td>15.2</td>\n",
       "      <td>82.9</td>\n",
       "      <td>6.6</td>\n",
       "      <td>4.39</td>\n",
       "      <td>yes</td>\n",
       "      <td>hs_diploma</td>\n",
       "      <td>20572.05</td>\n",
       "      <td>43404.0</td>\n",
       "      <td>none</td>\n",
       "    </tr>\n",
       "    <tr>\n",
       "      <th>4</th>\n",
       "      <td>Blount County</td>\n",
       "      <td>Alabama</td>\n",
       "      <td>51024.0</td>\n",
       "      <td>57322</td>\n",
       "      <td>58013.0</td>\n",
       "      <td>0.68</td>\n",
       "      <td>15.6</td>\n",
       "      <td>82.0</td>\n",
       "      <td>3.7</td>\n",
       "      <td>4.02</td>\n",
       "      <td>yes</td>\n",
       "      <td>hs_diploma</td>\n",
       "      <td>21367.39</td>\n",
       "      <td>47412.0</td>\n",
       "      <td>none</td>\n",
       "    </tr>\n",
       "  </tbody>\n",
       "</table>\n",
       "</div>"
      ],
      "text/plain": [
       "             name    state   pop2000  pop2010   pop2017  pop_change  poverty  \\\n",
       "0  Autauga County  Alabama   43671.0    54571   55504.0        1.48     13.7   \n",
       "1  Baldwin County  Alabama  140415.0   182265  212628.0        9.19     11.8   \n",
       "2  Barbour County  Alabama   29038.0    27457   25270.0       -6.22     27.2   \n",
       "3     Bibb County  Alabama   20826.0    22915   22668.0        0.73     15.2   \n",
       "4   Blount County  Alabama   51024.0    57322   58013.0        0.68     15.6   \n",
       "\n",
       "   homeownership  multi_unit  unemployment_rate metro    median_edu  \\\n",
       "0           77.5         7.2               3.86   yes  some_college   \n",
       "1           76.7        22.6               3.99   yes  some_college   \n",
       "2           68.0        11.1               5.90    no    hs_diploma   \n",
       "3           82.9         6.6               4.39   yes    hs_diploma   \n",
       "4           82.0         3.7               4.02   yes    hs_diploma   \n",
       "\n",
       "   per_capita_income  median_hh_income smoking_ban  \n",
       "0           27841.70           55317.0        none  \n",
       "1           27779.85           52562.0        none  \n",
       "2           17891.73           33368.0     partial  \n",
       "3           20572.05           43404.0        none  \n",
       "4           21367.39           47412.0        none  "
      ]
     },
     "metadata": {},
     "output_type": "display_data"
    }
   ],
   "source": [
    "county = pd.read_csv('OI_Resources/county.csv')\n",
    "display(county.head())"
   ]
  },
  {
   "cell_type": "markdown",
   "metadata": {},
   "source": [
    "- name: county name\n",
    "- state: state where the county resides, or the District of Columbia\n",
    "- pop: population in 2017\n",
    "- pop_change: percent change in the population from 2010 to 2017. For example, the value 1.48 in the first row means the population for this county increased by 1.48% from 2010 to 2017\n",
    "- poverty: percent of the population in poverty\n",
    "- homeownership: percent of the population that lives in their own home or lives with the owner, e.g. children living with parents who own the home.\n",
    "- multi_unit: percent of living units that are in multi-unit structures, e.g. apartments\n",
    "- unemp_rate: unemployment rate as a percent\n",
    "- metro: whether the county contains a metropolitan area\n",
    "- median_edu: median education level, which can take a value among below hs, hs diploma, some college, and bachelors.\n",
    "- median_hh_income: median household income for the county, where a household's income equals\n",
    "the total income of its occupants who are 15 years or older"
   ]
  },
  {
   "cell_type": "markdown",
   "metadata": {},
   "source": [
    "The table has a variety of different types of variables.\n",
    "Data can be broken into two groups, **numerical** and **categorical**, and then into four subgroups. **Numerical** data is either **discrete** or **continuous**, and categorical data is either **ordinal** or **nominal**. The distinct possible values in a **categorical** variable are called **levels**.\n",
    "\n",
    "- **discrete numerical**: the number of distinct possible data values are finite, or, the number of distinct possible values can be counted. For example, the `pop2000` variable above is a discrete variable because it can only measure whole, non-negative numbers. While the population variable can take many different values (in fact, almost every value is distinct), it is finite and countable, and therefore discrete.\n",
    "- **continuous numerical**: the number of distinct possible data values are infinite, or cannot be counted. The `unemployment_rate` variable is continuous because it is a float, infinitely divisible into smaller amounts.\n",
    "- **ordinal categorical**: there is an ordering to the categories. For example, the `median_edu` variable above takes on increasing values of education level, from *below hs* to *bachelors*.\n",
    "- **nominal categorical**: there is no ordering to the categories. The `state` variable is an example, since it has no meaningful ordering on its own."
   ]
  },
  {
   "cell_type": "code",
   "execution_count": 9,
   "metadata": {},
   "outputs": [
    {
     "data": {
      "image/png": "[encoded data removed]",
      "text/plain": [
       "<Figure size 500x500 with 1 Axes>"
      ]
     },
     "metadata": {},
     "output_type": "display_data"
    }
   ],
   "source": [
    "# relationship between homeownership and multi_unit\n",
    "sns.relplot(\n",
    "    data= county,\n",
    "    x= 'multi_unit',\n",
    "    y= 'homeownership'\n",
    ");"
   ]
  },
  {
   "cell_type": "markdown",
   "metadata": {},
   "source": [
    "The plot appears to show a discernable pattern: as homeownership decreases, the percent of multi-unit structures increases. These variables show some connection, and so are **associated** or **dependent** variables."
   ]
  },
  {
   "cell_type": "markdown",
   "metadata": {},
   "source": [
    "Since counties with more multi-unit structures are associated with lower homeownership, they are **negatively associated**. A **positive association** can be seen below between `pop_change` and `median_hh_income`."
   ]
  },
  {
   "cell_type": "code",
   "execution_count": 10,
   "metadata": {},
   "outputs": [
    {
     "data": {
      "image/png": "[encoded data removed]",
      "text/plain": [
       "<Figure size 500x500 with 1 Axes>"
      ]
     },
     "metadata": {},
     "output_type": "display_data"
    }
   ],
   "source": [
    "sns.relplot(\n",
    "    data= county,\n",
    "    x = 'median_hh_income',\n",
    "    y = 'pop_change'\n",
    ");"
   ]
  },
  {
   "cell_type": "markdown",
   "metadata": {},
   "source": [
    "Variables with no association, or no evident relationship, are **independent**."
   ]
  },
  {
   "cell_type": "markdown",
   "metadata": {},
   "source": [
    "**Independence and association are mutually exclusive**. No pair of variables is both associated and independent."
   ]
  },
  {
   "cell_type": "markdown",
   "metadata": {},
   "source": [
    "Sometimes, variables are not just related - the change in one *causes* a change in another. The variable that causes the change is the **explanatory** or **independent** variable, and the one changed is the **response** or **dependent** variable. Labeling variables this way does not guarantee they exist. As they say, \"correlation does not imply causation.\""
   ]
  },
  {
   "cell_type": "markdown",
   "metadata": {},
   "source": [
    "**Observational study**: when researchers collect data in a way that does not directly interfere with how the data arise. Observational studies can provide evidence of a naturally occurring association between variables, but they cannot, by themselves, show a causal connection. <br>\n",
    "**Experiment**: when researchers collect data to investigate a causal connection. The researchers study two groups: the group that the researchers will affect or change is the **treatment** group, and the group that experiences no change is the **control** group. After the testing, the researchers can compare the two groups, and if there is a strong difference, a claim can be made that the treatment had an impact. The researchers try to remove any **bias** or **confounding variables** from the experiment so that a definitive causation is plausible."
   ]
  },
  {
   "cell_type": "markdown",
   "metadata": {},
   "source": [
    "Bias, and/or confounding variables, can take any number of forms - the most common is demographic info. One of the best ways to combat bias is to randomize who is placed into which group, making it a **randomized experiment**. This way, both groups have a variety of people in them, and the people within the groups are unlikely to share qualities that might explain the strong difference more than the treatment itself."
   ]
  },
  {
   "cell_type": "markdown",
   "metadata": {},
   "source": [
    "Another confounding variable is that the treatment group *knows that they are getting the treatment*. If a patient believes they're receiving a treatment that is going to make them feel better, that belief alone might make them feel better! To combat this, researchers often give a **placebo**, or fake treatment, to the control group."
   ]
  },
  {
   "cell_type": "markdown",
   "metadata": {},
   "source": [
    "## 1.2 Exercises"
   ]
  },
  {
   "cell_type": "markdown",
   "metadata": {},
   "source": [
    "### 1.2.3"
   ]
  },
  {
   "cell_type": "markdown",
   "metadata": {},
   "source": [
    "**(a)** The main research question of the study is: Is there a relationship between air pollutants and preterm births. <br>\n",
    "**(b)** The subjects in the study are: 143,196 births between 1989 and 1993.<br>\n",
    "**(c)** The variables in the study are: carbon monoxide (PPM) (continuous numerical), nitrogen dioxide (PP100M) (continuous numerical), ozone (PP100M) (continuous numerical), coarse particulate matter (ug/m^3) (continuous numerical), length of gestation (?) (continuous or discrete numerical), air pollution exposure specific to each record (?) (continuous or discrete numerical). Possibly, a variable similar to length of gestation, preterm birth (boolean)."
   ]
  },
  {
   "cell_type": "markdown",
   "metadata": {},
   "source": [
    "### 1.2.4"
   ]
  },
  {
   "cell_type": "markdown",
   "metadata": {},
   "source": [
    "**(a)** The main research question of the study is: Does the Buteyko method reduce asthma symptoms and improve quality of life? <br>\n",
    "**(b)** The subjects in the study are: 600 asthma patients aged 18-69 who relied on medication for asthma treatment. <br>\n",
    "**(c)** The variables in the study are: practiced buteyko method (boolean), quality of life (1-10, discrete numerical), activity (1-10, discrete numerical), asthma symptoms (1-10, discrete numerical), medication reduction (1-10, discrete numerical)."
   ]
  },
  {
   "cell_type": "markdown",
   "metadata": {},
   "source": [
    "### 1.2.5"
   ]
  },
  {
   "cell_type": "markdown",
   "metadata": {},
   "source": [
    "**(a)** The main research question in the study is: what is the relationship between honesty, age, and self control? <br>\n",
    "**(b)** The subjects in the study are: 160 children between ages 5 and 15. <br>\n",
    "**(c)** The variables in the study are: age (discrete numerical), sex (nominal categorical), only child (boolean), reported outcome (boolean), actual outcome (boolean), told explicitly not to cheat (boolean)."
   ]
  },
  {
   "cell_type": "markdown",
   "metadata": {},
   "source": [
    "### 1.2.6"
   ]
  },
  {
   "cell_type": "markdown",
   "metadata": {},
   "source": [
    "**(a)** The main research question in the study is: what is the relationship between socio-economic class and unethical behavior? <br>\n",
    "**(b)** The subjects in the study are: 129 University of California undergraduates at Berkeley. <br>\n",
    "**(c)** The variables in the study are: money (ordinal categorical), education (ordinal categorical), respected jobs (ordinal categorical), candies taken (discrete numerical)"
   ]
  },
  {
   "cell_type": "markdown",
   "metadata": {},
   "source": [
    "### 1.2.7"
   ]
  },
  {
   "cell_type": "markdown",
   "metadata": {},
   "source": [
    "**Explanatory**: received acupuncture specifically designed to treat migraines. <br>\n",
    "**Response**: \"Pain free\" patient response after 24 hours."
   ]
  },
  {
   "cell_type": "markdown",
   "metadata": {},
   "source": [
    "### 1.2.8"
   ]
  },
  {
   "cell_type": "markdown",
   "metadata": {},
   "source": [
    "**Explanatory**: received 10-day course of antibiotic. <br>\n",
    "**Response**: \"Improvement in symptoms\" patient response (at end of 10 days)."
   ]
  },
  {
   "cell_type": "markdown",
   "metadata": {},
   "source": [
    "### 1.2.9"
   ]
  },
  {
   "cell_type": "markdown",
   "metadata": {},
   "source": [
    "**(a)** There are a total of 150 cases in the data set (50 from each species times 3 species). <br>\n",
    "**(b)** The numerical variables in the study are: sepal length (continuous numerical), sepal width (continuous numerical), petal length (continuous numerical), petal width (continuous numerical). <br>\n",
    "**(c)** The categorical variables in the study are: species (nominal categorical, levels: setosa, versicolor, virginica)."
   ]
  },
  {
   "cell_type": "markdown",
   "metadata": {},
   "source": [
    "### 1.2.10"
   ]
  },
  {
   "cell_type": "markdown",
   "metadata": {},
   "source": [
    "**(a)** Each row in the data matrix represents a UK resident. <br>\n",
    "**(b)** There are a total of 1691 participants in the survey. <br>\n",
    "**(c)** sex (nominal categorical), age (discrete numerical), marital (nominal categorical), grossIncome (ordinal categorical), smoke (boolean), amtWeekends (ordinal categorical), amtWeekdays (ordinal categorical)."
   ]
  },
  {
   "cell_type": "markdown",
   "metadata": {},
   "source": [
    "### 1.2.11"
   ]
  },
  {
   "cell_type": "markdown",
   "metadata": {},
   "source": [
    "**(a)** The variables used in creating the visualization are: latitude, longitude, privately vs publicly owned, private vs public use. <br>\n",
    "**(b)** latitude (continuous numerical), longitude (continuous numerical), ownership (nominal categorical), use (nominal categorical)"
   ]
  },
  {
   "cell_type": "markdown",
   "metadata": {},
   "source": [
    "### 1.2.12"
   ]
  },
  {
   "cell_type": "markdown",
   "metadata": {},
   "source": [
    "**(a)** country, year, percent voted yes, issue.\n",
    "**(b)** country (nominal categorical), year (discrete numerical), percent voted yes (continuous numerical), issue (nominal categorical)"
   ]
  },
  {
   "cell_type": "markdown",
   "metadata": {},
   "source": [
    "## 1.3: Sampling Principles and Strategies"
   ]
  },
  {
   "cell_type": "markdown",
   "metadata": {},
   "source": [
    "A **sample** is a subset of the cases in a target **population**. In studies, a sample is often a small fraction of the population because it is easier to collect a small, representative sample of a population than collect records of every case in the population."
   ]
  },
  {
   "cell_type": "markdown",
   "metadata": {},
   "source": [
    "Data collected in a haphazard fashion is **anecdotal evidence**. That evidence may be true or verifiable, but only represent extraordinary cases. If a man eats swordfish and gets mercury poisoning, this does not indicate that the average mercury content in swordfish is dangerously high. Anecdotal evidence is also typically composed of unusual cases that are remembered *because* they are so striking. "
   ]
  },
  {
   "cell_type": "markdown",
   "metadata": {},
   "source": [
    "**Simple random sample**: like a raffle ticket system, cases are chosen from the population entirely randomly."
   ]
  },
  {
   "cell_type": "markdown",
   "metadata": {},
   "source": [
    "One of the most common problems in simple random samples is **non-response bias** - if only a fraction of the people surveyed actually respond, it is unclear whether these responses are representative of the population. This problem is difficult, and often impossible, to solve."
   ]
  },
  {
   "cell_type": "markdown",
   "metadata": {},
   "source": [
    "Another common problem is a **convenience sample**, where individuals who are easily accessible are more likely to be included in the sample. People sampled from those walking around in Times Square is not representative of all people in New York City."
   ]
  },
  {
   "cell_type": "markdown",
   "metadata": {},
   "source": [
    "In the context of data, **observational data** is like an observational study - no treatment has been explicitly applied or withheld. Making causal conclusions based on observations is not recommended; it can only reasonably provide associations or help form hypotheses for later experiments."
   ]
  },
  {
   "cell_type": "markdown",
   "metadata": {},
   "source": [
    "As touched on previously, **confounding variables** have an impact on variable relationships between two variables and may explain more about the response variable than the explanatory variable. Sunscreen use and skin cancer have an association, but that does not account for the confounding variable of sun exposure - sunscreen users are more likely to be outside in the sun, and more sun exposure is more likely to cause skin cancer."
   ]
  },
  {
   "cell_type": "markdown",
   "metadata": {},
   "source": [
    "There are two types of observational study:\n",
    "\n",
    "**Prospective study**: identifies individuals and collects information as events unfold. Prospective studies generally have more flexibility and customization for data collection, since individuals can be tested, questioned, etc. as the study progresses. <br>\n",
    "**Retrospective study**: collects data after events have taken place. Retrospective studies do not have the breadth of data collection options available to researchers in prospective studies, but retrospective studies take less resources to accomplish. <br>\n",
    "\n",
    "Maintain an awareness that data sets may contain information from both kinds of studies."
   ]
  },
  {
   "cell_type": "markdown",
   "metadata": {},
   "source": [
    "There are 4 main sampling methods:\n",
    "\n",
    "- **Simple Random Sampling**: As discussed before, this type of sampling is the simplest - cases are selected into a sample from a population by pure random chance.\n",
    "- **Stratified Sampling**: A population is divided into groups, or **strata**, so that similar cases are grouped together. Then simple random sampling is used *within each strata*.\n",
    "- **Cluster Sampling**: A population is divided into groups, or **clusters**, so that similar cases are grouped together. Then simple random sampling is used *to select a fixed number of clusters*.\n",
    "- **Multistage Sampling**: A combination of stratified and cluster sampling. The population is divided into groups, then random sampling is used to select from the groups, then random sampling is used *again* within each randomly selected group."
   ]
  },
  {
   "cell_type": "markdown",
   "metadata": {},
   "source": [
    "The upside of the fancier techniques like stratified or cluster sampling is that it is more economical (and often easier) to obtain valid data. The downside is that more advanced techniques are required to analyze it properly."
   ]
  },
  {
   "cell_type": "markdown",
   "metadata": {},
   "source": [
    "## 1.3 Exercises"
   ]
  },
  {
   "cell_type": "markdown",
   "metadata": {},
   "source": [
    "### 1.3.13"
   ]
  },
  {
   "cell_type": "markdown",
   "metadata": {},
   "source": [
    "**(a)** Population of interest: births in Southern California <br>\n",
    "Sample in study: 143,196 births between years 1989 and 1993 <br>\n",
    "**(b)** If the births were randomly sampled, then the results could be generalized to the population. It is unlikely that the year would be a confounding variable. However, a causal relationship cannot be established, only an association, since this is an observational retrospective study."
   ]
  },
  {
   "cell_type": "markdown",
   "metadata": {},
   "source": [
    "### 1.3.14"
   ]
  },
  {
   "cell_type": "markdown",
   "metadata": {},
   "source": [
    "**(a)** The population of interest is not clearly defined, although the characteristics of the cases would suggest that the population is children between the ages of 5 and 15. The sample is 160 children between ages 5 and 15. <br>\n",
    "**(b)** The results of the study can be generalized to the population as long as the children were randomly sampled. The more characteristics the children share, the smaller the scope of the population becomes. The study can be used to establish causal relationships, since this is a prospective experimental study, though the researchers should clearly define a single variable to test for each hypothesis, even if they use the same data across hypotheses."
   ]
  },
  {
   "cell_type": "markdown",
   "metadata": {},
   "source": [
    "### 1.3.15"
   ]
  },
  {
   "cell_type": "markdown",
   "metadata": {},
   "source": [
    "**(a)** The population of interest is asthma patients aged 18-69 who rely on medication for asthma treatment. <br>\n",
    "**(b)** The results of this study can be generalized to the population, since they were randomly assigned into control and treatment groups, and the study can be used to establish causal relationships, since this is an experimental study."
   ]
  },
  {
   "cell_type": "markdown",
   "metadata": {},
   "source": [
    "### 1.3.16"
   ]
  },
  {
   "cell_type": "markdown",
   "metadata": {},
   "source": [
    "**(a)** The population of interest is not clearly defined, although the characteristics of the cases would suggest that the population is University of California Berkeley undergraduates. The study is probably attempting to use their sample to make inferences about other populations, though it does not address confounding variables for other populations. <br>\n",
    "The sample is 129 University of California Berkeley undergraduates. <br>\n",
    "**(b)** The results of the study can be generalized to the UCB undergrads, though making inferences about populations beyond this may be treacherous since confounding variables might exist, such as such as age (undergraduates are generally 18-21, and perhaps as people age, they are more or less ethical), location (perhaps Californians act more or less ethically than others), or economic circumstance (those attending college generally come from moderately affluent families). <br>\n",
    "The study can be used to establish causal relationships, since this is an experimental study."
   ]
  },
  {
   "cell_type": "markdown",
   "metadata": {},
   "source": [
    "### 1.3.17"
   ]
  },
  {
   "cell_type": "markdown",
   "metadata": {},
   "source": [
    "**(a)** observation <br>\n",
    "**(b)** variable <br>\n",
    "**(c)** sample statistic <br>\n",
    "**(d)** population parameter"
   ]
  },
  {
   "cell_type": "markdown",
   "metadata": {},
   "source": [
    "### 1.3.18"
   ]
  },
  {
   "cell_type": "markdown",
   "metadata": {},
   "source": [
    "**(a)** population parameter <br>\n",
    "**(b)** sample statistic <br>\n",
    "**(c)** observation <br>\n",
    "**(d)** variable"
   ]
  },
  {
   "cell_type": "markdown",
   "metadata": {},
   "source": [
    "### 1.3.19"
   ]
  },
  {
   "cell_type": "markdown",
   "metadata": {},
   "source": [
    "**(a)** Prospective observational study <br>\n",
    "**(b)** Stratified sampling is likely the best strategy for this study. The strata are the 4 groups of different lab sections with 40 students each, then randomly survey 10-15 students from each class."
   ]
  },
  {
   "cell_type": "markdown",
   "metadata": {},
   "source": [
    "### 1.3.20\n",
    "\n",
    "**(a)** Prospective observational study <br>\n",
    "**(b)** Stratified sampling is likely the best strategy for this study. The strata are the groups living on either side of campus (freshmen/sophomores, juniors/seniors), then randomly survey an equal number of students from each strata. Ideally, there would be 4 strata (one for each year) but it is more economical and practical to sample randomly from only the two groups."
   ]
  },
  {
   "cell_type": "markdown",
   "metadata": {},
   "source": [
    "### 1.3.21"
   ]
  },
  {
   "cell_type": "markdown",
   "metadata": {},
   "source": [
    "**(a)** There appears to be a logarithmic (positive) relationship between life expectancy and percentage of internet users. <br>\n",
    "**(b)** Retrospective observational study <br>\n",
    "**(c)** Countries with a higher percentage of internet users also might have access to better quality of life overall, including better shelter, food, electricity, healthcare, etc. Quality of life variables (unsurprisingly) have a profound impact on life expectancy."
   ]
  },
  {
   "cell_type": "markdown",
   "metadata": {},
   "source": [
    "### 1.3.22"
   ]
  },
  {
   "cell_type": "markdown",
   "metadata": {},
   "source": [
    "**(a)** Prospective observational study <br>\n",
    "**(b)** No causal relationship can be concluded, only an association, since this is an observational study. <br>\n",
    "**(c)** Drinking coffee and sleeping less may be confounding variables, since coffee (caffeine) dehydrates the body, leading to muscle cramps, and sleeping less has a myriad of negative health effects which may include muscle cramps."
   ]
  },
  {
   "cell_type": "markdown",
   "metadata": {},
   "source": [
    "### 1.3.23"
   ]
  },
  {
   "cell_type": "markdown",
   "metadata": {},
   "source": [
    "**(a)** The method is reasonable. It is likely to be representative of the undergraduate student body. <br>\n",
    "**(b)** This method is reasonable, but unnecessary. Field of study is unlikely to have a significant impact on how students react to improving the student union. <br>\n",
    "**(c)** This method is unreasonable. Because age generally determines year in school (freshmen, etc.), the method would be blind to entire sections of the student body, and therefore, unrepresentative."
   ]
  },
  {
   "cell_type": "markdown",
   "metadata": {},
   "source": [
    "### 1.3.24"
   ]
  },
  {
   "cell_type": "markdown",
   "metadata": {},
   "source": [
    "Choosing to source phone numbers from a phone book would exclude the portion of the population that does not have their phone number in the phone book (by intentional exclusion or otherwise)."
   ]
  },
  {
   "cell_type": "markdown",
   "metadata": {},
   "source": [
    "### 1.3.25"
   ]
  },
  {
   "cell_type": "markdown",
   "metadata": {},
   "source": [
    "**(a)** The cases are 200 randomly sampled men and women. <br>\n",
    "**(b)** The response variable is \"reacting positively\" or \"reacting negatively\" to the microwave oven. <br>\n",
    "**(c)** The explanatory variable is \"reacting positively\" or \"reacting negatively\" to the \"dispositional attitute measurement\", or, a variety of independent discussion subjects / stimuli. <br>\n",
    "**(d)** The study claims to employ random sampling for the 200 male or female subjects / cases. <br>\n",
    "**(e)** This is an observational study. The study does not establish a control group and treatment group. The study only observes reactions to a set of independent stimuli, and then the stimuli of interest. <br>\n",
    "**(f)** We cannot establish a causal link between the explanatory and response variables, only a correlation / relationship. <br>\n",
    "**(g)** The results of the study can be generalized to the population at large, since the 200 male or female subjects / cases were randomly sampled."
   ]
  },
  {
   "cell_type": "markdown",
   "metadata": {},
   "source": [
    "### 1.3.26"
   ]
  },
  {
   "cell_type": "markdown",
   "metadata": {},
   "source": [
    "This will not be a good measure of household size. Gathering household size data from students at an elementary school, rather than sampling the larger population, will oversample (and have a bias towards) the portion of the population who have children in elementary school. Households with children (such as elementary school students) will generally have a larger household size than households with no children. As a result, our sample will overestimate the true value of average household size."
   ]
  },
  {
   "cell_type": "markdown",
   "metadata": {},
   "source": [
    "### 1.3.27"
   ]
  },
  {
   "cell_type": "markdown",
   "metadata": {},
   "source": [
    "**(a)** The sampling method is simple random sampling. We might expect self-selection bias, since we will be oversampling the portion of the survey-receivers who actually fill out the survey (and are present the next day to return it). Our results may be impacted because students who are not present the next day (or are not present to receive the survey) may not be present for their classes, and so their school performance might suffer. <br>\n",
    "**(b)** The sampling method is (technically) cluster sampling. We might expect convenience bias, since he is providing the survey to only his friends. The results will only capture a statistic representative of his friends, and cannot be generalized to the population as a whole. <br>\n",
    "**(c)** The sampling method is (technically) cluster sampling. We might expect self-selection and convenience bias, since only his Facebook friends are being sampled, and we will only receive results relevant to his Facebook friends, and only those who fill out the survey. This sample is expected to be highly confounding, since he is posting the survey to social media, and the study is using \"time on social networking sites\" as an independent variable. <br>\n",
    "**(d)** The sampling method is multistage sampling (cluster then simple random). We might expect self-selection bias. The results will only capture those students who complete and return the survey. If the sampling method requires him to present surveys to only those students physically present in the class (rather than from a registration roster) then the results will also suffer from survivorship bias, since only students who are present for the class will be presented the option to complete the survey."
   ]
  },
  {
   "cell_type": "markdown",
   "metadata": {},
   "source": [
    "### 1.3.28"
   ]
  },
  {
   "cell_type": "markdown",
   "metadata": {},
   "source": [
    "**(a)** Based on the study, we cannot conclude that smoking *causes* dementia, only that there is a relationship. The study only gathers data from a survey of health plan members and then observes how many of each group developed dementia. The study does not create a randomized control and treatment group, nor does it affect the treatment group, which are necessary for an experiment, and therefore, to establish plausible causality. <br>\n",
    "**(b)** This is an observational study, which cannot establish causality (as an experiment can). We cannot conclude that sleep disorders lead to bullying in students; it is possible that bullying causes sleep disorders, or some other variable(s) which is causing both."
   ]
  },
  {
   "cell_type": "markdown",
   "metadata": {},
   "source": [
    "## 1.4: Experiments"
   ]
  },
  {
   "cell_type": "markdown",
   "metadata": {},
   "source": [
    "**Experiments** are studies where researchers assign treatments to cases. When the assignment to treatment or control group is randomized, it is a **randomized experiment**.\n",
    "\n",
    "Randomized experiments generally adhere to four principles:\n",
    "1. Controlling: Researchers *control* who receives the treatments, and who does not.\n",
    "2. Randomization: The cases are assigned *randomly* into the treatment or control groups to help mitigate the results being affected by confounding variables by \"averaging out\" any differences between the groups and cases.\n",
    "3. Replication: In a single study, **replication** is collecting a sufficiently large sample to be confident in the study's results. A study's procedures should also be reproduceable to verify the study's findings.\n",
    "4. Blocking: Sometimes there are variables which are known or suspected to influence the response. Like clustering, researchers may **block** patients into sub-groups, then randomly assign from those sub-groups into the treatment and control groups. This strategy ensures that each group has an equal number of cases with the outside influencing variable."
   ]
  },
  {
   "cell_type": "markdown",
   "metadata": {},
   "source": [
    "A **treatment group** receives a treatment, or affectation from the researchers. The **control group** is unaffected."
   ]
  },
  {
   "cell_type": "markdown",
   "metadata": {},
   "source": [
    "An unintentionial form of bias is that the treatment group may believe that the treatment might help (or hinder) them - and this belief may alter the effects of the treatment. In some cases, it is beneficial to keep patients **blind**, or prevent patients from knowing about their treatment. <br>\n",
    "It may be impossible to prevent a group from knowing that they are in the control group (if they were in the treatment group, they would have received a treatment), so they are provided a **placebo**, or fake treatment. Sometimes a placebo is enough to provide a real improvement in patients - the **placebo effect**. <br>\n",
    "When researchers or others who know about the study interact with patients, they may accidentally bias the study by focusing more on treated patients, or may provide information to a patient that indicates their placement in the treatment group. To mitigate this bias, **double blind** experiments ensure that researchers or others who interact with patients are unaware of who is placed in each group."
   ]
  },
  {
   "cell_type": "markdown",
   "metadata": {},
   "source": [
    "In some medical studies, a surgery is required on the treatment group, and to keep the control group blinded, they control group often undergoes a **sham surgery**, where the patient undergoes surgery, but does not receive the full treatment."
   ]
  },
  {
   "cell_type": "markdown",
   "metadata": {},
   "source": [
    "## 1.4 Exercises"
   ]
  },
  {
   "cell_type": "markdown",
   "metadata": {},
   "source": [
    "### 1.4.29"
   ]
  },
  {
   "cell_type": "markdown",
   "metadata": {},
   "source": [
    "**(a)** The response variable is exam performance. <br>\n",
    "**(b)** The explanatory variable is light level. The levels are florescent overhead lighting, yellow overhead lighting, and no overhead lighting. <br>\n",
    "**(c)** The blocking variable is gender. The levels are male and female."
   ]
  },
  {
   "cell_type": "markdown",
   "metadata": {},
   "source": [
    "### 1.4.30"
   ]
  },
  {
   "cell_type": "markdown",
   "metadata": {},
   "source": [
    "**(a)** This study is an experiment because the cases were distributed to treatment and control groups. <br>\n",
    "**(b)** The explanatory variable is the dosage of vitamin C. The response variable is duration of cold symptoms. <br>\n",
    "**(c)** The patients were blinded to their treatment, because all groups were provided tablets, and all tablets were identical in appearance. <br>\n",
    "**(d)** The study was partially double-blinded because the researchers assessing patients' symptoms were not aware of the patients' groups, but the nurses who handed the pills to the patients were aware. The experiment is sufficiently double-blinded, since the nurse interaction with patients is minimal, while researchers record patient symptoms, and so they may affect the response variable if not blinded. <br>\n",
    "**(e)** Yes, this introduces a form of self-selection bias into the study, as the patients who are assigned a treatment, and do not take it, will share the symptom duration of the control group, even though the patient's results are being recorded in the treatment group."
   ]
  },
  {
   "cell_type": "markdown",
   "metadata": {},
   "source": [
    "### 1.4.31"
   ]
  },
  {
   "cell_type": "markdown",
   "metadata": {},
   "source": [
    "**(a)** This is an experiment, since treatments are being assigned to cases. <br>\n",
    "**(b)** There are 9 factors being considered in the study, the combinations of each light level and noise level, with the control group being no overhead lighting and no noise. <br>\n",
    "**(c)** The sex variable is a blocking variable. Cases are separated prior to assigning treatment because the researcher believes the light and noise levels may have a different impact on males vs females."
   ]
  },
  {
   "cell_type": "markdown",
   "metadata": {},
   "source": [
    "### 1.4.32"
   ]
  },
  {
   "cell_type": "markdown",
   "metadata": {},
   "source": [
    "Students will be randomly placed into one of three groups: no music, music no lyrics, and music with lyrics. The groups will be placed into different rooms, which will be playing the kind of music (or no music) specific to the group. All students will be provided an amount of time (15 minutes) to read a passage of text. After the 15 minutes, all students will be provided an exam of the same questions about the content of the passage."
   ]
  },
  {
   "cell_type": "markdown",
   "metadata": {},
   "source": [
    "### 1.4.33"
   ]
  },
  {
   "cell_type": "markdown",
   "metadata": {},
   "source": [
    "Students will be randomly separated into two groups, and form a line. Each student will be provided a set of two identical cans, and a cup of water. One can contains diet coke, and the other contains regular coke. Only the researchers will know what drink is in each can. Students in the first group will drink from the water cup (to cleanse the palette) from the left can, then the water again (to cleanse the palette), then the right can. Students in the second group will do the same, except they will drink from the right can first. Each student will then choose which drink they prefer more."
   ]
  },
  {
   "cell_type": "markdown",
   "metadata": {},
   "source": [
    "### 1.4.34"
   ]
  },
  {
   "cell_type": "markdown",
   "metadata": {},
   "source": [
    "**(a)** This is an experiment. There is a treatment being applied, and a control group. <br>\n",
    "**(b)** The treatment group is the group exercising twice a week. The control group is the group not exercising. <br>\n",
    "**(c)** The study makes use of blocking. The blocking variable is age. <br>\n",
    "**(d)** The study does not make use of blinding; both groups know which group they are in. <br>\n",
    "**(e)** The results of the study can be used to establish a causal relationship, since a single treatment is being applied, and random sampling is being used to mitigate confounding variables. It is important to note that the study, in its current form, can only establish causation *generally* with respect to exercise, since the study does not specify what kind of exercise the patients are required to perform. Conclusions can be generalized to the population at large, since random sampling and representative proportions are being used. It is important to note that the findings cannot be generalized to populations outside the 18-55 age range. <br>\n",
    "**(f)** Before I funded the study, I would want to ensure that the mental health exam is filled out by the patients directly, since administering the exam via a health professional or researcher who knows the patient's (treatment/control) group, or could easily figure it out from interacting with the patients, could introduce unnecessary bias in the study. I would also define a specific, light-to-moderate exercise regimen for the exercise group, as the intensity or type of exercise could impact mental health differently (especially on different age groups). "
   ]
  },
  {
   "attachments": {},
   "cell_type": "markdown",
   "metadata": {},
   "source": [
    "# Chapter 2: Summarizing Data"
   ]
  },
  {
   "cell_type": "markdown",
   "metadata": {},
   "source": [
    "## 2.1 Examining numerical data"
   ]
  },
  {
   "cell_type": "markdown",
   "metadata": {},
   "source": [
    "A **scatterplot** is a case-by-case view of data for two (or more) numerical variables."
   ]
  },
  {
   "cell_type": "code",
   "execution_count": 18,
   "metadata": {},
   "outputs": [
    {
     "data": {
      "image/png": "[encoded data removed]",
      "text/plain": [
       "<Figure size 500x500 with 1 Axes>"
      ]
     },
     "metadata": {},
     "output_type": "display_data"
    }
   ],
   "source": [
    "warnings.filterwarnings('ignore')\n",
    "\n",
    "# scatterplot of borrower total income vs amount borrowed\n",
    "loan50 = pd.read_csv(\"OI_Resources/loan50.csv\")\n",
    "\n",
    "sns.relplot(\n",
    "    data= loan50,\n",
    "    x= 'total_income',\n",
    "    y= 'loan_amount'\n",
    ");\n",
    "\n",
    "warnings.filterwarnings('default')"
   ]
  },
  {
   "cell_type": "code",
   "execution_count": 21,
   "metadata": {},
   "outputs": [
    {
     "data": {
      "image/png": "[encoded data removed]",
      "text/plain": [
       "<Figure size 500x500 with 1 Axes>"
      ]
     },
     "metadata": {},
     "output_type": "display_data"
    }
   ],
   "source": [
    "warnings.filterwarnings('ignore')\n",
    "\n",
    "# scatterplot of median household income vs poverty rate for US counties\n",
    "county = pd.read_csv(\"OI_Resources/county.csv\")\n",
    "\n",
    "sns.relplot(\n",
    "    data= county,\n",
    "    x= 'poverty',\n",
    "    y= 'median_hh_income'\n",
    ");\n",
    "\n",
    "warnings.filterwarnings('default')"
   ]
  },
  {
   "cell_type": "markdown",
   "metadata": {},
   "source": [
    "The figure above has a slight curvature, indicating that the relationship between the two variables is **nonlinear**."
   ]
  },
  {
   "cell_type": "markdown",
   "metadata": {},
   "source": [
    "The **mean**, or **average**, is a common way to measure the center of a distribution of data.\n",
    "\n",
    "$ \\bar{x} = \\frac{x_1 + x_2 + ... + x_n}{n} $, where\n",
    "\n",
    "$ \\bar{x} $ is the mean, <br>\n",
    "$ x_i $ is the data point, and <br>\n",
    "$ n $ is the number of data points."
   ]
  },
  {
   "attachments": {},
   "cell_type": "markdown",
   "metadata": {},
   "source": [
    "# Chapter 3: Probability"
   ]
  },
  {
   "attachments": {},
   "cell_type": "markdown",
   "metadata": {},
   "source": [
    "# Chapter 4: Distributions of Random Variables"
   ]
  },
  {
   "cell_type": "code",
   "execution_count": 11,
   "metadata": {},
   "outputs": [],
   "source": [
    "# probability of finding first success in \n",
    "# Nth trial if\n",
    "# P is probability of success and\n",
    "# 1-P is probability of failure\n",
    "def geometric_distribution(p:float, n:int):\n",
    "    from math import sqrt\n",
    "\n",
    "    probability = p * (1-p)**(n-1)\n",
    "    mean = 1 / p\n",
    "    variance = (1-p)/(p**2)\n",
    "    std = math.sqrt(variance)\n",
    "\n",
    "    return probability, mean, variance, std"
   ]
  },
  {
   "cell_type": "code",
   "execution_count": 12,
   "metadata": {},
   "outputs": [
    {
     "name": "stdout",
     "output_type": "stream",
     "text": [
      "1.43\n"
     ]
    }
   ],
   "source": [
    "# GP 4.23\n",
    "print(round(1/0.7, 2))"
   ]
  },
  {
   "cell_type": "code",
   "execution_count": 13,
   "metadata": {},
   "outputs": [
    {
     "name": "stdout",
     "output_type": "stream",
     "text": [
      "0.973\n",
      "0.973\n"
     ]
    }
   ],
   "source": [
    "prob = 0.7\n",
    "p_list = []\n",
    "for i in range(1, 4):\n",
    "    p, mu, sigma, std = geometric_distribution(prob, i)\n",
    "    p_list.append(p)\n",
    "print(sum(p_list))\n",
    "p_complement = (1-prob)**3\n",
    "print(1-p_complement)"
   ]
  },
  {
   "cell_type": "code",
   "execution_count": 14,
   "metadata": {},
   "outputs": [
    {
     "name": "stdout",
     "output_type": "stream",
     "text": [
      "0.25 4.0 3.4641016151377544\n"
     ]
    }
   ],
   "source": [
    "# 4.11a\n",
    "prob = 0.25\n",
    "mu = 1 / prob\n",
    "std = math.sqrt((1-prob)/(prob**2))\n",
    "print(prob, mu, std)"
   ]
  },
  {
   "cell_type": "code",
   "execution_count": 15,
   "metadata": {},
   "outputs": [
    {
     "name": "stdout",
     "output_type": "stream",
     "text": [
      "0.16666666666666666 6.0 5.477225575051661\n"
     ]
    }
   ],
   "source": [
    "#4.11b\n",
    "prob = 1/6\n",
    "mu = 1 / prob\n",
    "std = math.sqrt((1-prob)/(prob**2))\n",
    "print(prob, mu, std)"
   ]
  },
  {
   "cell_type": "code",
   "execution_count": 16,
   "metadata": {},
   "outputs": [
    {
     "name": "stdout",
     "output_type": "stream",
     "text": [
      "0.25\n",
      "0.2222222222222222\n"
     ]
    }
   ],
   "source": [
    "#4.12a\n",
    "with_replacement = (5/10)**2\n",
    "without_replacement = (5/10) * (4/9)\n",
    "\n",
    "print(with_replacement)\n",
    "print(without_replacement)"
   ]
  },
  {
   "cell_type": "code",
   "execution_count": 17,
   "metadata": {},
   "outputs": [
    {
     "name": "stdout",
     "output_type": "stream",
     "text": [
      "0.25\n",
      "0.24997499749974997\n"
     ]
    }
   ],
   "source": [
    "#4.12b\n",
    "with_replacement = (5000/10000)**2\n",
    "without_replacement = (5000/10000) * (4999/9999)\n",
    "\n",
    "print(with_replacement)\n",
    "print(without_replacement)"
   ]
  },
  {
   "cell_type": "code",
   "execution_count": 18,
   "metadata": {},
   "outputs": [
    {
     "name": "stdout",
     "output_type": "stream",
     "text": [
      "0.095703125\n"
     ]
    }
   ],
   "source": [
    "#4.13a\n",
    "blue_eyes = 0.125\n",
    "brown_eyes = 0.75\n",
    "green_eyes = 0.125\n",
    "\n",
    "n_children = 3\n",
    "\n",
    "prob = (1-blue_eyes)**(n_children-1) * blue_eyes\n",
    "print(prob)"
   ]
  },
  {
   "cell_type": "code",
   "execution_count": 19,
   "metadata": {},
   "outputs": [
    {
     "name": "stdout",
     "output_type": "stream",
     "text": [
      "8.0 7.483314773547883\n"
     ]
    }
   ],
   "source": [
    "#4.13b\n",
    "mu = 1 / blue_eyes\n",
    "std = math.sqrt((1-blue_eyes)/(blue_eyes**2))\n",
    "print(mu, std)"
   ]
  },
  {
   "cell_type": "code",
   "execution_count": 20,
   "metadata": {},
   "outputs": [
    {
     "name": "stdout",
     "output_type": "stream",
     "text": [
      "0.016674955242602995\n"
     ]
    }
   ],
   "source": [
    "#4.14a\n",
    "defect = 0.02\n",
    "n_failure = 10\n",
    "\n",
    "prob = (1-defect)**(n_failure-1) * defect\n",
    "print(prob)"
   ]
  },
  {
   "cell_type": "code",
   "execution_count": 21,
   "metadata": {},
   "outputs": [
    {
     "name": "stdout",
     "output_type": "stream",
     "text": [
      "0.13261955589475294\n"
     ]
    }
   ],
   "source": [
    "#4.14b\n",
    "prob = (1-defect)**100\n",
    "print(prob)"
   ]
  },
  {
   "cell_type": "code",
   "execution_count": 22,
   "metadata": {},
   "outputs": [
    {
     "name": "stdout",
     "output_type": "stream",
     "text": [
      "50.0 49.49747468305833\n"
     ]
    }
   ],
   "source": [
    "#4.14c\n",
    "mu = 1 / defect\n",
    "std = math.sqrt((1-defect)/(defect**2))\n",
    "print(mu, std)"
   ]
  },
  {
   "cell_type": "code",
   "execution_count": 23,
   "metadata": {},
   "outputs": [
    {
     "name": "stdout",
     "output_type": "stream",
     "text": [
      "20.0 19.493588689617926\n"
     ]
    }
   ],
   "source": [
    "# 4.14d\n",
    "defect = 0.05\n",
    "mu = 1 / defect\n",
    "std = math.sqrt((1-defect)/(defect**2))\n",
    "print(mu, std)"
   ]
  },
  {
   "cell_type": "code",
   "execution_count": 24,
   "metadata": {},
   "outputs": [],
   "source": [
    "# probability of finding k successes in n trials\n",
    "def binomial_distribution(p:float, n:int, k:int):\n",
    "    prob = math.comb(n, k) * (p**k) * ((1-p)**(n-k))\n",
    "    mu = n * p\n",
    "    var = n * p * (1-p)\n",
    "    std = math.sqrt(var)\n",
    "\n",
    "    return prob, mu, var, std"
   ]
  },
  {
   "cell_type": "code",
   "execution_count": 25,
   "metadata": {},
   "outputs": [
    {
     "name": "stdout",
     "output_type": "stream",
     "text": [
      "(0.25412184000000004, 5.6, 1.6800000000000002, 1.2961481396815722)\n"
     ]
    }
   ],
   "source": [
    "p = 0.7\n",
    "n = 8\n",
    "k = 5\n",
    "\n",
    "results = [binomial_distribution(p, n, k)]\n",
    "\n",
    "print(results[0])"
   ]
  },
  {
   "cell_type": "code",
   "execution_count": null,
   "metadata": {},
   "outputs": [],
   "source": []
  }
 ],
 "metadata": {
  "kernelspec": {
   "display_name": "venv",
   "language": "python",
   "name": "python3"
  },
  "language_info": {
   "codemirror_mode": {
    "name": "ipython",
    "version": 3
   },
   "file_extension": ".py",
   "mimetype": "text/x-python",
   "name": "python",
   "nbconvert_exporter": "python",
   "pygments_lexer": "ipython3",
   "version": "3.10.11"
  },
  "orig_nbformat": 4
 },
 "nbformat": 4,
 "nbformat_minor": 2
}
