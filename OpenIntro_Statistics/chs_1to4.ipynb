{
 "cells": [
  {
   "cell_type": "code",
   "execution_count": 1,
   "metadata": {},
   "outputs": [],
   "source": [
    "import math\n",
    "import numpy as np\n",
    "import pandas as pd\n",
    "import seaborn as sns\n",
    "\n",
    "from scipy.stats import norm"
   ]
  },
  {
   "attachments": {},
   "cell_type": "markdown",
   "metadata": {},
   "source": [
    "# Chapter 1: Introduction to Data"
   ]
  },
  {
   "cell_type": "markdown",
   "metadata": {},
   "source": [
    "## 1.1 Case Study: using stents to prevent strokes"
   ]
  },
  {
   "cell_type": "code",
   "execution_count": 2,
   "metadata": {},
   "outputs": [
    {
     "name": "stdout",
     "output_type": "stream",
     "text": [
      "(451, 2) (451, 2) (451, 3)\n"
     ]
    },
    {
     "data": {
      "text/html": [
       "<div>\n",
       "<style scoped>\n",
       "    .dataframe tbody tr th:only-of-type {\n",
       "        vertical-align: middle;\n",
       "    }\n",
       "\n",
       "    .dataframe tbody tr th {\n",
       "        vertical-align: top;\n",
       "    }\n",
       "\n",
       "    .dataframe thead th {\n",
       "        text-align: right;\n",
       "    }\n",
       "</style>\n",
       "<table border=\"1\" class=\"dataframe\">\n",
       "  <thead>\n",
       "    <tr style=\"text-align: right;\">\n",
       "      <th></th>\n",
       "      <th>group</th>\n",
       "      <th>0_to_30_days</th>\n",
       "      <th>0_to_365_days</th>\n",
       "    </tr>\n",
       "  </thead>\n",
       "  <tbody>\n",
       "    <tr>\n",
       "      <th>257</th>\n",
       "      <td>control</td>\n",
       "      <td>no event</td>\n",
       "      <td>no event</td>\n",
       "    </tr>\n",
       "    <tr>\n",
       "      <th>418</th>\n",
       "      <td>control</td>\n",
       "      <td>no event</td>\n",
       "      <td>no event</td>\n",
       "    </tr>\n",
       "    <tr>\n",
       "      <th>171</th>\n",
       "      <td>treatment</td>\n",
       "      <td>no event</td>\n",
       "      <td>no event</td>\n",
       "    </tr>\n",
       "    <tr>\n",
       "      <th>328</th>\n",
       "      <td>control</td>\n",
       "      <td>no event</td>\n",
       "      <td>no event</td>\n",
       "    </tr>\n",
       "    <tr>\n",
       "      <th>121</th>\n",
       "      <td>treatment</td>\n",
       "      <td>no event</td>\n",
       "      <td>no event</td>\n",
       "    </tr>\n",
       "    <tr>\n",
       "      <th>410</th>\n",
       "      <td>control</td>\n",
       "      <td>no event</td>\n",
       "      <td>no event</td>\n",
       "    </tr>\n",
       "    <tr>\n",
       "      <th>143</th>\n",
       "      <td>treatment</td>\n",
       "      <td>no event</td>\n",
       "      <td>no event</td>\n",
       "    </tr>\n",
       "    <tr>\n",
       "      <th>335</th>\n",
       "      <td>control</td>\n",
       "      <td>no event</td>\n",
       "      <td>no event</td>\n",
       "    </tr>\n",
       "  </tbody>\n",
       "</table>\n",
       "</div>"
      ],
      "text/plain": [
       "         group 0_to_30_days 0_to_365_days\n",
       "257    control     no event      no event\n",
       "418    control     no event      no event\n",
       "171  treatment     no event      no event\n",
       "328    control     no event      no event\n",
       "121  treatment     no event      no event\n",
       "410    control     no event      no event\n",
       "143  treatment     no event      no event\n",
       "335    control     no event      no event"
      ]
     },
     "metadata": {},
     "output_type": "display_data"
    }
   ],
   "source": [
    "# retrieve datasets\n",
    "stent30 = pd.read_csv(\n",
    "    'OI_Resources/stent30.csv',\n",
    "    header=0,\n",
    "    names=['group', '0_to_30_days']\n",
    ")\n",
    "stent365 = pd.read_csv(\n",
    "    'OI_Resources/stent365.csv',\n",
    "    header=0,\n",
    "    names= ['group', '0_to_365_days']\n",
    ")\n",
    "\n",
    "# create stents dataset\n",
    "stents = pd.concat(\n",
    "    [stent30, stent365['0_to_365_days']],\n",
    "    axis='columns'\n",
    ")\n",
    "\n",
    "# dataset rows and columns\n",
    "print(stent30.shape, stent365.shape, stents.shape)\n",
    "# sample 8 records\n",
    "display(stents.sample(8))\n",
    "# patient outcomes for treatment groups\n",
    "# display(stents[['group', '0_to_30_days']].value_counts())\n",
    "# display(stents[['group', '0_to_365_days']].value_counts())"
   ]
  },
  {
   "cell_type": "code",
   "execution_count": 3,
   "metadata": {},
   "outputs": [
    {
     "data": {
      "text/html": [
       "<div>\n",
       "<style scoped>\n",
       "    .dataframe tbody tr th:only-of-type {\n",
       "        vertical-align: middle;\n",
       "    }\n",
       "\n",
       "    .dataframe tbody tr th {\n",
       "        vertical-align: top;\n",
       "    }\n",
       "\n",
       "    .dataframe thead th {\n",
       "        text-align: right;\n",
       "    }\n",
       "</style>\n",
       "<table border=\"1\" class=\"dataframe\">\n",
       "  <thead>\n",
       "    <tr style=\"text-align: right;\">\n",
       "      <th>0_to_30_days</th>\n",
       "      <th>no event</th>\n",
       "      <th>stroke</th>\n",
       "    </tr>\n",
       "    <tr>\n",
       "      <th>group</th>\n",
       "      <th></th>\n",
       "      <th></th>\n",
       "    </tr>\n",
       "  </thead>\n",
       "  <tbody>\n",
       "    <tr>\n",
       "      <th>control</th>\n",
       "      <td>214</td>\n",
       "      <td>13</td>\n",
       "    </tr>\n",
       "    <tr>\n",
       "      <th>treatment</th>\n",
       "      <td>191</td>\n",
       "      <td>33</td>\n",
       "    </tr>\n",
       "  </tbody>\n",
       "</table>\n",
       "</div>"
      ],
      "text/plain": [
       "0_to_30_days  no event  stroke\n",
       "group                         \n",
       "control            214      13\n",
       "treatment          191      33"
      ]
     },
     "metadata": {},
     "output_type": "display_data"
    },
    {
     "data": {
      "text/html": [
       "<div>\n",
       "<style scoped>\n",
       "    .dataframe tbody tr th:only-of-type {\n",
       "        vertical-align: middle;\n",
       "    }\n",
       "\n",
       "    .dataframe tbody tr th {\n",
       "        vertical-align: top;\n",
       "    }\n",
       "\n",
       "    .dataframe thead th {\n",
       "        text-align: right;\n",
       "    }\n",
       "</style>\n",
       "<table border=\"1\" class=\"dataframe\">\n",
       "  <thead>\n",
       "    <tr style=\"text-align: right;\">\n",
       "      <th>0_to_365_days</th>\n",
       "      <th>no event</th>\n",
       "      <th>stroke</th>\n",
       "    </tr>\n",
       "    <tr>\n",
       "      <th>group</th>\n",
       "      <th></th>\n",
       "      <th></th>\n",
       "    </tr>\n",
       "  </thead>\n",
       "  <tbody>\n",
       "    <tr>\n",
       "      <th>control</th>\n",
       "      <td>199</td>\n",
       "      <td>28</td>\n",
       "    </tr>\n",
       "    <tr>\n",
       "      <th>treatment</th>\n",
       "      <td>179</td>\n",
       "      <td>45</td>\n",
       "    </tr>\n",
       "  </tbody>\n",
       "</table>\n",
       "</div>"
      ],
      "text/plain": [
       "0_to_365_days  no event  stroke\n",
       "group                          \n",
       "control             199      28\n",
       "treatment           179      45"
      ]
     },
     "metadata": {},
     "output_type": "display_data"
    }
   ],
   "source": [
    "# patient outcomes for treatment groups\n",
    "month_outcomes = pd.crosstab(stents['group'], stents['0_to_30_days'])\n",
    "year_outcomes = pd.crosstab(stents['group'], stents['0_to_365_days'])\n",
    "display(month_outcomes)\n",
    "display(year_outcomes)"
   ]
  },
  {
   "cell_type": "markdown",
   "metadata": {},
   "source": [
    "**Summary statistic**: A single number summarizing a large amount of data."
   ]
  },
  {
   "cell_type": "code",
   "execution_count": 4,
   "metadata": {},
   "outputs": [
    {
     "name": "stdout",
     "output_type": "stream",
     "text": [
      "Proportion of strokes in 1-year control group: 12.33%\n",
      "Proportion of strokes in 1-year treatment group: 20.09%\n",
      "Difference in stroke proportions: 7.76% more strokes in treatment group\n"
     ]
    }
   ],
   "source": [
    "# proportion of patients in control group who had stroke within 1 year\n",
    "year_control_stroke_prop = round((year_outcomes.loc['control', 'stroke']\\\n",
    "/ year_outcomes.loc['control'].sum())*100, 2)\n",
    "# proportion of patients in treatment group who had stroke within 1 year\n",
    "year_treatment_stroke_prop = round((year_outcomes.loc['treatment', 'stroke']\\\n",
    "/ year_outcomes.loc['treatment'].sum())*100, 2)\n",
    "\n",
    "print('Proportion of strokes in 1-year control group:', f'{year_control_stroke_prop}%')\n",
    "print('Proportion of strokes in 1-year treatment group:', f'{year_treatment_stroke_prop}%')\n",
    "\n",
    "# difference in proportions (treatment - control)\n",
    "year_stroke_prop_difference = year_treatment_stroke_prop - year_control_stroke_prop\n",
    "\n",
    "print('Difference in stroke proportions:',\\\n",
    "    f'{abs(year_stroke_prop_difference)}%',\\\n",
    "    'more strokes in',\\\n",
    "    'treatment' if year_stroke_prop_difference >= 0 else 'control',\n",
    "    'group'\n",
    ")"
   ]
  },
  {
   "cell_type": "markdown",
   "metadata": {},
   "source": [
    "## 1.1 Exercises"
   ]
  },
  {
   "cell_type": "code",
   "execution_count": null,
   "metadata": {},
   "outputs": [],
   "source": []
  },
  {
   "attachments": {},
   "cell_type": "markdown",
   "metadata": {},
   "source": [
    "# Chapter 2: Summarizing Data"
   ]
  },
  {
   "attachments": {},
   "cell_type": "markdown",
   "metadata": {},
   "source": [
    "# Chapter 3: Probability"
   ]
  },
  {
   "attachments": {},
   "cell_type": "markdown",
   "metadata": {},
   "source": [
    "# Chapter 4: Distributions of Random Variables"
   ]
  },
  {
   "cell_type": "code",
   "execution_count": 5,
   "metadata": {},
   "outputs": [],
   "source": [
    "# probability of finding first success in \n",
    "# Nth trial if\n",
    "# P is probability of success and\n",
    "# 1-P is probability of failure\n",
    "def geometric_distribution(p:float, n:int):\n",
    "    from math import sqrt\n",
    "\n",
    "    probability = p * (1-p)**(n-1)\n",
    "    mean = 1 / p\n",
    "    variance = (1-p)/(p**2)\n",
    "    std = math.sqrt(variance)\n",
    "\n",
    "    return probability, mean, variance, std"
   ]
  },
  {
   "cell_type": "code",
   "execution_count": 6,
   "metadata": {},
   "outputs": [
    {
     "name": "stdout",
     "output_type": "stream",
     "text": [
      "1.43\n"
     ]
    }
   ],
   "source": [
    "# GP 4.23\n",
    "print(round(1/0.7, 2))"
   ]
  },
  {
   "cell_type": "code",
   "execution_count": 7,
   "metadata": {},
   "outputs": [
    {
     "name": "stdout",
     "output_type": "stream",
     "text": [
      "0.973\n",
      "0.973\n"
     ]
    }
   ],
   "source": [
    "prob = 0.7\n",
    "p_list = []\n",
    "for i in range(1, 4):\n",
    "    p, mu, sigma, std = geometric_distribution(prob, i)\n",
    "    p_list.append(p)\n",
    "print(sum(p_list))\n",
    "p_complement = (1-prob)**3\n",
    "print(1-p_complement)"
   ]
  },
  {
   "cell_type": "code",
   "execution_count": 8,
   "metadata": {},
   "outputs": [
    {
     "name": "stdout",
     "output_type": "stream",
     "text": [
      "0.25 4.0 3.4641016151377544\n"
     ]
    }
   ],
   "source": [
    "# 4.11a\n",
    "prob = 0.25\n",
    "mu = 1 / prob\n",
    "std = math.sqrt((1-prob)/(prob**2))\n",
    "print(prob, mu, std)"
   ]
  },
  {
   "cell_type": "code",
   "execution_count": 9,
   "metadata": {},
   "outputs": [
    {
     "name": "stdout",
     "output_type": "stream",
     "text": [
      "0.16666666666666666 6.0 5.477225575051661\n"
     ]
    }
   ],
   "source": [
    "#4.11b\n",
    "prob = 1/6\n",
    "mu = 1 / prob\n",
    "std = math.sqrt((1-prob)/(prob**2))\n",
    "print(prob, mu, std)"
   ]
  },
  {
   "cell_type": "code",
   "execution_count": 10,
   "metadata": {},
   "outputs": [
    {
     "name": "stdout",
     "output_type": "stream",
     "text": [
      "0.25\n",
      "0.2222222222222222\n"
     ]
    }
   ],
   "source": [
    "#4.12a\n",
    "with_replacement = (5/10)**2\n",
    "without_replacement = (5/10) * (4/9)\n",
    "\n",
    "print(with_replacement)\n",
    "print(without_replacement)"
   ]
  },
  {
   "cell_type": "code",
   "execution_count": 11,
   "metadata": {},
   "outputs": [
    {
     "name": "stdout",
     "output_type": "stream",
     "text": [
      "0.25\n",
      "0.24997499749974997\n"
     ]
    }
   ],
   "source": [
    "#4.12b\n",
    "with_replacement = (5000/10000)**2\n",
    "without_replacement = (5000/10000) * (4999/9999)\n",
    "\n",
    "print(with_replacement)\n",
    "print(without_replacement)"
   ]
  },
  {
   "cell_type": "code",
   "execution_count": 12,
   "metadata": {},
   "outputs": [
    {
     "name": "stdout",
     "output_type": "stream",
     "text": [
      "0.095703125\n"
     ]
    }
   ],
   "source": [
    "#4.13a\n",
    "blue_eyes = 0.125\n",
    "brown_eyes = 0.75\n",
    "green_eyes = 0.125\n",
    "\n",
    "n_children = 3\n",
    "\n",
    "prob = (1-blue_eyes)**(n_children-1) * blue_eyes\n",
    "print(prob)"
   ]
  },
  {
   "cell_type": "code",
   "execution_count": 13,
   "metadata": {},
   "outputs": [
    {
     "name": "stdout",
     "output_type": "stream",
     "text": [
      "8.0 7.483314773547883\n"
     ]
    }
   ],
   "source": [
    "#4.13b\n",
    "mu = 1 / blue_eyes\n",
    "std = math.sqrt((1-blue_eyes)/(blue_eyes**2))\n",
    "print(mu, std)"
   ]
  },
  {
   "cell_type": "code",
   "execution_count": 14,
   "metadata": {},
   "outputs": [
    {
     "name": "stdout",
     "output_type": "stream",
     "text": [
      "0.016674955242602995\n"
     ]
    }
   ],
   "source": [
    "#4.14a\n",
    "defect = 0.02\n",
    "n_failure = 10\n",
    "\n",
    "prob = (1-defect)**(n_failure-1) * defect\n",
    "print(prob)"
   ]
  },
  {
   "cell_type": "code",
   "execution_count": 15,
   "metadata": {},
   "outputs": [
    {
     "name": "stdout",
     "output_type": "stream",
     "text": [
      "0.13261955589475294\n"
     ]
    }
   ],
   "source": [
    "#4.14b\n",
    "prob = (1-defect)**100\n",
    "print(prob)"
   ]
  },
  {
   "cell_type": "code",
   "execution_count": 16,
   "metadata": {},
   "outputs": [
    {
     "name": "stdout",
     "output_type": "stream",
     "text": [
      "50.0 49.49747468305833\n"
     ]
    }
   ],
   "source": [
    "#4.14c\n",
    "mu = 1 / defect\n",
    "std = math.sqrt((1-defect)/(defect**2))\n",
    "print(mu, std)"
   ]
  },
  {
   "cell_type": "code",
   "execution_count": 17,
   "metadata": {},
   "outputs": [
    {
     "name": "stdout",
     "output_type": "stream",
     "text": [
      "20.0 19.493588689617926\n"
     ]
    }
   ],
   "source": [
    "# 4.14d\n",
    "defect = 0.05\n",
    "mu = 1 / defect\n",
    "std = math.sqrt((1-defect)/(defect**2))\n",
    "print(mu, std)"
   ]
  },
  {
   "cell_type": "code",
   "execution_count": 18,
   "metadata": {},
   "outputs": [],
   "source": [
    "# probability of finding k successes in n trials\n",
    "def binomial_distribution(p:float, n:int, k:int):\n",
    "    prob = math.comb(n, k) * (p**k) * ((1-p)**(n-k))\n",
    "    mu = n * p\n",
    "    var = n * p * (1-p)\n",
    "    std = math.sqrt(var)\n",
    "\n",
    "    return prob, mu, var, std"
   ]
  },
  {
   "cell_type": "code",
   "execution_count": 19,
   "metadata": {},
   "outputs": [
    {
     "name": "stdout",
     "output_type": "stream",
     "text": [
      "(0.25412184000000004, 5.6, 1.6800000000000002, 1.2961481396815722)\n"
     ]
    }
   ],
   "source": [
    "p = 0.7\n",
    "n = 8\n",
    "k = 5\n",
    "\n",
    "results = [binomial_distribution(p, n, k)]\n",
    "\n",
    "print(results[0])"
   ]
  },
  {
   "cell_type": "code",
   "execution_count": null,
   "metadata": {},
   "outputs": [],
   "source": []
  }
 ],
 "metadata": {
  "kernelspec": {
   "display_name": "venv",
   "language": "python",
   "name": "python3"
  },
  "language_info": {
   "codemirror_mode": {
    "name": "ipython",
    "version": 3
   },
   "file_extension": ".py",
   "mimetype": "text/x-python",
   "name": "python",
   "nbconvert_exporter": "python",
   "pygments_lexer": "ipython3",
   "version": "3.10.11"
  },
  "orig_nbformat": 4
 },
 "nbformat": 4,
 "nbformat_minor": 2
}
