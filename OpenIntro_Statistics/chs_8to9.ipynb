{
 "cells": [
  {
   "cell_type": "code",
   "execution_count": 1,
   "metadata": {},
   "outputs": [],
   "source": [
    "import math\n",
    "import statistics"
   ]
  },
  {
   "attachments": {},
   "cell_type": "markdown",
   "metadata": {},
   "source": [
    "# Chapter 8: Introduction to linear regression"
   ]
  },
  {
   "cell_type": "code",
   "execution_count": 2,
   "metadata": {},
   "outputs": [
    {
     "name": "stdout",
     "output_type": "stream",
     "text": [
      "77.0 85.3\n",
      "86.43\n",
      "-1.1300000000000097\n"
     ]
    }
   ],
   "source": [
    "x, y_obs = 77.0, 85.3\n",
    "def y_hat(x):\n",
    "    return 41 + 0.59*x\n",
    "y_h = y_hat(x)\n",
    "residual = y_obs - y_h\n",
    "print(x, y_obs)\n",
    "print(y_h)\n",
    "print(residual)"
   ]
  },
  {
   "cell_type": "code",
   "execution_count": 3,
   "metadata": {},
   "outputs": [
    {
     "name": "stdout",
     "output_type": "stream",
     "text": [
      "7.449999999999989\n",
      "-3.344999999999999\n"
     ]
    }
   ],
   "source": [
    "x_pos, y_pos = 85.0, 98.6\n",
    "x_mod, y_mod = 95.5, 94.0\n",
    "y_pos_h = y_hat(x_pos)\n",
    "y_mod_h = y_hat(x_mod)\n",
    "y_pos_res = y_pos - y_pos_h\n",
    "y_mod_res = y_mod - y_mod_h\n",
    "print(y_pos_res)\n",
    "print(y_mod_res)"
   ]
  },
  {
   "cell_type": "code",
   "execution_count": 4,
   "metadata": {},
   "outputs": [],
   "source": [
    "def correlation(x_array, y_array):\n",
    "    n = len(x_array)\n",
    "    x_bar = statistics.mean(x_array)\n",
    "    y_bar = statistics.mean(y_array)\n",
    "    x_std = statistics.stdev(x_array)\n",
    "    y_std = statistics.stdev(y_array)\n",
    "\n",
    "    std_residual_sums = 0\n",
    "    for x, y in zip(x_array, y_array):\n",
    "        x_std_residual = (x - x_bar) / x_std\n",
    "        y_std_residual = (y - y_bar) / y_std\n",
    "        std_residual_sums += (x_std_residual * y_std_residual)\n",
    "    \n",
    "    return std_residual_sums / (n - 1)"
   ]
  },
  {
   "cell_type": "code",
   "execution_count": 5,
   "metadata": {},
   "outputs": [],
   "source": [
    "def slope_calc(x_array, y_array):\n",
    "    return (\n",
    "        statistics.stdev(y_array) / statistics.stdev(x_array)\n",
    "    ) * correlation(x_array, y_array)"
   ]
  },
  {
   "cell_type": "code",
   "execution_count": 6,
   "metadata": {},
   "outputs": [],
   "source": [
    "def intercept_calc(x_array, y_array):\n",
    "    return statistics.mean(y_array) - \\\n",
    "        (slope_calc(x_array, y_array) * statistics.mean(x_array))"
   ]
  },
  {
   "attachments": {},
   "cell_type": "markdown",
   "metadata": {},
   "source": [
    "# Chapter 9: Multiple and logistic regression"
   ]
  },
  {
   "cell_type": "code",
   "execution_count": 17,
   "metadata": {},
   "outputs": [],
   "source": [
    "def adj_r2(residual_var, y_var, records, features):\n",
    "    return 1 - (\n",
    "        (\n",
    "            residual_var / y_var\n",
    "        )\n",
    "    ) * \\\n",
    "    (\n",
    "        (records-1) / ((records-features)-1)\n",
    "    )"
   ]
  },
  {
   "cell_type": "code",
   "execution_count": 18,
   "metadata": {},
   "outputs": [
    {
     "data": {
      "text/plain": [
       "0.2584288806999723"
      ]
     },
     "execution_count": 18,
     "metadata": {},
     "output_type": "execute_result"
    }
   ],
   "source": [
    "adj_r2(18.53, 25.01, 10000, 9)"
   ]
  },
  {
   "cell_type": "code",
   "execution_count": null,
   "metadata": {},
   "outputs": [],
   "source": []
  }
 ],
 "metadata": {
  "kernelspec": {
   "display_name": "venv",
   "language": "python",
   "name": "python3"
  },
  "language_info": {
   "codemirror_mode": {
    "name": "ipython",
    "version": 3
   },
   "file_extension": ".py",
   "mimetype": "text/x-python",
   "name": "python",
   "nbconvert_exporter": "python",
   "pygments_lexer": "ipython3",
   "version": "3.10.11"
  },
  "orig_nbformat": 4
 },
 "nbformat": 4,
 "nbformat_minor": 2
}
