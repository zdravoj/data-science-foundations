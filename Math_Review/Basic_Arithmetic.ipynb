{
 "cells": [
  {
   "cell_type": "code",
   "execution_count": 1,
   "metadata": {},
   "outputs": [],
   "source": [
    "import math\n",
    "import sympy\n",
    "import numpy as np"
   ]
  },
  {
   "attachments": {},
   "cell_type": "markdown",
   "metadata": {},
   "source": [
    "# Fundamental Math"
   ]
  },
  {
   "attachments": {},
   "cell_type": "markdown",
   "metadata": {},
   "source": [
    "## Basic Number Forms"
   ]
  },
  {
   "cell_type": "markdown",
   "metadata": {},
   "source": [
    "### Natural Numbers\n",
    "\n",
    "Positive whole numbers not including 0."
   ]
  },
  {
   "cell_type": "markdown",
   "metadata": {},
   "source": [
    "The simplest numbering system."
   ]
  },
  {
   "cell_type": "code",
   "execution_count": 2,
   "metadata": {},
   "outputs": [
    {
     "name": "stdout",
     "output_type": "stream",
     "text": [
      "Natural Numbers: [1, 2, 3, 4, 5, 6, 7, 8, 9]\n"
     ]
    }
   ],
   "source": [
    "nums = [i for i in range(1, 10)]\n",
    "print('Natural Numbers:', nums)"
   ]
  },
  {
   "cell_type": "markdown",
   "metadata": {},
   "source": [
    "### Zero (absence of value)\n",
    "\n",
    "0, zero, nil, null, none."
   ]
  },
  {
   "cell_type": "markdown",
   "metadata": {},
   "source": [
    "A useful inclusion to the numbering system which represents an empty space. Necessary for the base 10 numbering system."
   ]
  },
  {
   "cell_type": "code",
   "execution_count": 3,
   "metadata": {},
   "outputs": [
    {
     "name": "stdout",
     "output_type": "stream",
     "text": [
      "Zero: 0\n",
      "Base 10 example: [10, 100, 1000]\n"
     ]
    }
   ],
   "source": [
    "# zero (absence of value)\n",
    "print('Zero:', 0)\n",
    "\n",
    "# Base 10\n",
    "nums = [10**i for i in range(1, 4)]\n",
    "print('Base 10 example:', nums)"
   ]
  },
  {
   "cell_type": "markdown",
   "metadata": {},
   "source": [
    "### Negative Numbers\n",
    "\n",
    "-1, -3, -100"
   ]
  },
  {
   "cell_type": "markdown",
   "metadata": {},
   "source": [
    "The inverse of positive numbers."
   ]
  },
  {
   "cell_type": "code",
   "execution_count": 4,
   "metadata": {},
   "outputs": [
    {
     "name": "stdout",
     "output_type": "stream",
     "text": [
      "Negative numbers: [-1, -2, -3, -4]\n",
      "5 + (-5) = 0 --> True\n"
     ]
    }
   ],
   "source": [
    "# negative numbers\n",
    "neg_nums = [i for i in range(-1, -5, -1)]\n",
    "print('Negative numbers:', neg_nums)\n",
    "\n",
    "# inverse of positives\n",
    "print('5 + (-5) = 0 -->', 5+(-5)==0)"
   ]
  },
  {
   "cell_type": "markdown",
   "metadata": {},
   "source": [
    "### Fractions\n",
    "\n",
    "$ {2 \\over 5} $"
   ]
  },
  {
   "cell_type": "markdown",
   "metadata": {},
   "source": [
    "A non-whole number. For $ {2 \\over 5} $, 5 portions equal 1, but only 2 portions exist."
   ]
  },
  {
   "cell_type": "code",
   "execution_count": 5,
   "metadata": {},
   "outputs": [
    {
     "name": "stdout",
     "output_type": "stream",
     "text": [
      "Fraction: 2/5\n"
     ]
    }
   ],
   "source": [
    "frac = sympy.Rational(2, 5)\n",
    "print('Fraction:', frac)"
   ]
  },
  {
   "cell_type": "markdown",
   "metadata": {},
   "source": [
    "### Decimals\n",
    "\n",
    "2.5"
   ]
  },
  {
   "cell_type": "markdown",
   "metadata": {},
   "source": [
    "Decimals are like fractions, but are a better representation of the base 10 number system."
   ]
  },
  {
   "cell_type": "code",
   "execution_count": 6,
   "metadata": {},
   "outputs": [
    {
     "name": "stdout",
     "output_type": "stream",
     "text": [
      "Decimal: 0.4\n",
      "2/5 = 0.4 --> True\n"
     ]
    }
   ],
   "source": [
    "# decimals\n",
    "dec = 2/5\n",
    "print('Decimal:', dec)\n",
    "\n",
    "# fractions and decimals are different forms of the same number\n",
    "print('2/5 = 0.4 -->', frac.p/frac.q == dec)"
   ]
  },
  {
   "attachments": {},
   "cell_type": "markdown",
   "metadata": {},
   "source": [
    "## Fundamental Operations"
   ]
  },
  {
   "cell_type": "code",
   "execution_count": 7,
   "metadata": {},
   "outputs": [
    {
     "name": "stdout",
     "output_type": "stream",
     "text": [
      "Addition: 8+2=10\n",
      "Subtraction: 8-2=6\n",
      "Multiplication: 8*2=16\n",
      "Division: 8/2=4.0\n"
     ]
    }
   ],
   "source": [
    "# Addition\n",
    "print(f'Addition: {8+2=}')\n",
    "# Subtraction\n",
    "print(f'Subtraction: {8-2=}')\n",
    "# Multiplication\n",
    "print(f'Multiplication: {8*2=}')\n",
    "# Division\n",
    "print(f'Division: {8/2=}')"
   ]
  },
  {
   "attachments": {},
   "cell_type": "markdown",
   "metadata": {},
   "source": [
    "### Order of Operations\n",
    "\n",
    "PEMDAS"
   ]
  },
  {
   "attachments": {},
   "cell_type": "markdown",
   "metadata": {},
   "source": [
    "Parentheses <br>\n",
    "Exponents <br>\n",
    "Multiplication & Division <br>\n",
    "Addition & Subtraction <br>"
   ]
  },
  {
   "attachments": {},
   "cell_type": "markdown",
   "metadata": {},
   "source": [
    "$ ((7 + 19) - 2^3 * 3) + 15/3 = 7$"
   ]
  },
  {
   "cell_type": "code",
   "execution_count": 8,
   "metadata": {},
   "outputs": [
    {
     "name": "stdout",
     "output_type": "stream",
     "text": [
      "7 + 19 = 26\n",
      "2**3 = 8\n",
      "8 * 3 = 24\n",
      "26 - 24 = 2\n",
      "15 // 3 = 5\n",
      "2 + 5 = 7\n",
      "\n",
      "((7+19) - 2**3 * 3) + 15//3 = 7\n"
     ]
    }
   ],
   "source": [
    "print(f'{7 + 19 = }')\n",
    "print(f'{2**3 = }')\n",
    "print(f'{8 * 3 = }')\n",
    "print(f'{26 - 24 = }')\n",
    "print(f'{15 // 3 = }')\n",
    "print(f'{2 + 5 = }\\n')\n",
    "print(f'{((7+19) - 2**3 * 3) + 15//3 = }')"
   ]
  },
  {
   "attachments": {},
   "cell_type": "markdown",
   "metadata": {},
   "source": [
    "## Addition\n",
    "\n",
    "$a + b = c$"
   ]
  },
  {
   "attachments": {},
   "cell_type": "markdown",
   "metadata": {},
   "source": [
    "### Commutative Property\n",
    "\n",
    "$a + b = b + a$"
   ]
  },
  {
   "cell_type": "code",
   "execution_count": 9,
   "metadata": {},
   "outputs": [
    {
     "name": "stdout",
     "output_type": "stream",
     "text": [
      "a + b = b + a --> True\n"
     ]
    }
   ],
   "source": [
    "a = 7\n",
    "b = 3\n",
    "print('a + b = b + a -->', a + b == b + a)"
   ]
  },
  {
   "attachments": {},
   "cell_type": "markdown",
   "metadata": {},
   "source": [
    "### Associative Property\n",
    "\n",
    "$(a + b) + c = a + (b + c)$"
   ]
  },
  {
   "cell_type": "code",
   "execution_count": 10,
   "metadata": {},
   "outputs": [
    {
     "name": "stdout",
     "output_type": "stream",
     "text": [
      "(a + b) + c = a + (b + c) --> True\n"
     ]
    }
   ],
   "source": [
    "a = 7\n",
    "b = 3\n",
    "c = 5\n",
    "print('(a + b) + c = a + (b + c) -->', (a+b)+c == a+(b+c))"
   ]
  },
  {
   "attachments": {},
   "cell_type": "markdown",
   "metadata": {},
   "source": [
    "### Identity Property\n",
    "\n",
    "$a + 0 = a$"
   ]
  },
  {
   "cell_type": "code",
   "execution_count": 11,
   "metadata": {},
   "outputs": [
    {
     "name": "stdout",
     "output_type": "stream",
     "text": [
      "a + 0 = a --> True\n"
     ]
    }
   ],
   "source": [
    "a = 7\n",
    "print('a + 0 = a -->', a+0 == a)"
   ]
  },
  {
   "attachments": {},
   "cell_type": "markdown",
   "metadata": {},
   "source": [
    "## Subtraction\n",
    "\n",
    "$ a - b = c $"
   ]
  },
  {
   "attachments": {},
   "cell_type": "markdown",
   "metadata": {},
   "source": [
    "Subtraction is adding $-b$ to $a$."
   ]
  },
  {
   "cell_type": "code",
   "execution_count": 12,
   "metadata": {},
   "outputs": [
    {
     "name": "stdout",
     "output_type": "stream",
     "text": [
      "a - b == a + (-b) --> True\n"
     ]
    }
   ],
   "source": [
    "a = 8\n",
    "b = 2\n",
    "\n",
    "print('a - b == a + (-b) -->', a-b==a+(-b))"
   ]
  },
  {
   "cell_type": "markdown",
   "metadata": {},
   "source": [
    "Subtracting $-b$ from $a$ makes $b$ positive.\n",
    "\n",
    "$ a - (-b) = a + b $"
   ]
  },
  {
   "cell_type": "code",
   "execution_count": 13,
   "metadata": {},
   "outputs": [
    {
     "name": "stdout",
     "output_type": "stream",
     "text": [
      "a - (-b) = a + b --> True\n"
     ]
    }
   ],
   "source": [
    "a = 8\n",
    "b = 2\n",
    "print('a - (-b) = a + b -->', a-(-b)==a+b)"
   ]
  },
  {
   "attachments": {},
   "cell_type": "markdown",
   "metadata": {},
   "source": [
    "## Multiplication\n",
    "\n",
    "$a * b = c$"
   ]
  },
  {
   "attachments": {},
   "cell_type": "markdown",
   "metadata": {},
   "source": [
    "Multiplication is shorthand for adding $a$ to itself $b$ times."
   ]
  },
  {
   "cell_type": "code",
   "execution_count": 14,
   "metadata": {},
   "outputs": [
    {
     "name": "stdout",
     "output_type": "stream",
     "text": [
      "7 * 5 = 7+7+7+7+7 = 35\n"
     ]
    }
   ],
   "source": [
    "# show final result and additive form\n",
    "result = 0\n",
    "result_string = ''\n",
    "# define a and b\n",
    "a = 7\n",
    "b = 5\n",
    "# add a to result b times\n",
    "for i in range(b):\n",
    "    result += a\n",
    "    result_string += '7+'\n",
    "# eliminate final '+' from additive form\n",
    "result_string = result_string[:-1]\n",
    "\n",
    "print('7 * 5 =', result_string, '=', result)"
   ]
  },
  {
   "attachments": {},
   "cell_type": "markdown",
   "metadata": {},
   "source": [
    "### Commutative Property\n",
    "\n",
    "$ a * b = b * a $"
   ]
  },
  {
   "cell_type": "code",
   "execution_count": 15,
   "metadata": {},
   "outputs": [
    {
     "name": "stdout",
     "output_type": "stream",
     "text": [
      "a * b = b * a --> True\n"
     ]
    }
   ],
   "source": [
    "a = 8\n",
    "b = 2\n",
    "print('a * b = b * a -->', a*b==b*a)"
   ]
  },
  {
   "attachments": {},
   "cell_type": "markdown",
   "metadata": {},
   "source": [
    "### Associative Property\n",
    "\n",
    "$ (a * b) * c = a * (b * c) $"
   ]
  },
  {
   "cell_type": "code",
   "execution_count": 16,
   "metadata": {},
   "outputs": [
    {
     "name": "stdout",
     "output_type": "stream",
     "text": [
      "(a * b) * c = a * (b * c) --> True\n"
     ]
    }
   ],
   "source": [
    "a = 8\n",
    "b = 2\n",
    "c = 5\n",
    "print('(a * b) * c = a * (b * c) -->', (a*b)*c==a*(b*c))"
   ]
  },
  {
   "attachments": {},
   "cell_type": "markdown",
   "metadata": {},
   "source": [
    "### Identity Property\n",
    "\n",
    "$ a * 1 = a$"
   ]
  },
  {
   "cell_type": "code",
   "execution_count": 17,
   "metadata": {},
   "outputs": [
    {
     "name": "stdout",
     "output_type": "stream",
     "text": [
      "a * 1 = a --> True\n"
     ]
    }
   ],
   "source": [
    "a = 8\n",
    "print('a * 1 = a -->', a*1==a)"
   ]
  },
  {
   "cell_type": "markdown",
   "metadata": {},
   "source": [
    "### Distributive Property\n",
    "\n",
    "$ a * (x - y) = ax - ay $\n",
    "\n",
    "$ ax - bx = (a - b) * x $"
   ]
  },
  {
   "cell_type": "code",
   "execution_count": 18,
   "metadata": {},
   "outputs": [
    {
     "name": "stdout",
     "output_type": "stream",
     "text": [
      "a * (x - y) = ax - ay --> True\n"
     ]
    }
   ],
   "source": [
    "a = 8\n",
    "x = 2\n",
    "y = 5\n",
    "print('a * (x - y) = ax - ay -->', a*(x-y)==a*x-a*y)"
   ]
  },
  {
   "cell_type": "code",
   "execution_count": 19,
   "metadata": {},
   "outputs": [
    {
     "name": "stdout",
     "output_type": "stream",
     "text": [
      "ax - bx = (a - b) * x --> True\n"
     ]
    }
   ],
   "source": [
    "a = 8\n",
    "b = 2\n",
    "y = 5\n",
    "print('ax - bx = (a - b) * x -->', a*x-b*x==(a-b)*x)"
   ]
  },
  {
   "attachments": {},
   "cell_type": "markdown",
   "metadata": {},
   "source": [
    "## Division\n",
    "\n",
    "$ a \\div b = c $"
   ]
  },
  {
   "attachments": {},
   "cell_type": "markdown",
   "metadata": {},
   "source": [
    "Division is counting the number of times $b$ can be subtracted from $a$."
   ]
  },
  {
   "cell_type": "code",
   "execution_count": 20,
   "metadata": {},
   "outputs": [
    {
     "name": "stdout",
     "output_type": "stream",
     "text": [
      "5 can be subtracted from 35 a total of 7 times.\n"
     ]
    }
   ],
   "source": [
    "count = 0\n",
    "a = 35\n",
    "a_subtract = a\n",
    "b = 5\n",
    "while a_subtract >= b:\n",
    "    a_subtract -= b\n",
    "    count += 1\n",
    "\n",
    "print(f'{b} can be subtracted from {a} a total of {count} times.')"
   ]
  },
  {
   "attachments": {},
   "cell_type": "markdown",
   "metadata": {},
   "source": [
    "### Remainder\n",
    "\n",
    "Sometimes $b$ will not divide evenly into $a$, leaving a remainder."
   ]
  },
  {
   "cell_type": "code",
   "execution_count": 21,
   "metadata": {},
   "outputs": [
    {
     "name": "stdout",
     "output_type": "stream",
     "text": [
      "5 can be subtracted from 38 a total of 7 times, leaving a remainder of 3.\n"
     ]
    }
   ],
   "source": [
    "count = 0\n",
    "a = 38\n",
    "a_subtract = a\n",
    "b = 5\n",
    "while a_subtract >= b:\n",
    "    a_subtract -= b\n",
    "    count += 1\n",
    "\n",
    "print(f'{b} can be subtracted from {a} a total of {count} times, \\\n",
    "leaving a remainder of {a_subtract}.')"
   ]
  },
  {
   "cell_type": "markdown",
   "metadata": {},
   "source": [
    "### Identity Property\n",
    "\n",
    "$ {x \\over x} = 1 $"
   ]
  },
  {
   "cell_type": "code",
   "execution_count": 22,
   "metadata": {},
   "outputs": [
    {
     "name": "stdout",
     "output_type": "stream",
     "text": [
      "x / x = 1 --> True\n"
     ]
    }
   ],
   "source": [
    "x = 5023.6943\n",
    "print('x / x = 1 -->', x/x==1)"
   ]
  },
  {
   "cell_type": "markdown",
   "metadata": {},
   "source": [
    "### Division by Zero\n",
    "\n",
    "$ {1 \\over 0} $ is impossible. Approaching $ {1 \\over 0} $ from the positive side yields $ +\\infty $, but approaching from the negative side yields $ -\\infty $, so $ {1 \\over 0} $ is *undefined*."
   ]
  },
  {
   "cell_type": "code",
   "execution_count": 23,
   "metadata": {},
   "outputs": [
    {
     "name": "stdout",
     "output_type": "stream",
     "text": [
      "[100.0, 1000.0, 10000.0, 99999.99999999999, 1000000.0, 10000000.0]\n",
      "[-100.0, -1000.0, -10000.0, -99999.99999999999, -1000000.0, -10000000.0]\n",
      "Error: division by zero\n"
     ]
    }
   ],
   "source": [
    "print([1/10**-i for i in range(2, 8)])\n",
    "print([1/-10**-i for i in range(2, 8)])\n",
    "\n",
    "try:\n",
    "    print(1/0)\n",
    "except Exception as e:\n",
    "    print('Error:', e)"
   ]
  },
  {
   "cell_type": "markdown",
   "metadata": {},
   "source": [
    "$ {0 \\over 0} $ is also impossible, since $ {a \\over a} = 1 $, but $ {0 \\over a} = 0 $, so $ {0 \\over 0} $ is *undefined*."
   ]
  },
  {
   "cell_type": "code",
   "execution_count": 24,
   "metadata": {},
   "outputs": [
    {
     "name": "stdout",
     "output_type": "stream",
     "text": [
      "Error: division by zero\n"
     ]
    }
   ],
   "source": [
    "try:\n",
    "    print(0/0)\n",
    "except Exception as e:\n",
    "    print('Error:', e)"
   ]
  },
  {
   "cell_type": "markdown",
   "metadata": {},
   "source": [
    "## Fractions\n",
    "\n",
    "$ {a \\over b} = c $"
   ]
  },
  {
   "cell_type": "markdown",
   "metadata": {},
   "source": [
    "Fractions are representations of division."
   ]
  },
  {
   "cell_type": "markdown",
   "metadata": {},
   "source": [
    "$ {x \\over y} = x * {1 \\over y} $"
   ]
  },
  {
   "cell_type": "code",
   "execution_count": 25,
   "metadata": {},
   "outputs": [
    {
     "name": "stdout",
     "output_type": "stream",
     "text": [
      "x / y = x * (1 / y) --> True\n"
     ]
    }
   ],
   "source": [
    "x = 5\n",
    "y = 2\n",
    "print('x / y = x * (1 / y) -->', x/y==x*(1/y))"
   ]
  },
  {
   "cell_type": "markdown",
   "metadata": {},
   "source": [
    "$ {x \\over y} = {x \\over y} * 1 = {x \\over y} * {z \\over z} = {xz \\over yz} $"
   ]
  },
  {
   "cell_type": "code",
   "execution_count": 26,
   "metadata": {},
   "outputs": [
    {
     "name": "stdout",
     "output_type": "stream",
     "text": [
      "x / y = xz / yz --> True\n"
     ]
    }
   ],
   "source": [
    "x = 5\n",
    "y = 2\n",
    "z = 32905\n",
    "print('x / y = xz / yz -->', x/y==(x*z)/(y*z))"
   ]
  },
  {
   "cell_type": "markdown",
   "metadata": {},
   "source": [
    "$ a * {x \\over y} = {ax \\over y} $"
   ]
  },
  {
   "cell_type": "code",
   "execution_count": 27,
   "metadata": {},
   "outputs": [
    {
     "name": "stdout",
     "output_type": "stream",
     "text": [
      "a * (x / y) = ax / y --> True\n"
     ]
    }
   ],
   "source": [
    "a = 6\n",
    "x = 5\n",
    "y = 10\n",
    "print('a * (x / y) = ax / y -->', a*(x/y)==a*x/y)"
   ]
  },
  {
   "cell_type": "markdown",
   "metadata": {},
   "source": [
    "$ {x \\over y} * {a \\over b} = {ax \\over by} $"
   ]
  },
  {
   "cell_type": "code",
   "execution_count": 28,
   "metadata": {},
   "outputs": [
    {
     "name": "stdout",
     "output_type": "stream",
     "text": [
      "(x / y) * (a / b) = ax / by --> True\n"
     ]
    }
   ],
   "source": [
    "a = 7\n",
    "b = 2\n",
    "x = 5\n",
    "y = 10\n",
    "print('(x / y) * (a / b) = ax / by -->', (x/y)*(a/b)==(a*x)/(b*y))"
   ]
  },
  {
   "cell_type": "markdown",
   "metadata": {},
   "source": [
    "$ {x \\over y} \\div {a \\over b} = {x \\over y} * {b \\over a} = {xb \\over ya} $"
   ]
  },
  {
   "cell_type": "code",
   "execution_count": 29,
   "metadata": {},
   "outputs": [
    {
     "name": "stdout",
     "output_type": "stream",
     "text": [
      "(x / y) / (a / b) = xb / ya --> True\n"
     ]
    }
   ],
   "source": [
    "a = 7\n",
    "b = 2\n",
    "x = 5\n",
    "y = 10\n",
    "print('(x / y) / (a / b) = xb / ya -->', (x/y)/(a/b)==(x*b)/(y*a))"
   ]
  },
  {
   "cell_type": "markdown",
   "metadata": {},
   "source": [
    "## Percentages\n",
    "\n",
    "$ {2 \\over 5} = 40\\% $"
   ]
  },
  {
   "cell_type": "markdown",
   "metadata": {},
   "source": [
    "Percentages are another way to represent division, but they are represented in hundredths.\n",
    "\n",
    "$ 1 = 100\\% $ <br>\n",
    "$ {2 \\over 5} = {40 \\over 100} = 40\\% $"
   ]
  },
  {
   "cell_type": "markdown",
   "metadata": {},
   "source": [
    "## Absolute Value\n",
    "\n",
    "$ |a| = +a $"
   ]
  },
  {
   "cell_type": "markdown",
   "metadata": {},
   "source": [
    "The absolute value of $a$ is always positive, even if $a$ is negative."
   ]
  },
  {
   "cell_type": "code",
   "execution_count": 30,
   "metadata": {},
   "outputs": [
    {
     "name": "stdout",
     "output_type": "stream",
     "text": [
      "|3| = 3 --> True\n",
      "|0| = 0 --> True\n",
      "|-5| = 5 --> True\n"
     ]
    }
   ],
   "source": [
    "print('|3| = 3 -->', abs(3)==3)\n",
    "print('|0| = 0 -->', abs(0)==0)\n",
    "print('|-5| = 5 -->', abs(-5)==5)"
   ]
  },
  {
   "cell_type": "markdown",
   "metadata": {},
   "source": [
    "# Pre-Algebra"
   ]
  },
  {
   "attachments": {},
   "cell_type": "markdown",
   "metadata": {},
   "source": [
    "## Equations\n",
    "\n",
    "$ x^3 + {c \\over 4} + y - 9a = 5 $"
   ]
  },
  {
   "cell_type": "markdown",
   "metadata": {},
   "source": [
    "Terms are single numbers, variables, or products. Terms are generally added or subtracted in equations. For example, $-9a$ and $x^3$ are terms.\n",
    "\n",
    "Factors are parts of a product. For example, in $-9a$, $-9$ and $a$ are factors, and $x$ is a factor in $x^3$.\n",
    "\n",
    "Coefficients are a number multiplied by a variable. For example, in $-9a$, $-9$ is the coefficient, and in ${c \\over 4}$, the coefficient is ${1 \\over 4}$."
   ]
  },
  {
   "cell_type": "markdown",
   "metadata": {},
   "source": [
    "An equation has a left side and a right side. An equation is either an equality or inequality.\n",
    "\n",
    "$ a + b = c $ (Equality) <br>\n",
    "$ a + b \\leq c $ (Inequality, less than or equal to) <br>\n",
    "$ a + b \\neq c $ (Inequality, not equal to)\n",
    "\n",
    "Equalities have exact answer(s). Inequalities like $\\leq$ are satisified by a range of values, up to (for $<$) and sometimes including (for $\\leq$) the boundary value."
   ]
  },
  {
   "cell_type": "markdown",
   "metadata": {},
   "source": [
    "For range inequalities like $<$, the sign flips if we multiply both sides of the equation by a negative number."
   ]
  },
  {
   "cell_type": "markdown",
   "metadata": {},
   "source": [
    "$ a + b \\leq c $ <br>\n",
    "$ -x * (a + b) =? -x * c $ <br>\n",
    "$ -x(a+b) \\geq -xc $"
   ]
  },
  {
   "cell_type": "code",
   "execution_count": 31,
   "metadata": {},
   "outputs": [
    {
     "name": "stdout",
     "output_type": "stream",
     "text": [
      "a + b <= c --> True\n",
      "-x * (a + b) >= -x * c --> True\n"
     ]
    }
   ],
   "source": [
    "a = 3\n",
    "b = 5\n",
    "c = 10\n",
    "x = 4\n",
    "print('a + b <= c -->', a+b<=c)\n",
    "print('-x * (a + b) >= -x * c -->', -x*(a+b)>=-x*c)"
   ]
  },
  {
   "cell_type": "markdown",
   "metadata": {},
   "source": [
    "### Solutions to Equations"
   ]
  },
  {
   "cell_type": "markdown",
   "metadata": {},
   "source": [
    "$ 2x = 10 \\to x=5 $ <br>\n",
    "$ x^2 = 25 \\to x=\\pm 5 $\n",
    "\n",
    "Some equations have one or more solutions.\n",
    "\n",
    "$ x + 3 = x + 5 \\to $ NO SOLUTION\n",
    "\n",
    "Some equations (like two non-equal parallel lines) have no solutions.\n",
    "\n",
    "$ 4(x-2)+x = 5x-8 \\to x=x $\n",
    "\n",
    "Some equations (like to equal parallel lines) have infinite solutions."
   ]
  },
  {
   "cell_type": "markdown",
   "metadata": {},
   "source": [
    "### Systems of Equations\n",
    "\n",
    "$ y = {1 \\over 2}x + 3 $ <br>\n",
    "$ y = x + 1 $"
   ]
  },
  {
   "cell_type": "markdown",
   "metadata": {},
   "source": [
    "Systems of Equations, like the equations themselves, can have zero, one, multiple, or infinite solutions."
   ]
  },
  {
   "cell_type": "markdown",
   "metadata": {},
   "source": [
    "For the above system of equations, we can solve by substituting the $y$ in equation 1 with $y$'s equality in the other equation...\n",
    "\n",
    "$ x + 1 = {1 \\over 2}x + 3 $ <br>\n",
    "$ {1 \\over 2}x = 2 $ <br>\n",
    "$ x = 4 $\n",
    "\n",
    "...then input $x$ into either equation to solve for $y$.\n",
    "\n",
    "$ y = (4) + 1 $ <br>\n",
    "$ y = 5 $\n",
    "\n",
    "We can verify by putting our found values for $x$ and $y$ into both equations.\n",
    "\n",
    "$ y = {1 \\over 2}x + 3 $ <br>\n",
    "$ 5 = {1 \\over 2}(4) + 3 $ <br>\n",
    "$ 5 = 5 $\n",
    "\n",
    "$ y = x + 1 $ <br>\n",
    "$ 5 = 4 + 1 $ <br>\n",
    "$ 5 = 5 $"
   ]
  },
  {
   "cell_type": "code",
   "execution_count": 32,
   "metadata": {},
   "outputs": [
    {
     "name": "stdout",
     "output_type": "stream",
     "text": [
      "y = (1/2)x + 3 == y = x + 1 when x=5, y=4 --> True\n"
     ]
    }
   ],
   "source": [
    "y = 5\n",
    "x = 4\n",
    "print('y = (1/2)x + 3 == y = x + 1 when x=5, y=4 -->', (x/2)+3==y==x+1)"
   ]
  },
  {
   "cell_type": "markdown",
   "metadata": {},
   "source": [
    "We can also solve by substituting one x in for another, though this takes more work.\n",
    "\n",
    "$ y = x + 1 $ <br>\n",
    "$ y - 1 = x $\n",
    "\n",
    "$ y = {1 \\over 2}x + 3 $ <br>\n",
    "$ y = {1 \\over 2}(y - 1) + 3 $ <br>\n",
    "$ y = {1 \\over 2}y - {1 \\over 2} + 3 $ <br>\n",
    "$ {1 \\over 2}y = {5 \\over 2} $ <br>\n",
    "$ y = 5 $\n",
    "\n",
    "$ y = x + 1 $ <br>\n",
    "$ 5 = x + 1 $ <br>\n",
    "$ 4 = x $"
   ]
  },
  {
   "cell_type": "markdown",
   "metadata": {},
   "source": [
    "The answer can also be found by plotting the two equations, and identifying the intersection point."
   ]
  },
  {
   "cell_type": "code",
   "execution_count": 33,
   "metadata": {},
   "outputs": [
    {
     "data": {
      "image/png": "[encoded data removed]",
      "text/plain": [
       "<Figure size 640x480 with 1 Axes>"
      ]
     },
     "metadata": {},
     "output_type": "display_data"
    }
   ],
   "source": [
    "x = sympy.symbols('x')\n",
    "fy1 = (1/2)*x + 3\n",
    "fy2 = x + 1\n",
    "sympy.plot(fy1, fy2);"
   ]
  },
  {
   "cell_type": "markdown",
   "metadata": {},
   "source": [
    "$ 2y + 7x = -5 $ <br>\n",
    "$ 5y - 7x = 12 $ <br>\n",
    "\n",
    "We can also solve by elimination - adding or subtracting equations from each other to eliminate a variable.\n",
    "\n",
    "$ (2y + 5y) + (7x - 7x) = (-5 + 12) $ <br>\n",
    "$ 7y = 7 $ <br>\n",
    "$ y = 1 $ <br>\n",
    "\n",
    "$ 2y + 7x = -5 $ <br>\n",
    "$ 2(1) + 7x = -5 $ <br>\n",
    "$ 7x = -7 $ <br>\n",
    "x = -1"
   ]
  },
  {
   "cell_type": "markdown",
   "metadata": {},
   "source": [
    "### Two-Variable Equations\n",
    "\n",
    "Slope-Intercept Form: $ y = mx + b $ <br>\n",
    "where $m$ is the slope and $b$ is the intercept."
   ]
  },
  {
   "cell_type": "markdown",
   "metadata": {},
   "source": [
    "$ y = 2x + 6 $ <br>\n",
    "$ 0 = 2x + 6 $ <br>\n",
    "$ -2x = 6 $ <br>\n",
    "$ x = -3 $\n",
    "\n",
    "$x$ intercepts can be found by setting $y$ to 0."
   ]
  },
  {
   "cell_type": "markdown",
   "metadata": {},
   "source": [
    "$ y = 2x + 6 $ <br>\n",
    "$ y = 2(0) + 6 $ <br>\n",
    "$ y = 6 $\n",
    "\n",
    "$y$ intercepts can be found by setting $x$ to 0."
   ]
  },
  {
   "cell_type": "markdown",
   "metadata": {},
   "source": [
    "$ m = {{rise} \\over {run}} = {\\Delta{y} \\over \\Delta{x}} = {y_2 - y_1 \\over x_2 - x_1}$"
   ]
  },
  {
   "attachments": {},
   "cell_type": "markdown",
   "metadata": {},
   "source": [
    "## Exponents\n",
    "\n",
    "$ a^b = c $"
   ]
  },
  {
   "attachments": {},
   "cell_type": "markdown",
   "metadata": {},
   "source": [
    "Exponentiation is multiplying $a$ by itself $b$ times."
   ]
  },
  {
   "cell_type": "code",
   "execution_count": 34,
   "metadata": {},
   "outputs": [
    {
     "name": "stdout",
     "output_type": "stream",
     "text": [
      "2**5 = 2*2*2*2*2 = 32\n"
     ]
    }
   ],
   "source": [
    "result = 1\n",
    "result_string = ''\n",
    "a = 2\n",
    "b = 5\n",
    "for i in range(5):\n",
    "    result *= a\n",
    "    result_string += '2*'\n",
    "result_string = result_string[:-1]\n",
    "print(f'{a}**{b} =', result_string, '=', result)"
   ]
  },
  {
   "cell_type": "markdown",
   "metadata": {},
   "source": [
    "$x^a \\cdot x^b = x^{a+b} $\n",
    "\n",
    "When a same base of different exponents is multiplied, the exponents are added together."
   ]
  },
  {
   "cell_type": "code",
   "execution_count": 35,
   "metadata": {},
   "outputs": [
    {
     "name": "stdout",
     "output_type": "stream",
     "text": [
      "x^a * x^b = x^a+b --> True\n"
     ]
    }
   ],
   "source": [
    "x = 2\n",
    "a = 3\n",
    "b = 4\n",
    "\n",
    "print('x^a * x^b = x^a+b -->', x**a * x**b == x**(a+b))"
   ]
  },
  {
   "cell_type": "markdown",
   "metadata": {},
   "source": [
    "$ {x^a \\over x^b} = x^{a-b} $\n",
    "\n",
    "When a same base of different exponents is divided, the exponents are subtracted."
   ]
  },
  {
   "cell_type": "code",
   "execution_count": 36,
   "metadata": {},
   "outputs": [
    {
     "name": "stdout",
     "output_type": "stream",
     "text": [
      "x^a / x^b = x^a-b --> True\n"
     ]
    }
   ],
   "source": [
    "x = 2\n",
    "a = 7\n",
    "b = 5\n",
    "\n",
    "print('x^a / x^b = x^a-b -->', x**a / x**b == x**(a-b))"
   ]
  },
  {
   "cell_type": "markdown",
   "metadata": {},
   "source": [
    "$ (x^a)^b = x^{a \\cdot b} $\n",
    "\n",
    "When a same base raised to an exponent, is raised to an exponent, the exponents are multiplied."
   ]
  },
  {
   "cell_type": "code",
   "execution_count": 37,
   "metadata": {},
   "outputs": [
    {
     "name": "stdout",
     "output_type": "stream",
     "text": [
      "(x^a)^b = x^(a*b) --> True\n"
     ]
    }
   ],
   "source": [
    "x = 2\n",
    "a = 3\n",
    "b = 4\n",
    "\n",
    "print('(x^a)^b = x^(a*b) -->', (x**a)**b == x**(a*b))"
   ]
  },
  {
   "cell_type": "markdown",
   "metadata": {},
   "source": [
    "$ (x \\cdot y)^a = x^a \\cdot y^a $\n",
    "\n",
    "When two bases multiplied together, are raised to an exponent, the exponent can be distributed to each base."
   ]
  },
  {
   "cell_type": "code",
   "execution_count": 38,
   "metadata": {},
   "outputs": [
    {
     "name": "stdout",
     "output_type": "stream",
     "text": [
      "(x*y)^a = x^a * y^a --> True\n"
     ]
    }
   ],
   "source": [
    "x = 5\n",
    "y = 3\n",
    "a = 3\n",
    "\n",
    "print('(x*y)^a = x^a * y^a -->', (x*y)**a == x**a * y**a)"
   ]
  },
  {
   "cell_type": "markdown",
   "metadata": {},
   "source": [
    "$ ({x \\over y})^a = {x^a \\over y^a} $\n",
    "\n",
    "When two bases are divided, the exponent can be distributed to each base."
   ]
  },
  {
   "cell_type": "code",
   "execution_count": 39,
   "metadata": {},
   "outputs": [
    {
     "name": "stdout",
     "output_type": "stream",
     "text": [
      "(x / y)^a = x^a / y^a --> True\n"
     ]
    }
   ],
   "source": [
    "x = 2\n",
    "y = 8\n",
    "a = 3\n",
    "print('(x / y)^a = x^a / y^a -->', (x/y)**a==x**a/y**a)"
   ]
  },
  {
   "cell_type": "markdown",
   "metadata": {},
   "source": [
    "$ x^{-n} = {1 \\over x^n} $\n",
    "\n",
    "By definition, $x^{-n}$ is 1 divided by $x^n$."
   ]
  },
  {
   "cell_type": "code",
   "execution_count": 40,
   "metadata": {},
   "outputs": [
    {
     "name": "stdout",
     "output_type": "stream",
     "text": [
      "x^-n = 1/(x^n) --> True\n"
     ]
    }
   ],
   "source": [
    "x = 2\n",
    "n = 3\n",
    "\n",
    "print('x^-n = 1/(x^n) -->', x**(-n)==1/(x**n))"
   ]
  },
  {
   "cell_type": "markdown",
   "metadata": {},
   "source": [
    "Raising $x$ to an exponent $a$ is multiplying $x$ by 1, then by itself $a$ times.\n",
    "\n",
    "$ x^1 = x $\n",
    "\n",
    "Any number to the first power equals itself.\n",
    "\n",
    "$ x^0 = 1 $\n",
    "\n",
    "Any number to the power of 0 is 1...\n",
    "\n",
    "$ 0^1 = 0 $\n",
    "\n",
    "... except 0, since $ 0^1 = 1 \\cdot 0 = 0 $.\n",
    "\n",
    "$ 0^0 \\ne, $ UNDEFINED or 1\n",
    "\n",
    "0 to the power of 0 is undefined (the answer is contested among mathematicians, as some suggest that $0^0 = 1$)."
   ]
  },
  {
   "cell_type": "markdown",
   "metadata": {},
   "source": [
    "## Roots\n",
    "\n",
    "$ a = (\\sqrt{a})^2 = b^2 $"
   ]
  },
  {
   "cell_type": "markdown",
   "metadata": {},
   "source": [
    "$\\sqrt{a}$ is multiplying $b$ by itself. "
   ]
  },
  {
   "cell_type": "markdown",
   "metadata": {},
   "source": [
    "$\\sqrt{a} = a^{1 \\over 2}$\n",
    "\n",
    "Roots are the inverses of exponentials."
   ]
  },
  {
   "cell_type": "code",
   "execution_count": 41,
   "metadata": {},
   "outputs": [
    {
     "name": "stdout",
     "output_type": "stream",
     "text": [
      "Square root of 2: 1.4142135623730951\n",
      "Square root of 2, squared: 2.0\n"
     ]
    }
   ],
   "source": [
    "print('Square root of 2:', math.sqrt(2))\n",
    "\n",
    "print('Square root of 2, squared:', round(math.sqrt(2)**2, 10))"
   ]
  },
  {
   "cell_type": "markdown",
   "metadata": {},
   "source": [
    "$ \\sqrt{a} = \\pm b $\n",
    "\n",
    "Because the square of any number is positive, the square root of a number equals the positive and/or negative of its roots.\n",
    "\n",
    "\n",
    "\n"
   ]
  },
  {
   "cell_type": "code",
   "execution_count": 42,
   "metadata": {},
   "outputs": [
    {
     "name": "stdout",
     "output_type": "stream",
     "text": [
      "3 Squared: 9\n",
      "-3 Squared: 9\n",
      "Square root of 9: 3.0\n"
     ]
    }
   ],
   "source": [
    "print('3 Squared:', (3)**2)\n",
    "print('-3 Squared:', (-3)**2)\n",
    "print('Square root of 9:', math.sqrt(9))"
   ]
  },
  {
   "cell_type": "markdown",
   "metadata": {},
   "source": [
    "$ \\sqrt{-a} \\ne, $ DOMAIN ERROR\n",
    "\n",
    "Because the square of any number is positive, no (real) number is the square root of a negative number."
   ]
  },
  {
   "cell_type": "markdown",
   "metadata": {},
   "source": [
    "$ \\sqrt[x]{a} = a^{1 \\over x} = b $\n",
    "\n",
    "Roots greater than 2 (such as the cube root) are similar to cube roots, $b^x = a$."
   ]
  },
  {
   "cell_type": "markdown",
   "metadata": {},
   "source": [
    "$ \\sqrt[3]{a} = c $\n",
    "\n",
    "For cube roots, $c$ raised to the power of 3 equals $a$. $a$ can be negative for cube roots."
   ]
  },
  {
   "cell_type": "code",
   "execution_count": 43,
   "metadata": {},
   "outputs": [
    {
     "name": "stdout",
     "output_type": "stream",
     "text": [
      "Cube root of -27: -3.0\n"
     ]
    }
   ],
   "source": [
    "print('Cube root of -27:', np.cbrt(-27))"
   ]
  },
  {
   "cell_type": "markdown",
   "metadata": {},
   "source": [
    "$ \\sqrt[x]{a} = b $  if $x\\%2\\ne0$\n",
    "\n",
    "Following the logic from square and cube roots:\n",
    "1. Any even root cannot be computed on a negative number.\n",
    "2. Any odd root can be computed on a negative number."
   ]
  },
  {
   "cell_type": "markdown",
   "metadata": {},
   "source": [
    "## Functions\n",
    "\n",
    "$ f(x) = 2x + 3 $"
   ]
  },
  {
   "cell_type": "markdown",
   "metadata": {},
   "source": [
    "Functions assign a single output for each of their inputs."
   ]
  },
  {
   "cell_type": "code",
   "execution_count": 44,
   "metadata": {},
   "outputs": [
    {
     "name": "stdout",
     "output_type": "stream",
     "text": [
      "f(1) = 2*(1) + 3 = 2+3: 5\n",
      "f(2) = 2*(2) + 3 = 4+3: 7\n",
      "f(3) = 2*(3) + 3 = 6+3: 9\n",
      "f(-1) = 2*(-1) + 3 = -2+3: 1\n",
      "f(10) = 2*(10) + 3 = 20+3: 23\n"
     ]
    }
   ],
   "source": [
    "def f(x):\n",
    "    return 2*x + 3\n",
    "\n",
    "print('f(1) = 2*(1) + 3 = 2+3:',f(1))\n",
    "print('f(2) = 2*(2) + 3 = 4+3:',f(2))\n",
    "print('f(3) = 2*(3) + 3 = 6+3:',f(3))\n",
    "print('f(-1) = 2*(-1) + 3 = -2+3:',f(-1))\n",
    "print('f(10) = 2*(10) + 3 = 20+3:',f(10))"
   ]
  },
  {
   "cell_type": "markdown",
   "metadata": {},
   "source": [
    "**Remember**: Equations and functions are not the same. Equations are two mathematical statements which are equal. When we are solving for $x$ in equations, we are trying to find the input $x$ that causes the output value. Functions can output values based on unique inputs. When we are solving for functions, we are trying to find the output value using the input $x$."
   ]
  },
  {
   "cell_type": "markdown",
   "metadata": {},
   "source": [
    "### Linear Functions\n",
    "\n",
    "$ f(x) = 2x + 3 $"
   ]
  },
  {
   "cell_type": "markdown",
   "metadata": {},
   "source": [
    "Linear functions change in a *linear* fashion, or at a constant rate. When graphed, linear functions create a straight *line*."
   ]
  },
  {
   "cell_type": "code",
   "execution_count": 45,
   "metadata": {},
   "outputs": [
    {
     "data": {
      "image/png": "[encoded data removed]",
      "text/plain": [
       "<Figure size 640x480 with 1 Axes>"
      ]
     },
     "metadata": {},
     "output_type": "display_data"
    }
   ],
   "source": [
    "x = sympy.symbols('x')\n",
    "f = 2*x + 3\n",
    "sympy.plot(f);"
   ]
  }
 ],
 "metadata": {
  "kernelspec": {
   "display_name": "venv",
   "language": "python",
   "name": "python3"
  },
  "language_info": {
   "codemirror_mode": {
    "name": "ipython",
    "version": 3
   },
   "file_extension": ".py",
   "mimetype": "text/x-python",
   "name": "python",
   "nbconvert_exporter": "python",
   "pygments_lexer": "ipython3",
   "version": "3.10.11"
  },
  "orig_nbformat": 4
 },
 "nbformat": 4,
 "nbformat_minor": 2
}
