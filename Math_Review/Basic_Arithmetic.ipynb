{
 "cells": [
  {
   "cell_type": "code",
   "execution_count": 1,
   "metadata": {},
   "outputs": [],
   "source": [
    "import sympy"
   ]
  },
  {
   "attachments": {},
   "cell_type": "markdown",
   "metadata": {},
   "source": [
    "# Fundamental Math"
   ]
  },
  {
   "attachments": {},
   "cell_type": "markdown",
   "metadata": {},
   "source": [
    "## Basic Number Forms"
   ]
  },
  {
   "cell_type": "code",
   "execution_count": 2,
   "metadata": {},
   "outputs": [
    {
     "name": "stdout",
     "output_type": "stream",
     "text": [
      "Natural Numbers: [1, 2, 3, 4, 5, 6, 7, 8, 9]\n",
      "Zero: 0\n",
      "Base 10 example: [7, 8, 9, 10, 11, 12]\n",
      "Negative numbers: [0, -1, -2, -3, -4, -5]\n",
      "Fraction: 2/5\n",
      "Decimal: 0.4\n",
      "2/5 = 0.4 --> True\n"
     ]
    }
   ],
   "source": [
    "# digits\n",
    "nums = [i for i in range(1, 10)]\n",
    "print('Natural Numbers:', nums)\n",
    "\n",
    "# zero (absence of value)\n",
    "print('Zero:', 0)\n",
    "\n",
    "# base 10\n",
    "nums = [i for i in range(7, 13)]\n",
    "print('Base 10 example:', nums)\n",
    "\n",
    "# negative numbers\n",
    "neg_nums = [i for i in range(0, -6, -1)]\n",
    "print('Negative numbers:', neg_nums)\n",
    "\n",
    "# fractions (portions of numbers)\n",
    "frac = sympy.Rational(2, 5)\n",
    "print('Fraction:', frac)\n",
    "\n",
    "# decimals (portions of numbers)\n",
    "dec = 2/5\n",
    "print('Decimal:', dec)\n",
    "\n",
    "# fractions and decimals are different forms of the same number\n",
    "print('2/5 = 0.4 -->', frac.p/frac.q == dec)"
   ]
  },
  {
   "attachments": {},
   "cell_type": "markdown",
   "metadata": {},
   "source": [
    "## Fundamental Operations"
   ]
  },
  {
   "cell_type": "code",
   "execution_count": 3,
   "metadata": {},
   "outputs": [
    {
     "name": "stdout",
     "output_type": "stream",
     "text": [
      "Addition: 8+2=10\n",
      "Subtraction: 8-2=6\n",
      "Multiplication: 8*2=16\n",
      "Division: 8/2=4.0\n"
     ]
    }
   ],
   "source": [
    "# Addition\n",
    "print(f'Addition: {8+2=}')\n",
    "# Subtraction\n",
    "print(f'Subtraction: {8-2=}')\n",
    "# Multiplication\n",
    "print(f'Multiplication: {8*2=}')\n",
    "# Division\n",
    "print(f'Division: {8/2=}')"
   ]
  },
  {
   "attachments": {},
   "cell_type": "markdown",
   "metadata": {},
   "source": [
    "### Order of Operations\n",
    "\n",
    "PEMDAS"
   ]
  },
  {
   "attachments": {},
   "cell_type": "markdown",
   "metadata": {},
   "source": [
    "Parentheses <br>\n",
    "Exponents <br>\n",
    "Multiplication & Division <br>\n",
    "Addition & Subtraction <br>"
   ]
  },
  {
   "attachments": {},
   "cell_type": "markdown",
   "metadata": {},
   "source": [
    "$ ((7 + 19) - 2^3 * 3) + 15/3 = 7$"
   ]
  },
  {
   "cell_type": "code",
   "execution_count": 4,
   "metadata": {},
   "outputs": [
    {
     "name": "stdout",
     "output_type": "stream",
     "text": [
      "7 + 19 = 26\n",
      "2**3 = 8\n",
      "8 * 3 = 24\n",
      "26 - 24 = 2\n",
      "15 // 3 = 5\n",
      "2 + 5 = 7\n",
      "\n",
      "((7+19) - 2**3 * 3) + 15//3 = 7\n"
     ]
    }
   ],
   "source": [
    "print(f'{7 + 19 = }')\n",
    "print(f'{2**3 = }')\n",
    "print(f'{8 * 3 = }')\n",
    "print(f'{26 - 24 = }')\n",
    "print(f'{15 // 3 = }')\n",
    "print(f'{2 + 5 = }\\n')\n",
    "print(f'{((7+19) - 2**3 * 3) + 15//3 = }')"
   ]
  },
  {
   "attachments": {},
   "cell_type": "markdown",
   "metadata": {},
   "source": [
    "## Addition\n",
    "\n",
    "$a + b = c$"
   ]
  },
  {
   "attachments": {},
   "cell_type": "markdown",
   "metadata": {},
   "source": [
    "### Commutative Property\n",
    "\n",
    "$a + b = b + a$"
   ]
  },
  {
   "cell_type": "code",
   "execution_count": 5,
   "metadata": {},
   "outputs": [
    {
     "name": "stdout",
     "output_type": "stream",
     "text": [
      "a + b = b + a --> True\n"
     ]
    }
   ],
   "source": [
    "a = 7\n",
    "b = 3\n",
    "print('a + b = b + a -->', a + b == b + a)"
   ]
  },
  {
   "attachments": {},
   "cell_type": "markdown",
   "metadata": {},
   "source": [
    "### Associative Property\n",
    "\n",
    "$(a + b) + c = a + (b + c)$"
   ]
  },
  {
   "cell_type": "code",
   "execution_count": 6,
   "metadata": {},
   "outputs": [
    {
     "name": "stdout",
     "output_type": "stream",
     "text": [
      "(a + b) + c = a + (b + c) --> True\n"
     ]
    }
   ],
   "source": [
    "a = 7\n",
    "b = 3\n",
    "c = 5\n",
    "print('(a + b) + c = a + (b + c) -->', (a+b)+c == a+(b+c))"
   ]
  },
  {
   "attachments": {},
   "cell_type": "markdown",
   "metadata": {},
   "source": [
    "### Identity Property\n",
    "\n",
    "$a + 0 = a$"
   ]
  },
  {
   "cell_type": "code",
   "execution_count": 7,
   "metadata": {},
   "outputs": [
    {
     "name": "stdout",
     "output_type": "stream",
     "text": [
      "a + 0 = a --> True\n"
     ]
    }
   ],
   "source": [
    "a = 7\n",
    "print('a + 0 = a -->', a+0 == a)"
   ]
  },
  {
   "attachments": {},
   "cell_type": "markdown",
   "metadata": {},
   "source": [
    "## Subtraction\n",
    "\n",
    "$ a - b = c $"
   ]
  },
  {
   "attachments": {},
   "cell_type": "markdown",
   "metadata": {},
   "source": [
    "Subtraction is adding $-b$ to $a$."
   ]
  },
  {
   "cell_type": "code",
   "execution_count": 8,
   "metadata": {},
   "outputs": [
    {
     "name": "stdout",
     "output_type": "stream",
     "text": [
      "a - b == a + (-b) --> True\n"
     ]
    }
   ],
   "source": [
    "a = 8\n",
    "b = 2\n",
    "\n",
    "print('a - b == a + (-b) -->', a-b==a+(-b))"
   ]
  },
  {
   "attachments": {},
   "cell_type": "markdown",
   "metadata": {},
   "source": [
    "## Multiplication\n",
    "\n",
    "$a * b = c$"
   ]
  },
  {
   "attachments": {},
   "cell_type": "markdown",
   "metadata": {},
   "source": [
    "Multiplication is shorthand for adding $a$ to itself $b$ times."
   ]
  },
  {
   "cell_type": "code",
   "execution_count": 9,
   "metadata": {},
   "outputs": [
    {
     "name": "stdout",
     "output_type": "stream",
     "text": [
      "7 * 5 = 7+7+7+7+7 = 35\n"
     ]
    }
   ],
   "source": [
    "# show final result and additive form\n",
    "result = 0\n",
    "result_string = ''\n",
    "# define a and b\n",
    "a = 7\n",
    "b = 5\n",
    "# add a to result b times\n",
    "for i in range(b):\n",
    "    result += a\n",
    "    result_string += '7+'\n",
    "# eliminate final '+' from additive form\n",
    "result_string = result_string[:-1]\n",
    "\n",
    "print('7 * 5 =', result_string, '=', result)"
   ]
  },
  {
   "attachments": {},
   "cell_type": "markdown",
   "metadata": {},
   "source": [
    "### Commutative Property\n",
    "\n",
    "$ a * b = b * a $"
   ]
  },
  {
   "cell_type": "code",
   "execution_count": 10,
   "metadata": {},
   "outputs": [
    {
     "name": "stdout",
     "output_type": "stream",
     "text": [
      "a * b = b * a --> True\n"
     ]
    }
   ],
   "source": [
    "a = 8\n",
    "b = 2\n",
    "print('a * b = b * a -->', a*b==b*a)"
   ]
  },
  {
   "attachments": {},
   "cell_type": "markdown",
   "metadata": {},
   "source": [
    "### Associative Property\n",
    "\n",
    "$ (a * b) * c = a * (b * c) $"
   ]
  },
  {
   "cell_type": "code",
   "execution_count": 11,
   "metadata": {},
   "outputs": [
    {
     "name": "stdout",
     "output_type": "stream",
     "text": [
      "(a * b) * c = a * (b * c) --> True\n"
     ]
    }
   ],
   "source": [
    "a = 8\n",
    "b = 2\n",
    "c = 5\n",
    "print('(a * b) * c = a * (b * c) -->', (a*b)*c==a*(b*c))"
   ]
  },
  {
   "attachments": {},
   "cell_type": "markdown",
   "metadata": {},
   "source": [
    "### Identity Property\n",
    "\n",
    "$ a * 1 = a$"
   ]
  },
  {
   "cell_type": "code",
   "execution_count": 12,
   "metadata": {},
   "outputs": [
    {
     "name": "stdout",
     "output_type": "stream",
     "text": [
      "a * 1 = a --> True\n"
     ]
    }
   ],
   "source": [
    "a = 8\n",
    "print('a * 1 = a -->', a*1==a)"
   ]
  },
  {
   "attachments": {},
   "cell_type": "markdown",
   "metadata": {},
   "source": [
    "## Division\n",
    "\n",
    "$ {a / b} = c $"
   ]
  },
  {
   "attachments": {},
   "cell_type": "markdown",
   "metadata": {},
   "source": [
    "Division is counting the number of times $b$ can be subtracted from $a$."
   ]
  },
  {
   "cell_type": "code",
   "execution_count": 13,
   "metadata": {},
   "outputs": [
    {
     "name": "stdout",
     "output_type": "stream",
     "text": [
      "5 can be subtracted from 35 a total of 7 times.\n"
     ]
    }
   ],
   "source": [
    "count = 0\n",
    "a = 35\n",
    "a_subtract = a\n",
    "b = 5\n",
    "while a_subtract >= b:\n",
    "    a_subtract -= b\n",
    "    count += 1\n",
    "\n",
    "print(f'{b} can be subtracted from {a} a total of {count} times.')"
   ]
  },
  {
   "attachments": {},
   "cell_type": "markdown",
   "metadata": {},
   "source": [
    "### Remainder\n",
    "\n",
    "Sometimes $b$ will not divide evenly into $a$, leaving a remainder."
   ]
  },
  {
   "cell_type": "code",
   "execution_count": 14,
   "metadata": {},
   "outputs": [
    {
     "name": "stdout",
     "output_type": "stream",
     "text": [
      "5 can be subtracted from 38 a total of 7 times, leaving a remainder of 3.\n"
     ]
    }
   ],
   "source": [
    "count = 0\n",
    "a = 38\n",
    "a_subtract = a\n",
    "b = 5\n",
    "while a_subtract >= b:\n",
    "    a_subtract -= b\n",
    "    count += 1\n",
    "\n",
    "print(f'{b} can be subtracted from {a} a total of {count} times, \\\n",
    "leaving a remainder of {a_subtract}.')"
   ]
  },
  {
   "attachments": {},
   "cell_type": "markdown",
   "metadata": {},
   "source": [
    "## Exponents\n",
    "\n",
    "$ a^b = c $"
   ]
  },
  {
   "attachments": {},
   "cell_type": "markdown",
   "metadata": {},
   "source": [
    "Exponentiation is multiplying $a$ by itself $b$ times."
   ]
  },
  {
   "cell_type": "code",
   "execution_count": 15,
   "metadata": {},
   "outputs": [
    {
     "name": "stdout",
     "output_type": "stream",
     "text": [
      "2**5 = 2*2*2*2*2 = 32\n"
     ]
    }
   ],
   "source": [
    "result = 1\n",
    "result_string = ''\n",
    "a = 2\n",
    "b = 5\n",
    "for i in range(5):\n",
    "    result *= a\n",
    "    result_string += '2*'\n",
    "result_string = result_string[:-1]\n",
    "print(f'{a}**{b} =', result_string, '=', result)"
   ]
  },
  {
   "attachments": {},
   "cell_type": "markdown",
   "metadata": {},
   "source": [
    "## Equations"
   ]
  }
 ],
 "metadata": {
  "kernelspec": {
   "display_name": "venv",
   "language": "python",
   "name": "python3"
  },
  "language_info": {
   "codemirror_mode": {
    "name": "ipython",
    "version": 3
   },
   "file_extension": ".py",
   "mimetype": "text/x-python",
   "name": "python",
   "nbconvert_exporter": "python",
   "pygments_lexer": "ipython3",
   "version": "3.10.11"
  },
  "orig_nbformat": 4
 },
 "nbformat": 4,
 "nbformat_minor": 2
}
