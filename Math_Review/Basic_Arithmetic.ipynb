{
 "cells": [
  {
   "cell_type": "code",
   "execution_count": 1,
   "metadata": {},
   "outputs": [],
   "source": [
    "import math\n",
    "import sympy\n",
    "import numpy as np"
   ]
  },
  {
   "attachments": {},
   "cell_type": "markdown",
   "metadata": {},
   "source": [
    "# Fundamental Math"
   ]
  },
  {
   "attachments": {},
   "cell_type": "markdown",
   "metadata": {},
   "source": [
    "## Basic Number Forms"
   ]
  },
  {
   "cell_type": "code",
   "execution_count": 2,
   "metadata": {},
   "outputs": [
    {
     "name": "stdout",
     "output_type": "stream",
     "text": [
      "Natural Numbers: [1, 2, 3, 4, 5, 6, 7, 8, 9]\n",
      "Zero: 0\n",
      "Base 10 example: [7, 8, 9, 10, 11, 12]\n",
      "Negative numbers: [0, -1, -2, -3, -4, -5]\n",
      "Fraction: 2/5\n",
      "Decimal: 0.4\n",
      "2/5 = 0.4 --> True\n"
     ]
    }
   ],
   "source": [
    "# digits\n",
    "nums = [i for i in range(1, 10)]\n",
    "print('Natural Numbers:', nums)\n",
    "\n",
    "# zero (absence of value)\n",
    "print('Zero:', 0)\n",
    "\n",
    "# base 10\n",
    "nums = [i for i in range(7, 13)]\n",
    "print('Base 10 example:', nums)\n",
    "\n",
    "# negative numbers\n",
    "neg_nums = [i for i in range(0, -6, -1)]\n",
    "print('Negative numbers:', neg_nums)\n",
    "\n",
    "# fractions (portions of numbers)\n",
    "frac = sympy.Rational(2, 5)\n",
    "print('Fraction:', frac)\n",
    "\n",
    "# decimals (portions of numbers)\n",
    "dec = 2/5\n",
    "print('Decimal:', dec)\n",
    "\n",
    "# fractions and decimals are different forms of the same number\n",
    "print('2/5 = 0.4 -->', frac.p/frac.q == dec)"
   ]
  },
  {
   "attachments": {},
   "cell_type": "markdown",
   "metadata": {},
   "source": [
    "## Fundamental Operations"
   ]
  },
  {
   "cell_type": "code",
   "execution_count": 3,
   "metadata": {},
   "outputs": [
    {
     "name": "stdout",
     "output_type": "stream",
     "text": [
      "Addition: 8+2=10\n",
      "Subtraction: 8-2=6\n",
      "Multiplication: 8*2=16\n",
      "Division: 8/2=4.0\n"
     ]
    }
   ],
   "source": [
    "# Addition\n",
    "print(f'Addition: {8+2=}')\n",
    "# Subtraction\n",
    "print(f'Subtraction: {8-2=}')\n",
    "# Multiplication\n",
    "print(f'Multiplication: {8*2=}')\n",
    "# Division\n",
    "print(f'Division: {8/2=}')"
   ]
  },
  {
   "attachments": {},
   "cell_type": "markdown",
   "metadata": {},
   "source": [
    "### Order of Operations\n",
    "\n",
    "PEMDAS"
   ]
  },
  {
   "attachments": {},
   "cell_type": "markdown",
   "metadata": {},
   "source": [
    "Parentheses <br>\n",
    "Exponents <br>\n",
    "Multiplication & Division <br>\n",
    "Addition & Subtraction <br>"
   ]
  },
  {
   "attachments": {},
   "cell_type": "markdown",
   "metadata": {},
   "source": [
    "$ ((7 + 19) - 2^3 * 3) + 15/3 = 7$"
   ]
  },
  {
   "cell_type": "code",
   "execution_count": 4,
   "metadata": {},
   "outputs": [
    {
     "name": "stdout",
     "output_type": "stream",
     "text": [
      "7 + 19 = 26\n",
      "2**3 = 8\n",
      "8 * 3 = 24\n",
      "26 - 24 = 2\n",
      "15 // 3 = 5\n",
      "2 + 5 = 7\n",
      "\n",
      "((7+19) - 2**3 * 3) + 15//3 = 7\n"
     ]
    }
   ],
   "source": [
    "print(f'{7 + 19 = }')\n",
    "print(f'{2**3 = }')\n",
    "print(f'{8 * 3 = }')\n",
    "print(f'{26 - 24 = }')\n",
    "print(f'{15 // 3 = }')\n",
    "print(f'{2 + 5 = }\\n')\n",
    "print(f'{((7+19) - 2**3 * 3) + 15//3 = }')"
   ]
  },
  {
   "attachments": {},
   "cell_type": "markdown",
   "metadata": {},
   "source": [
    "## Addition\n",
    "\n",
    "$a + b = c$"
   ]
  },
  {
   "attachments": {},
   "cell_type": "markdown",
   "metadata": {},
   "source": [
    "### Commutative Property\n",
    "\n",
    "$a + b = b + a$"
   ]
  },
  {
   "cell_type": "code",
   "execution_count": 5,
   "metadata": {},
   "outputs": [
    {
     "name": "stdout",
     "output_type": "stream",
     "text": [
      "a + b = b + a --> True\n"
     ]
    }
   ],
   "source": [
    "a = 7\n",
    "b = 3\n",
    "print('a + b = b + a -->', a + b == b + a)"
   ]
  },
  {
   "attachments": {},
   "cell_type": "markdown",
   "metadata": {},
   "source": [
    "### Associative Property\n",
    "\n",
    "$(a + b) + c = a + (b + c)$"
   ]
  },
  {
   "cell_type": "code",
   "execution_count": 6,
   "metadata": {},
   "outputs": [
    {
     "name": "stdout",
     "output_type": "stream",
     "text": [
      "(a + b) + c = a + (b + c) --> True\n"
     ]
    }
   ],
   "source": [
    "a = 7\n",
    "b = 3\n",
    "c = 5\n",
    "print('(a + b) + c = a + (b + c) -->', (a+b)+c == a+(b+c))"
   ]
  },
  {
   "attachments": {},
   "cell_type": "markdown",
   "metadata": {},
   "source": [
    "### Identity Property\n",
    "\n",
    "$a + 0 = a$"
   ]
  },
  {
   "cell_type": "code",
   "execution_count": 7,
   "metadata": {},
   "outputs": [
    {
     "name": "stdout",
     "output_type": "stream",
     "text": [
      "a + 0 = a --> True\n"
     ]
    }
   ],
   "source": [
    "a = 7\n",
    "print('a + 0 = a -->', a+0 == a)"
   ]
  },
  {
   "attachments": {},
   "cell_type": "markdown",
   "metadata": {},
   "source": [
    "## Subtraction\n",
    "\n",
    "$ a - b = c $"
   ]
  },
  {
   "attachments": {},
   "cell_type": "markdown",
   "metadata": {},
   "source": [
    "Subtraction is adding $-b$ to $a$."
   ]
  },
  {
   "cell_type": "code",
   "execution_count": 8,
   "metadata": {},
   "outputs": [
    {
     "name": "stdout",
     "output_type": "stream",
     "text": [
      "a - b == a + (-b) --> True\n"
     ]
    }
   ],
   "source": [
    "a = 8\n",
    "b = 2\n",
    "\n",
    "print('a - b == a + (-b) -->', a-b==a+(-b))"
   ]
  },
  {
   "cell_type": "markdown",
   "metadata": {},
   "source": [
    "Subtracting $-b$ from $a$ makes $b$ positive.\n",
    "\n",
    "$ a - (-b) = a + b $"
   ]
  },
  {
   "cell_type": "code",
   "execution_count": 9,
   "metadata": {},
   "outputs": [
    {
     "name": "stdout",
     "output_type": "stream",
     "text": [
      "a - (-b) = a + b --> True\n"
     ]
    }
   ],
   "source": [
    "a = 8\n",
    "b = 2\n",
    "print('a - (-b) = a + b -->', a-(-b)==a+b)"
   ]
  },
  {
   "attachments": {},
   "cell_type": "markdown",
   "metadata": {},
   "source": [
    "## Multiplication\n",
    "\n",
    "$a * b = c$"
   ]
  },
  {
   "attachments": {},
   "cell_type": "markdown",
   "metadata": {},
   "source": [
    "Multiplication is shorthand for adding $a$ to itself $b$ times."
   ]
  },
  {
   "cell_type": "code",
   "execution_count": 10,
   "metadata": {},
   "outputs": [
    {
     "name": "stdout",
     "output_type": "stream",
     "text": [
      "7 * 5 = 7+7+7+7+7 = 35\n"
     ]
    }
   ],
   "source": [
    "# show final result and additive form\n",
    "result = 0\n",
    "result_string = ''\n",
    "# define a and b\n",
    "a = 7\n",
    "b = 5\n",
    "# add a to result b times\n",
    "for i in range(b):\n",
    "    result += a\n",
    "    result_string += '7+'\n",
    "# eliminate final '+' from additive form\n",
    "result_string = result_string[:-1]\n",
    "\n",
    "print('7 * 5 =', result_string, '=', result)"
   ]
  },
  {
   "attachments": {},
   "cell_type": "markdown",
   "metadata": {},
   "source": [
    "### Commutative Property\n",
    "\n",
    "$ a * b = b * a $"
   ]
  },
  {
   "cell_type": "code",
   "execution_count": 11,
   "metadata": {},
   "outputs": [
    {
     "name": "stdout",
     "output_type": "stream",
     "text": [
      "a * b = b * a --> True\n"
     ]
    }
   ],
   "source": [
    "a = 8\n",
    "b = 2\n",
    "print('a * b = b * a -->', a*b==b*a)"
   ]
  },
  {
   "attachments": {},
   "cell_type": "markdown",
   "metadata": {},
   "source": [
    "### Associative Property\n",
    "\n",
    "$ (a * b) * c = a * (b * c) $"
   ]
  },
  {
   "cell_type": "code",
   "execution_count": 12,
   "metadata": {},
   "outputs": [
    {
     "name": "stdout",
     "output_type": "stream",
     "text": [
      "(a * b) * c = a * (b * c) --> True\n"
     ]
    }
   ],
   "source": [
    "a = 8\n",
    "b = 2\n",
    "c = 5\n",
    "print('(a * b) * c = a * (b * c) -->', (a*b)*c==a*(b*c))"
   ]
  },
  {
   "attachments": {},
   "cell_type": "markdown",
   "metadata": {},
   "source": [
    "### Identity Property\n",
    "\n",
    "$ a * 1 = a$"
   ]
  },
  {
   "cell_type": "code",
   "execution_count": 13,
   "metadata": {},
   "outputs": [
    {
     "name": "stdout",
     "output_type": "stream",
     "text": [
      "a * 1 = a --> True\n"
     ]
    }
   ],
   "source": [
    "a = 8\n",
    "print('a * 1 = a -->', a*1==a)"
   ]
  },
  {
   "cell_type": "markdown",
   "metadata": {},
   "source": [
    "### Distributive Property\n",
    "\n",
    "$ a * (x - y) = ax - ay $\n",
    "\n",
    "$ ax - bx = (a - b) * x $"
   ]
  },
  {
   "cell_type": "code",
   "execution_count": 14,
   "metadata": {},
   "outputs": [
    {
     "name": "stdout",
     "output_type": "stream",
     "text": [
      "a * (x - y) = ax - ay --> True\n"
     ]
    }
   ],
   "source": [
    "a = 8\n",
    "x = 2\n",
    "y = 5\n",
    "print('a * (x - y) = ax - ay -->', a*(x-y)==a*x-a*y)"
   ]
  },
  {
   "cell_type": "code",
   "execution_count": 15,
   "metadata": {},
   "outputs": [
    {
     "name": "stdout",
     "output_type": "stream",
     "text": [
      "ax - bx = (a - b) * x --> True\n"
     ]
    }
   ],
   "source": [
    "a = 8\n",
    "b = 2\n",
    "y = 5\n",
    "print('ax - bx = (a - b) * x -->', a*x-b*x==(a-b)*x)"
   ]
  },
  {
   "attachments": {},
   "cell_type": "markdown",
   "metadata": {},
   "source": [
    "## Division\n",
    "\n",
    "$ a \\div b = c $"
   ]
  },
  {
   "attachments": {},
   "cell_type": "markdown",
   "metadata": {},
   "source": [
    "Division is counting the number of times $b$ can be subtracted from $a$."
   ]
  },
  {
   "cell_type": "code",
   "execution_count": 16,
   "metadata": {},
   "outputs": [
    {
     "name": "stdout",
     "output_type": "stream",
     "text": [
      "5 can be subtracted from 35 a total of 7 times.\n"
     ]
    }
   ],
   "source": [
    "count = 0\n",
    "a = 35\n",
    "a_subtract = a\n",
    "b = 5\n",
    "while a_subtract >= b:\n",
    "    a_subtract -= b\n",
    "    count += 1\n",
    "\n",
    "print(f'{b} can be subtracted from {a} a total of {count} times.')"
   ]
  },
  {
   "attachments": {},
   "cell_type": "markdown",
   "metadata": {},
   "source": [
    "### Remainder\n",
    "\n",
    "Sometimes $b$ will not divide evenly into $a$, leaving a remainder."
   ]
  },
  {
   "cell_type": "code",
   "execution_count": 17,
   "metadata": {},
   "outputs": [
    {
     "name": "stdout",
     "output_type": "stream",
     "text": [
      "5 can be subtracted from 38 a total of 7 times, leaving a remainder of 3.\n"
     ]
    }
   ],
   "source": [
    "count = 0\n",
    "a = 38\n",
    "a_subtract = a\n",
    "b = 5\n",
    "while a_subtract >= b:\n",
    "    a_subtract -= b\n",
    "    count += 1\n",
    "\n",
    "print(f'{b} can be subtracted from {a} a total of {count} times, \\\n",
    "leaving a remainder of {a_subtract}.')"
   ]
  },
  {
   "cell_type": "markdown",
   "metadata": {},
   "source": [
    "### Identity Property\n",
    "\n",
    "$ {x \\over x} = 1 $"
   ]
  },
  {
   "cell_type": "code",
   "execution_count": 18,
   "metadata": {},
   "outputs": [
    {
     "name": "stdout",
     "output_type": "stream",
     "text": [
      "x / x = 1 --> True\n"
     ]
    }
   ],
   "source": [
    "x = 5023.6943\n",
    "print('x / x = 1 -->', x/x==1)"
   ]
  },
  {
   "cell_type": "markdown",
   "metadata": {},
   "source": [
    "## Fractions\n",
    "\n",
    "$ {a \\over b} = c $"
   ]
  },
  {
   "cell_type": "markdown",
   "metadata": {},
   "source": [
    "Fractions are representations of division."
   ]
  },
  {
   "cell_type": "markdown",
   "metadata": {},
   "source": [
    "$ {x \\over y} = x * {1 \\over y} $"
   ]
  },
  {
   "cell_type": "code",
   "execution_count": 19,
   "metadata": {},
   "outputs": [
    {
     "name": "stdout",
     "output_type": "stream",
     "text": [
      "x / y = x * (1 / y) --> True\n"
     ]
    }
   ],
   "source": [
    "x = 5\n",
    "y = 2\n",
    "print('x / y = x * (1 / y) -->', x/y==x*(1/y))"
   ]
  },
  {
   "cell_type": "markdown",
   "metadata": {},
   "source": [
    "$ {x \\over y} = {x \\over y} * 1 = {x \\over y} * {z \\over z} = {xz \\over yz} $"
   ]
  },
  {
   "cell_type": "code",
   "execution_count": 20,
   "metadata": {},
   "outputs": [
    {
     "name": "stdout",
     "output_type": "stream",
     "text": [
      "x / y = xz / yz --> True\n"
     ]
    }
   ],
   "source": [
    "x = 5\n",
    "y = 2\n",
    "z = 32905\n",
    "print('x / y = xz / yz -->', x/y==(x*z)/(y*z))"
   ]
  },
  {
   "cell_type": "markdown",
   "metadata": {},
   "source": [
    "$ a * {x \\over y} = {ax \\over y} $"
   ]
  },
  {
   "cell_type": "code",
   "execution_count": 21,
   "metadata": {},
   "outputs": [
    {
     "name": "stdout",
     "output_type": "stream",
     "text": [
      "a * (x / y) = ax / y --> True\n"
     ]
    }
   ],
   "source": [
    "a = 6\n",
    "x = 5\n",
    "y = 10\n",
    "print('a * (x / y) = ax / y -->', a*(x/y)==a*x/y)"
   ]
  },
  {
   "cell_type": "markdown",
   "metadata": {},
   "source": [
    "$ {x \\over y} * {a \\over b} = {ax \\over by} $"
   ]
  },
  {
   "cell_type": "code",
   "execution_count": 22,
   "metadata": {},
   "outputs": [
    {
     "name": "stdout",
     "output_type": "stream",
     "text": [
      "(x / y) * (a / b) = ax / by --> True\n"
     ]
    }
   ],
   "source": [
    "a = 7\n",
    "b = 2\n",
    "x = 5\n",
    "y = 10\n",
    "print('(x / y) * (a / b) = ax / by -->', (x/y)*(a/b)==(a*x)/(b*y))"
   ]
  },
  {
   "cell_type": "markdown",
   "metadata": {},
   "source": [
    "$ {x \\over y} \\div {a \\over b} = {x \\over y} * {b \\over a} = {xb \\over ya} $"
   ]
  },
  {
   "cell_type": "code",
   "execution_count": 23,
   "metadata": {},
   "outputs": [
    {
     "name": "stdout",
     "output_type": "stream",
     "text": [
      "(x / y) / (a / b) = xb / ya --> True\n"
     ]
    }
   ],
   "source": [
    "a = 7\n",
    "b = 2\n",
    "x = 5\n",
    "y = 10\n",
    "print('(x / y) / (a / b) = xb / ya -->', (x/y)/(a/b)==(x*b)/(y*a))"
   ]
  },
  {
   "cell_type": "markdown",
   "metadata": {},
   "source": [
    "## Percentages\n",
    "\n",
    "$ {2 \\over 5} = 40\\% $"
   ]
  },
  {
   "cell_type": "markdown",
   "metadata": {},
   "source": [
    "Percentages are another way to represent division, but they are represented in hundredths.\n",
    "\n",
    "$ 1 = 100\\% $ <br>\n",
    "$ {2 \\over 5} = {40 \\over 100} = 40\\% $"
   ]
  },
  {
   "cell_type": "markdown",
   "metadata": {},
   "source": [
    "# Pre-Algebra"
   ]
  },
  {
   "attachments": {},
   "cell_type": "markdown",
   "metadata": {},
   "source": [
    "## Equations\n",
    "\n",
    "$ x^3 + {c \\over 4} + y - 9a = 5 $"
   ]
  },
  {
   "cell_type": "markdown",
   "metadata": {},
   "source": [
    "Terms are single numbers, variables, or products. Terms are generally added or subtracted in equations. For example, $-9a$ and $x^3$ are terms.\n",
    "\n",
    "Factors are parts of a product. For example, in $-9a$, $-9$ and $a$ are factors, and $x$ is a factor in $x^3$.\n",
    "\n",
    "Coefficients are a number multiplied by a variable. For example, in $-9a$, $-9$ is the coefficient, and in ${c \\over 4}$, the coefficient is ${1 \\over 4}$."
   ]
  },
  {
   "cell_type": "markdown",
   "metadata": {},
   "source": [
    "An equation has a left side and a right side. An equation is either an equality or inequality.\n",
    "\n",
    "$ a + b = c $ (Equality) <br>\n",
    "$ a + b \\leq c $ (Inequality, less than or equal to) <br>\n",
    "$ a + b \\neq c $ (Inequality, not equal to)\n",
    "\n",
    "Equalities have exact answer(s). Inequalities like $\\leq$ are satisified by a range of values, up to (for $<$) and sometimes including (for $\\leq$) the boundary value."
   ]
  },
  {
   "cell_type": "markdown",
   "metadata": {},
   "source": [
    "For range inequalities like $<$, the sign flips if we multiply both sides of the equation by a negative number."
   ]
  },
  {
   "cell_type": "markdown",
   "metadata": {},
   "source": [
    "$ a + b \\leq c $ <br>\n",
    "$ -x * (a + b) =? -x * c $ <br>\n",
    "$ -x(a+b) \\geq -xc $"
   ]
  },
  {
   "cell_type": "code",
   "execution_count": 24,
   "metadata": {},
   "outputs": [
    {
     "name": "stdout",
     "output_type": "stream",
     "text": [
      "a + b <= c --> True\n",
      "-x * (a + b) >= -x * c --> True\n"
     ]
    }
   ],
   "source": [
    "a = 3\n",
    "b = 5\n",
    "c = 10\n",
    "x = 4\n",
    "print('a + b <= c -->', a+b<=c)\n",
    "print('-x * (a + b) >= -x * c -->', -x*(a+b)>=-x*c)"
   ]
  },
  {
   "cell_type": "markdown",
   "metadata": {},
   "source": [
    "### Solutions to Equations"
   ]
  },
  {
   "cell_type": "markdown",
   "metadata": {},
   "source": [
    "$ 2x = 10 \\to x=5 $ <br>\n",
    "$ x^2 = 25 \\to x=\\pm 5 $\n",
    "\n",
    "Some equations have one or more solutions.\n",
    "\n",
    "$ x + 3 = x + 5 \\to $ NO SOLUTION\n",
    "\n",
    "Some equations (like two non-equal parallel lines) have no solutions.\n",
    "\n",
    "$ 4(x-2)+x = 5x-8 \\to x=x $\n",
    "\n",
    "Some equations (like to equal parallel lines) have infinite solutions."
   ]
  },
  {
   "cell_type": "markdown",
   "metadata": {},
   "source": [
    "### Two-Variable Equations\n",
    "\n",
    "Slope-Intercept Form: $ y = mx + b $ <br>\n",
    "where $m$ is the slope and $b$ is the intercept."
   ]
  },
  {
   "cell_type": "markdown",
   "metadata": {},
   "source": [
    "$ y = 2x + 6 $ <br>\n",
    "$ 0 = 2x + 6 $ <br>\n",
    "$ -2x = 6 $ <br>\n",
    "$ x = -3 $\n",
    "\n",
    "$x$ intercepts can be found by setting $y$ to 0."
   ]
  },
  {
   "cell_type": "markdown",
   "metadata": {},
   "source": [
    "$ y = 2x + 6 $ <br>\n",
    "$ y = 2(0) + 6 $ <br>\n",
    "$ y = 6 $\n",
    "\n",
    "$y$ intercepts can be found by setting $x$ to 0."
   ]
  },
  {
   "cell_type": "markdown",
   "metadata": {},
   "source": [
    "$ m = {{rise} \\over {run}} = {\\Delta{y} \\over \\Delta{x}} = {y_2 - y_1 \\over x_2 - x_1}$"
   ]
  },
  {
   "attachments": {},
   "cell_type": "markdown",
   "metadata": {},
   "source": [
    "## Exponents\n",
    "\n",
    "$ a^b = c $"
   ]
  },
  {
   "attachments": {},
   "cell_type": "markdown",
   "metadata": {},
   "source": [
    "Exponentiation is multiplying $a$ by itself $b$ times."
   ]
  },
  {
   "cell_type": "code",
   "execution_count": 25,
   "metadata": {},
   "outputs": [
    {
     "name": "stdout",
     "output_type": "stream",
     "text": [
      "2**5 = 2*2*2*2*2 = 32\n"
     ]
    }
   ],
   "source": [
    "result = 1\n",
    "result_string = ''\n",
    "a = 2\n",
    "b = 5\n",
    "for i in range(5):\n",
    "    result *= a\n",
    "    result_string += '2*'\n",
    "result_string = result_string[:-1]\n",
    "print(f'{a}**{b} =', result_string, '=', result)"
   ]
  },
  {
   "cell_type": "markdown",
   "metadata": {},
   "source": [
    "$x^a \\cdot x^b = x^{a+b} $\n",
    "\n",
    "When a same base of different exponents is multiplied, the exponents are added together."
   ]
  },
  {
   "cell_type": "code",
   "execution_count": 26,
   "metadata": {},
   "outputs": [
    {
     "name": "stdout",
     "output_type": "stream",
     "text": [
      "x^a * x^b = x^a+b --> True\n"
     ]
    }
   ],
   "source": [
    "x = 2\n",
    "a = 3\n",
    "b = 4\n",
    "\n",
    "print('x^a * x^b = x^a+b -->', x**a * x**b == x**(a+b))"
   ]
  },
  {
   "cell_type": "markdown",
   "metadata": {},
   "source": [
    "$ {x^a \\over x^b} = x^{a-b} $\n",
    "\n",
    "When a same base of different exponents is divided, the exponents are subtracted."
   ]
  },
  {
   "cell_type": "code",
   "execution_count": 27,
   "metadata": {},
   "outputs": [
    {
     "name": "stdout",
     "output_type": "stream",
     "text": [
      "x^a / x^b = x^a-b --> True\n"
     ]
    }
   ],
   "source": [
    "x = 2\n",
    "a = 7\n",
    "b = 5\n",
    "\n",
    "print('x^a / x^b = x^a-b -->', x**a / x**b == x**(a-b))"
   ]
  },
  {
   "cell_type": "markdown",
   "metadata": {},
   "source": [
    "$ (x^a)^b = x^{a \\cdot b} $\n",
    "\n",
    "When a same base raised to an exponent, is raised to an exponent, the exponents are multiplied."
   ]
  },
  {
   "cell_type": "code",
   "execution_count": 28,
   "metadata": {},
   "outputs": [
    {
     "name": "stdout",
     "output_type": "stream",
     "text": [
      "(x^a)^b = x^(a*b) --> True\n"
     ]
    }
   ],
   "source": [
    "x = 2\n",
    "a = 3\n",
    "b = 4\n",
    "\n",
    "print('(x^a)^b = x^(a*b) -->', (x**a)**b == x**(a*b))"
   ]
  },
  {
   "cell_type": "markdown",
   "metadata": {},
   "source": [
    "$ (x \\cdot y)^a = x^a \\cdot y^a $\n",
    "\n",
    "When two bases multiplied together, are raised to an exponent, the exponent can be distributed to each base."
   ]
  },
  {
   "cell_type": "code",
   "execution_count": 29,
   "metadata": {},
   "outputs": [
    {
     "name": "stdout",
     "output_type": "stream",
     "text": [
      "(x*y)^a = x^a * y^a --> True\n"
     ]
    }
   ],
   "source": [
    "x = 5\n",
    "y = 3\n",
    "a = 3\n",
    "\n",
    "print('(x*y)^a = x^a * y^a -->', (x*y)**a == x**a * y**a)"
   ]
  },
  {
   "cell_type": "markdown",
   "metadata": {},
   "source": [
    "$ ({x \\over y})^a = {x^a \\over y^a} $\n",
    "\n",
    "When two bases are divided, the exponent can be distributed to each base."
   ]
  },
  {
   "cell_type": "code",
   "execution_count": 30,
   "metadata": {},
   "outputs": [
    {
     "name": "stdout",
     "output_type": "stream",
     "text": [
      "(x / y)^a = x^a / y^a --> True\n"
     ]
    }
   ],
   "source": [
    "x = 2\n",
    "y = 8\n",
    "a = 3\n",
    "print('(x / y)^a = x^a / y^a -->', (x/y)**a==x**a/y**a)"
   ]
  },
  {
   "cell_type": "markdown",
   "metadata": {},
   "source": [
    "$ x^{-n} = {1 \\over x^n} $\n",
    "\n",
    "By definition, $x^{-n}$ is 1 divided by $x^n$."
   ]
  },
  {
   "cell_type": "code",
   "execution_count": 31,
   "metadata": {},
   "outputs": [
    {
     "name": "stdout",
     "output_type": "stream",
     "text": [
      "x^-n = 1/(x^n) --> True\n"
     ]
    }
   ],
   "source": [
    "x = 2\n",
    "n = 3\n",
    "\n",
    "print('x^-n = 1/(x^n) -->', x**(-n)==1/(x**n))"
   ]
  },
  {
   "cell_type": "markdown",
   "metadata": {},
   "source": [
    "Raising $x$ to an exponent $a$ is multiplying $x$ by 1, then by itself $a$ times.\n",
    "\n",
    "$ x^1 = x $\n",
    "\n",
    "Any number to the first power equals itself.\n",
    "\n",
    "$ x^0 = 1 $\n",
    "\n",
    "Any number to the power of 0 is 1...\n",
    "\n",
    "$ 0^1 = 0 $\n",
    "\n",
    "... except 0, since $ 0^1 = 1 \\cdot 0 = 0 $.\n",
    "\n",
    "$ 0^0 \\ne, $ UNDEFINED or 1\n",
    "\n",
    "0 to the power of 0 is undefined (the answer is contested among mathematicians, as some suggest that $0^0 = 1$)."
   ]
  },
  {
   "cell_type": "markdown",
   "metadata": {},
   "source": [
    "## Roots\n",
    "\n",
    "$ a = (\\sqrt{a})^2 = b^2 $"
   ]
  },
  {
   "cell_type": "markdown",
   "metadata": {},
   "source": [
    "$\\sqrt{a}$ is multiplying $b$ by itself. "
   ]
  },
  {
   "cell_type": "markdown",
   "metadata": {},
   "source": [
    "$\\sqrt{a} = a^{1 \\over 2}$\n",
    "\n",
    "Roots are the inverses of exponentials."
   ]
  },
  {
   "cell_type": "code",
   "execution_count": 32,
   "metadata": {},
   "outputs": [
    {
     "name": "stdout",
     "output_type": "stream",
     "text": [
      "Square root of 2: 1.4142135623730951\n",
      "Square root of 2, squared: 2.0\n"
     ]
    }
   ],
   "source": [
    "print('Square root of 2:', math.sqrt(2))\n",
    "\n",
    "print('Square root of 2, squared:', round(math.sqrt(2)**2, 10))"
   ]
  },
  {
   "cell_type": "markdown",
   "metadata": {},
   "source": [
    "$ \\sqrt{a} = \\pm b $\n",
    "\n",
    "Because the square of any number is positive, the square root of a number equals the positive and/or negative of its roots.\n",
    "\n",
    "\n",
    "\n"
   ]
  },
  {
   "cell_type": "code",
   "execution_count": 33,
   "metadata": {},
   "outputs": [
    {
     "name": "stdout",
     "output_type": "stream",
     "text": [
      "3 Squared: 9\n",
      "-3 Squared: 9\n",
      "Square root of 9: 3.0\n"
     ]
    }
   ],
   "source": [
    "print('3 Squared:', (3)**2)\n",
    "print('-3 Squared:', (-3)**2)\n",
    "print('Square root of 9:', math.sqrt(9))"
   ]
  },
  {
   "cell_type": "markdown",
   "metadata": {},
   "source": [
    "$ \\sqrt{-a} \\ne, $ DOMAIN ERROR\n",
    "\n",
    "Because the square of any number is positive, no (real) number is the square root of a negative number."
   ]
  },
  {
   "cell_type": "markdown",
   "metadata": {},
   "source": [
    "$ \\sqrt[x]{a} = a^{1 \\over x} = b $\n",
    "\n",
    "Roots greater than 2 (such as the cube root) are similar to cube roots, $b^x = a$."
   ]
  },
  {
   "cell_type": "markdown",
   "metadata": {},
   "source": [
    "$ \\sqrt[3]{a} = c $\n",
    "\n",
    "For cube roots, $c$ raised to the power of 3 equals $a$. $a$ can be negative for cube roots."
   ]
  },
  {
   "cell_type": "code",
   "execution_count": 34,
   "metadata": {},
   "outputs": [
    {
     "name": "stdout",
     "output_type": "stream",
     "text": [
      "Cube root of -27: -3.0\n"
     ]
    }
   ],
   "source": [
    "print('Cube root of -27:', np.cbrt(-27))"
   ]
  },
  {
   "cell_type": "markdown",
   "metadata": {},
   "source": [
    "$ \\sqrt[x]{a} = b $  if $x\\%2\\ne0$\n",
    "\n",
    "Following the logic from square and cube roots:\n",
    "1. Any even root cannot be computed on a negative number.\n",
    "2. Any odd root can be computed on a negative number."
   ]
  }
 ],
 "metadata": {
  "kernelspec": {
   "display_name": "venv",
   "language": "python",
   "name": "python3"
  },
  "language_info": {
   "codemirror_mode": {
    "name": "ipython",
    "version": 3
   },
   "file_extension": ".py",
   "mimetype": "text/x-python",
   "name": "python",
   "nbconvert_exporter": "python",
   "pygments_lexer": "ipython3",
   "version": "3.10.11"
  },
  "orig_nbformat": 4
 },
 "nbformat": 4,
 "nbformat_minor": 2
}
