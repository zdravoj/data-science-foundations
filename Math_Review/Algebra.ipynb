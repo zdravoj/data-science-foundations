{
 "cells": [
  {
   "cell_type": "code",
   "execution_count": 1,
   "metadata": {},
   "outputs": [],
   "source": [
    "import math\n",
    "import sympy\n",
    "import numpy as np"
   ]
  },
  {
   "cell_type": "markdown",
   "metadata": {},
   "source": [
    "# Algebra Basics"
   ]
  },
  {
   "cell_type": "markdown",
   "metadata": {},
   "source": [
    "## Algebraic Manipulation\n",
    "\n",
    "$ {{1 \\over a} - {1 \\over b} \\over c} \\div {1 \\over d} $"
   ]
  },
  {
   "cell_type": "markdown",
   "metadata": {},
   "source": [
    "Algebra is the foundation of mathematical manipulation. Often we want to change mathematical statements to make them simpler, to use them for substitutions, etc. For the equation above, we can manipulate it into a simpler format in the following way:\n",
    "\n",
    "$ {1 \\over a} - {1 \\over b} $ <br>\n",
    "\n",
    "$ {b \\over ba} - {a \\over ab} $ <br>\n",
    "\n",
    "$ {b - a \\over ab} $ <br>\n",
    "\n",
    "$ {{b - a \\over ab} \\over c} $ <br> \n",
    "\n",
    "$ {b - a \\over ab} \\cdot {1 \\over c} $ <br>\n",
    "\n",
    "$ {b - a \\over abc} $ <br>\n",
    "\n",
    "$ {b - a \\over abc} \\div {1 \\over d} $ <br>\n",
    "\n",
    "$ {b - a \\over abc} \\cdot {d \\over 1} $ <br>\n",
    "\n",
    "$ {d(b - a) \\over abc} $ <br>\n",
    "\n",
    "$ {bd - ad \\over abc} $\n"
   ]
  },
  {
   "cell_type": "code",
   "execution_count": 2,
   "metadata": {},
   "outputs": [
    {
     "name": "stdout",
     "output_type": "stream",
     "text": [
      "(((1/a) - (1/b)) / c) / (1/d) = (bd - ad) / (abc) --> True\n"
     ]
    }
   ],
   "source": [
    "a = 10\n",
    "b = 5\n",
    "c = 3\n",
    "d = 4\n",
    "\n",
    "print(\n",
    "    '(((1/a) - (1/b)) / c) / (1/d) = (bd - ad) / (abc) -->',\n",
    "    (((1/a) - (1/b)) / c) / (1/d)==(b*d - a*d) / (a*b*c)\n",
    ")"
   ]
  },
  {
   "cell_type": "markdown",
   "metadata": {},
   "source": [
    "## Polynomials\n",
    "\n",
    "$ 5h^3 - 8h + 6 $"
   ]
  },
  {
   "cell_type": "markdown",
   "metadata": {},
   "source": [
    "Polynomials are a larger family of mathematical statements that include linear equations. Polynomials have multiple terms."
   ]
  },
  {
   "cell_type": "markdown",
   "metadata": {},
   "source": [
    "### Monomials, Binomials, & Polynomials"
   ]
  },
  {
   "cell_type": "markdown",
   "metadata": {},
   "source": [
    "Monomials are polynomials with a single term.\n",
    "\n",
    "$ 5h^3 $ <br>\n",
    "$ -8h $ <br>\n",
    "$ 6 \\equiv 6h^0 $\n",
    "\n",
    "Note that $6$, a constant, is considered a monomial."
   ]
  },
  {
   "cell_type": "markdown",
   "metadata": {},
   "source": [
    "Binomials are polynomials with two terms.\n",
    "\n",
    "$ 5h^3 - 8h $"
   ]
  },
  {
   "cell_type": "markdown",
   "metadata": {},
   "source": [
    "Trinomials and beyond exist, but generally, any polynomial greater than 2 terms is referred to as a polynomial."
   ]
  },
  {
   "cell_type": "markdown",
   "metadata": {},
   "source": [
    "## Polynomial Addition & Subtraction\n",
    "\n",
    "$ (5h^3 - 8h) + (-2h^3 -h^2 - 2h) $"
   ]
  },
  {
   "cell_type": "markdown",
   "metadata": {},
   "source": [
    "Polynomial addition and subtraction can be considered like normal addition and subtraction, with variables. Add or subtract like terms.\n",
    "\n",
    "$ (5h^3 + (-2h^3)) + (-h^2) + (-8h + (-2h)) $ <br>\n",
    "$ (3h^3) + (-h^2) + (-10h) $ <br>\n",
    "$ 3h^3 - h^2 - 10h $"
   ]
  },
  {
   "cell_type": "code",
   "execution_count": 3,
   "metadata": {},
   "outputs": [
    {
     "name": "stdout",
     "output_type": "stream",
     "text": [
      "(5h^3 - 8h) + (-2h^3 - h^2 - 2h) = (3h^3 - h^2 - 10h) --> True\n"
     ]
    }
   ],
   "source": [
    "h = sympy.symbols('h')\n",
    "\n",
    "a = 5*h**3 - 8*h\n",
    "b = -2*h**3 - h**2 - 2*h\n",
    "c = 3*h**3 - h**2 - 10*h\n",
    "\n",
    "print('(5h^3 - 8h) + (-2h^3 - h^2 - 2h) = (3h^3 - h^2 - 10h) -->', a+b==c)"
   ]
  },
  {
   "cell_type": "markdown",
   "metadata": {},
   "source": [
    "## Binomial Multiplication\n",
    "\n",
    "$ (x-2)(x-6) $"
   ]
  },
  {
   "cell_type": "markdown",
   "metadata": {},
   "source": [
    "To multiply binomials, apply the distributive property, or FOIL: <br>\n",
    "First, Outside, Inside, Last\n",
    "\n",
    "$ (x \\cdot x) + (-6x) + (-2x) + (-2 \\cdot -6) $ <br>\n",
    "$ (x^2) + (-6x + (-2x)) + (12) $ <br>\n",
    "$ x^2 - 8x + 12 $ <br>"
   ]
  },
  {
   "cell_type": "code",
   "execution_count": 4,
   "metadata": {},
   "outputs": [
    {
     "name": "stdout",
     "output_type": "stream",
     "text": [
      "(x - 2)(x - 6) = x^2 - 8x + 12 --> True\n"
     ]
    }
   ],
   "source": [
    "x = 9\n",
    "\n",
    "a = x-2\n",
    "b = x-6\n",
    "c = x**2 - 8*x + 12\n",
    "\n",
    "print('(x - 2)(x - 6) = x^2 - 8x + 12 -->', a*b==c)"
   ]
  },
  {
   "cell_type": "markdown",
   "metadata": {},
   "source": [
    "### Difference of Squares\n",
    "\n",
    "$ (a + b)(a - b) = a^2 - b^2 $"
   ]
  },
  {
   "cell_type": "markdown",
   "metadata": {},
   "source": [
    "### Other Binomial Special Products\n",
    "\n",
    "$ (a + b)^2 = a^2 + 2ab + b^2 $ <br>\n",
    "$ (a - b)^2 = a^2 - 2ab + b^2 $"
   ]
  },
  {
   "cell_type": "markdown",
   "metadata": {},
   "source": [
    "## Factoring Polynomials\n",
    "\n",
    "$ abx + ac = a(bx + c) $ "
   ]
  },
  {
   "cell_type": "markdown",
   "metadata": {},
   "source": [
    "Factoring is removing a common \"factor\" or multiplier.\n",
    "\n",
    "$ 6m + 15 = 3(2m + 5) $"
   ]
  },
  {
   "cell_type": "markdown",
   "metadata": {},
   "source": [
    "Often we want to factor out the greatest common factor.\n",
    "\n",
    "$ 44k^5 - 66k^4 + 77k^3 $\n",
    "\n",
    "The greatest common factor of $44$, $66$, and $77$ is $11$, and the greatest common factor of $k^5$, $k^4$, and $k^3$ is $k^3$.\n",
    "\n",
    "$$ {44k^5 - 66k^4 + 77k^3 \\over 11k^3} $$\n",
    "\n",
    "$ 11k^3(4k^2 - 6k + 7) $"
   ]
  },
  {
   "cell_type": "markdown",
   "metadata": {},
   "source": [
    "Sometimes we can factor polynomials into multiple binomials. This is the reverse of the binomial product.\n",
    "\n",
    "$ x^2 + 6x + 8 $ <br>\n",
    "\n",
    "To factor this quadratic, we need to find two numbers that *multiply* to 8 and *add* to 6. These numbers are 2 and 4.\n",
    "\n",
    "$ x^2 + 6x + 8 = (x + 2)(x + 4) $"
   ]
  },
  {
   "cell_type": "markdown",
   "metadata": {},
   "source": [
    "For leading coefficients $\\neq 1$, we need to take a different approach.\n",
    "\n",
    "$ 2x^2 + 7x + 3 $\n",
    "\n",
    "We need to find 2 integers with a product of $2 \\cdot 3 = 6$ and a sum of $7$. Since $1 \\cdot 6 = 1 + 6 = 7$, these are our numbers.\n",
    "\n",
    "$ 2x^2 + 1x + 6x + 3 $ <br>\n",
    "$ (2x^2 + 1x) + (6x + 3) $ <br>\n",
    "$ x(2x + 1) + 3(2x + 1) $ <br>\n",
    "$ (x + 3)(2x + 1) $"
   ]
  },
  {
   "cell_type": "markdown",
   "metadata": {},
   "source": [
    "We can also factor by grouping.\n",
    "\n",
    "$ 2x^2 + 11x + 12 $ <br>\n",
    "$ (2x^2 + 8x) + (3x + 12) $ <br>\n",
    "$ 2x(x+4) + 3(x+4) $ <br>\n",
    "$ (2x+3)(x+4) $"
   ]
  },
  {
   "cell_type": "markdown",
   "metadata": {},
   "source": [
    "We can also use the difference of squares from binomial special products to factor:\n",
    "\n",
    "$ a^2 - b^2 = (a+b)(a-b) $\n",
    "\n",
    "$ x^2 - 16 = x^2 - (4)^2 = (x+4)(x-4) $"
   ]
  },
  {
   "cell_type": "markdown",
   "metadata": {},
   "source": [
    "Or perfect squares.\n",
    "\n",
    "$ a^2 + 2ab + b^2 = (a+b)^2 $ <br>\n",
    "$ a^2 - 2ab + b^2 = (a-b)^2 $ <br>\n",
    "\n",
    "$ x^2 - 10x + 25 = x^2 - 2(x)(5) + (5^2) = (x-5)^2 $"
   ]
  }
 ],
 "metadata": {
  "kernelspec": {
   "display_name": "venv",
   "language": "python",
   "name": "python3"
  },
  "language_info": {
   "codemirror_mode": {
    "name": "ipython",
    "version": 3
   },
   "file_extension": ".py",
   "mimetype": "text/x-python",
   "name": "python",
   "nbconvert_exporter": "python",
   "pygments_lexer": "ipython3",
   "version": "3.10.11"
  },
  "orig_nbformat": 4
 },
 "nbformat": 4,
 "nbformat_minor": 2
}
