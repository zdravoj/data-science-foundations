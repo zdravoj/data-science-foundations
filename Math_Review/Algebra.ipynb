{
 "cells": [
  {
   "cell_type": "code",
   "execution_count": 1,
   "metadata": {},
   "outputs": [],
   "source": [
    "import math\n",
    "import sympy\n",
    "import numpy as np"
   ]
  },
  {
   "cell_type": "markdown",
   "metadata": {},
   "source": [
    "# Algebra Basics"
   ]
  },
  {
   "cell_type": "markdown",
   "metadata": {},
   "source": [
    "## Algebraic Manipulation\n",
    "\n",
    "$ {{1 \\over a} - {1 \\over b} \\over c} \\div {1 \\over d} $"
   ]
  },
  {
   "cell_type": "markdown",
   "metadata": {},
   "source": [
    "Algebra is the foundation of mathematical manipulation. Often we want to change mathematical statements to make them simpler, to use them for substitutions, etc. For the equation above, we can manipulate it into a simpler format in the following way:\n",
    "\n",
    "$ {1 \\over a} - {1 \\over b} $ <br>\n",
    "\n",
    "$ {b \\over ba} - {a \\over ab} $ <br>\n",
    "\n",
    "$ {b - a \\over ab} $ <br>\n",
    "\n",
    "$ {{b - a \\over ab} \\over c} $ <br> \n",
    "\n",
    "$ {b - a \\over ab} \\cdot {1 \\over c} $ <br>\n",
    "\n",
    "$ {b - a \\over abc} $ <br>\n",
    "\n",
    "$ {b - a \\over abc} \\div {1 \\over d} $ <br>\n",
    "\n",
    "$ {b - a \\over abc} \\cdot {d \\over 1} $ <br>\n",
    "\n",
    "$ {d(b - a) \\over abc} $ <br>\n",
    "\n",
    "$ {bd - ad \\over abc} $\n"
   ]
  },
  {
   "cell_type": "code",
   "execution_count": 2,
   "metadata": {},
   "outputs": [
    {
     "name": "stdout",
     "output_type": "stream",
     "text": [
      "(((1/a) - (1/b)) / c) / (1/d) = (b*d - a*d) / (a*b*c) --> True\n"
     ]
    }
   ],
   "source": [
    "a = 10\n",
    "b = 5\n",
    "c = 3\n",
    "d = 4\n",
    "\n",
    "print(\n",
    "    '(((1/a) - (1/b)) / c) / (1/d) = (b*d - a*d) / (a*b*c) -->',\n",
    "    (((1/a) - (1/b)) / c) / (1/d)==(b*d - a*d) / (a*b*c)\n",
    ")"
   ]
  }
 ],
 "metadata": {
  "kernelspec": {
   "display_name": "venv",
   "language": "python",
   "name": "python3"
  },
  "language_info": {
   "codemirror_mode": {
    "name": "ipython",
    "version": 3
   },
   "file_extension": ".py",
   "mimetype": "text/x-python",
   "name": "python",
   "nbconvert_exporter": "python",
   "pygments_lexer": "ipython3",
   "version": "3.10.11"
  },
  "orig_nbformat": 4
 },
 "nbformat": 4,
 "nbformat_minor": 2
}
