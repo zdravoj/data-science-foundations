{
 "cells": [
  {
   "cell_type": "markdown",
   "metadata": {},
   "source": [
    "# Neural Networks"
   ]
  },
  {
   "cell_type": "code",
   "execution_count": 1,
   "metadata": {},
   "outputs": [],
   "source": [
    "import sympy\n",
    "import numpy as np\n",
    "import pandas as pd\n",
    "from sklearn.model_selection import train_test_split\n",
    "from sklearn.neural_network import MLPClassifier"
   ]
  },
  {
   "cell_type": "markdown",
   "metadata": {},
   "source": [
    "Neural network: multilayered regression containing layers of weights, biases, and nonlinear functions\n",
    "\n",
    "Deep learning: neural network with multiple middle layers of nodes (not just input, single middle, and output)"
   ]
  },
  {
   "cell_type": "markdown",
   "metadata": {},
   "source": [
    "Use optimization techniques to find optimal weights & biases"
   ]
  },
  {
   "cell_type": "markdown",
   "metadata": {},
   "source": [
    "Neural networks are best for perceptual problems like image classification or decyphering audio words <br>\n",
    "Regressions & trees are better for structured data"
   ]
  },
  {
   "cell_type": "markdown",
   "metadata": {},
   "source": [
    "Different types of neural networks:\n",
    "- Convolutional neural network (CNN): image recognition\n",
    "- Long short term memory (LSTM): for predicting time series or forecasting\n",
    "- Recurrent neural networks (RNN): text-to-speech applications"
   ]
  },
  {
   "cell_type": "markdown",
   "metadata": {},
   "source": [
    "Use simpler models when possible <br>\n",
    "Use complex models on simple problems only to illustrate fundamentals of complex models"
   ]
  },
  {
   "cell_type": "markdown",
   "metadata": {},
   "source": [
    "Layers of a neural network:\n",
    "\n",
    "First layer: input variables\n",
    "\n",
    "Middle layer: weights & biases multiplied and summed with input variables\n",
    "- weights between nodes\n",
    "- biases added to each node\n",
    "\n",
    "Final layer: output\n",
    "- multiply hidden layer outputs by weights and biases\n",
    "- minimize loss using objective function\n",
    "- backpropagate to affect weights & biases in previous layers"
   ]
  },
  {
   "cell_type": "markdown",
   "metadata": {},
   "source": [
    "Activation function: non-linear function that transforms node values and determines if a value should be passed or \"activated\" to the next nodes."
   ]
  },
  {
   "cell_type": "markdown",
   "metadata": {},
   "source": [
    "Rectified Linear Unit (ReLU): Activation function that passes positive inputs and zeroes negative inputs\n",
    "- \"Rectifies\" negatives to zero\n",
    "- Speedy\n",
    "- mitigates vanishing gradient problem"
   ]
  },
  {
   "cell_type": "code",
   "execution_count": 2,
   "metadata": {},
   "outputs": [
    {
     "data": {
      "image/png": "[encoded data removed]",
      "text/plain": [
       "<Figure size 640x480 with 1 Axes>"
      ]
     },
     "metadata": {},
     "output_type": "display_data"
    }
   ],
   "source": [
    "# plot relu\n",
    "x = sympy.symbols('x')\n",
    "relu = sympy.Max(0, x)\n",
    "sympy.plot(relu);"
   ]
  },
  {
   "cell_type": "markdown",
   "metadata": {},
   "source": [
    "Vanishing gradients: partial derivative slopes get so small that they prematurely approach zero and halt training (also affected by *floating point underflow* in computers)."
   ]
  },
  {
   "cell_type": "markdown",
   "metadata": {},
   "source": [
    "Common activation functions:\n",
    "\n",
    "Linear: leaves values as is\n",
    "- Not commonly used\n",
    "\n",
    "Logistic: sigmoid curve\n",
    "- Assists in binary classification\n",
    "\n",
    "Tangent Hyperbolic (tanh): sigmoid curve between -1 and 1\n",
    "- \"Centers\" data by bringing mean close to zero\n",
    "\n",
    "ReLU: turns negative values to zero\n",
    "- faster than sigmoid and tanh\n",
    "- mitigates vanishing gradient\n",
    "- computationally cheap\n",
    "\n",
    "Leaky ReLU: multplies negative values by 0.01\n",
    "- Controversial variant that marginalizes rather than eliminates negative values\n",
    "\n",
    "Softmax: All output nodes add up to 1\n",
    "- useful for multiple-classification and rescaling outputs"
   ]
  },
  {
   "cell_type": "markdown",
   "metadata": {},
   "source": [
    "ReLU is the gold standard for middle layers, sigmoid and softmax often used for outputs"
   ]
  },
  {
   "cell_type": "markdown",
   "metadata": {},
   "source": [
    "Weights matrices have 1 weight per incoming connection <br>\n",
    "Biases have 1 value per node in the layer (# rows = # columns)"
   ]
  },
  {
   "cell_type": "markdown",
   "metadata": {},
   "source": [
    "Each iteration of updating weights & biases requires a forward pass (forward propagation) and a backward pass (backward propagation)"
   ]
  },
  {
   "cell_type": "markdown",
   "metadata": {},
   "source": [
    "Forward propagation is simple: multiply matrix X by weights matrix, add bias, run this result through the activation function, and repeat until output is reached"
   ]
  },
  {
   "cell_type": "markdown",
   "metadata": {},
   "source": [
    "Feed forward (forward propagation): inputting into a neural network and seeing what it outputs\n",
    "- weights and biases are initially randomized between 0 and 1\n",
    "- weights and biases not affected yet"
   ]
  },
  {
   "cell_type": "code",
   "execution_count": 3,
   "metadata": {},
   "outputs": [
    {
     "name": "stdout",
     "output_type": "stream",
     "text": [
      "Accuracy:  0.5968819599109126\n"
     ]
    }
   ],
   "source": [
    "# feed forward (forward propagation)\n",
    "\n",
    "# get input and output variables\n",
    "data = pd.read_csv(\"https://tinyurl.com/y2qmhfsr\")\n",
    "inputs = data.iloc[:, 0:3].values / 255\n",
    "outputs = data.iloc[:, -1].values\n",
    "\n",
    "# train test split\n",
    "X_train, X_test, y_train, y_test = train_test_split(inputs, outputs, test_size=1/3)\n",
    "n = X_train.shape[0] # number of training records\n",
    "\n",
    "# random weights and biases\n",
    "w_hidden = np.random.rand(3, 3)\n",
    "w_output = np.random.rand(1, 3)\n",
    "b_hidden = np.random.rand(3, 1)\n",
    "b_output = np.random.rand(1, 1)\n",
    "\n",
    "# activation functions\n",
    "relu = lambda x: np.maximum(x, 0)\n",
    "logistic = lambda x: 1 / (1 + np.exp(-x))\n",
    "\n",
    "# forward propagation\n",
    "def forward_prop(X):\n",
    "    Z1 = w_hidden @ X + b_hidden\n",
    "    A1 = relu(Z1)\n",
    "    Z2 = w_output @ A1 + b_output\n",
    "    A2 = logistic(Z2)\n",
    "    return Z1, A1, Z2, A2\n",
    "\n",
    "# calculate accuracy\n",
    "test_predictions = forward_prop(X_test.transpose())[3] # grab only A2\n",
    "test_comparisons = np.equal((test_predictions >= 0.5).flatten().astype(int), y_test)\n",
    "accuracy = sum(test_comparisons.astype(int) / X_test.shape[0])\n",
    "print('Accuracy: ', accuracy)"
   ]
  },
  {
   "cell_type": "markdown",
   "metadata": {},
   "source": [
    "Backpropagation: minimize loss (or optimize objective function), then using derivates to pass back values to affect weights & biases"
   ]
  },
  {
   "cell_type": "markdown",
   "metadata": {},
   "source": [
    "Objective function:\n",
    "\n",
    "$ C = (\\hat{y} - y)^2 $, where\n",
    "\n",
    "$C$ is the cost of a single prediction, <br>\n",
    "$ \\hat{y} $ is the prediction, and <br>\n",
    "$y$ is the true output"
   ]
  },
  {
   "cell_type": "markdown",
   "metadata": {},
   "source": [
    "Like in gradient descent, values to affect the weights and biases are the partial derivatives, but with multiple layers, we need to use the chain rule:\n",
    "\n",
    "$ {d(\\text{output}) \\over d(\\text{previous weight or bias})} = {dC \\over dW_1} = {dC \\over dA_2} * {dA_2 \\over dZ_2} * {dZ_2 \\over dA_1} * {dA_1 \\over dZ_1} * {dZ_1 \\over dW_1} $, where\n",
    "\n",
    "$A$ functions are activated functions, and <br>\n",
    "$Z$ functions are non-activated weight-and-bias functions"
   ]
  },
  {
   "cell_type": "code",
   "execution_count": 4,
   "metadata": {},
   "outputs": [
    {
     "name": "stdout",
     "output_type": "stream",
     "text": [
      "Accuracy:  0.9933184855233778\n"
     ]
    }
   ],
   "source": [
    "# manual neural network\n",
    "\n",
    "# get input and output variables\n",
    "data = pd.read_csv(\"https://tinyurl.com/y2qmhfsr\")\n",
    "inputs = data.iloc[:, 0:3].values / 255\n",
    "outputs = data.iloc[:, -1].values\n",
    "\n",
    "# train test split\n",
    "X_train, X_test, y_train, y_test = train_test_split(inputs, outputs, test_size=1/3)\n",
    "n = X_train.shape[0] # number of training records\n",
    "\n",
    "# random weights and biases\n",
    "w_hidden = np.random.rand(3, 3)\n",
    "w_output = np.random.rand(1, 3)\n",
    "b_hidden = np.random.rand(3, 1)\n",
    "b_output = np.random.rand(1, 1)\n",
    "\n",
    "# activation functions\n",
    "relu = lambda x: np.maximum(x, 0)\n",
    "logistic = lambda x: 1 / (1 + np.exp(-x))\n",
    "\n",
    "# forward propagation\n",
    "def forward_prop(X):\n",
    "    Z1 = w_hidden @ X + b_hidden\n",
    "    A1 = relu(Z1)\n",
    "    Z2 = w_output @ A1 + b_output\n",
    "    A2 = logistic(Z2)\n",
    "    return Z1, A1, Z2, A2\n",
    "\n",
    "# activation derivatives\n",
    "d_relu = lambda x: x > 0\n",
    "d_logistic = lambda x: np.exp(-x) / (1 + np.exp(-x)) ** 2\n",
    "\n",
    "# backpropagation\n",
    "def backward_prop(Z1, A1, Z2, A2, X, y):\n",
    "    dC_dA2 = 2*A2 - 2*y\n",
    "    dA2_dZ2 = d_logistic(Z2)\n",
    "    dZ2_dA1 = w_output\n",
    "    dZ2_dW2 = A1\n",
    "    dZ2_dB2 = 1\n",
    "    dA1_dZ1 = d_relu(Z1)\n",
    "    dZ1_dW1 = X\n",
    "    dZ1_dB1 = 1\n",
    "\n",
    "    dC_dW2 = dC_dA2 @ dA2_dZ2 @ dZ2_dW2.T\n",
    "\n",
    "    dC_dB2 = dC_dA2 @ dA2_dZ2 * dZ2_dB2\n",
    "\n",
    "    dC_dA1 = dC_dA2 @ dA2_dZ2 @ dZ2_dA1\n",
    "\n",
    "    dC_dW1 = dC_dA1 @ dA1_dZ1 @ dZ1_dW1.T\n",
    "\n",
    "    dC_dB1 = dC_dA1 @ dA1_dZ1 * dZ1_dB1\n",
    "\n",
    "    return dC_dW1, dC_dB1, dC_dW2, dC_dB2\n",
    "\n",
    "# define learning rate and iterations\n",
    "L = 0.05\n",
    "I = 100_000\n",
    "\n",
    "# execute stochastic gradient descent\n",
    "for i in range(I):\n",
    "    # random selection of training data\n",
    "    idx = np.random.choice(n, 1, replace= False)\n",
    "    X_sample = X_train[idx].transpose()\n",
    "    y_sample = y_train[idx]\n",
    "    \n",
    "    # forward propagation of training data\n",
    "    Z1, A1, Z2, A2 = forward_prop(X_sample)\n",
    "\n",
    "    # backpropagation of training data\n",
    "    dW1, dB1, dW2, dB2 = backward_prop(Z1, A1, Z2, A2, X_sample, y_sample)\n",
    "\n",
    "    # update weights and biases\n",
    "    w_hidden -= L * dW1\n",
    "    b_hidden -= L * dB1\n",
    "    w_output -= L * dW2\n",
    "    b_output -= L * dB2\n",
    "\n",
    "# calculate accuracy\n",
    "test_predictions = forward_prop(X_test.transpose())[3] # grab only A2\n",
    "test_comparisons = np.equal((test_predictions >= 0.5).flatten().astype(int), y_test)\n",
    "accuracy = sum(test_comparisons.astype(int) / X_test.shape[0])\n",
    "print('Accuracy: ', accuracy)"
   ]
  },
  {
   "cell_type": "markdown",
   "metadata": {},
   "source": [
    "Getting predictions is just forward propagation on the trained neural network."
   ]
  },
  {
   "cell_type": "code",
   "execution_count": 5,
   "metadata": {},
   "outputs": [
    {
     "name": "stdout",
     "output_type": "stream",
     "text": [
      "[array([[-0.44936692,  0.21100871,  3.35482374],\n",
      "       [ 0.71090864, -0.48533219,  6.90085666],\n",
      "       [-0.55139815, -0.96121742,  1.27177956]]), array([[ 0.96139465],\n",
      "       [-1.02011679],\n",
      "       [ 9.22828936]])]\n",
      "[array([-0.57168729, -0.73549155, -5.12601893]), array([-5.78731936])]\n",
      "Training set score: 1.000000\n",
      "Testing set score: 1.000000\n"
     ]
    }
   ],
   "source": [
    "# sklearn neural network\n",
    "\n",
    "# get input and output variables\n",
    "data = pd.read_csv(\"https://tinyurl.com/y2qmhfsr\")\n",
    "inputs = data.iloc[:, 0:3].values / 255\n",
    "outputs = data.iloc[:, -1].values\n",
    "\n",
    "# train test split\n",
    "X_train, X_test, y_train, y_test = train_test_split(inputs, outputs, test_size=1/3)\n",
    "\n",
    "# create and fit neural network\n",
    "nn = MLPClassifier(\n",
    "    solver= 'sgd',\n",
    "    hidden_layer_sizes= (3, ),\n",
    "    activation= 'relu',\n",
    "    max_iter= 100_000,\n",
    "    learning_rate_init= 0.05\n",
    ")\n",
    "nn.fit(X_train, y_train)\n",
    "\n",
    "# print weights and biases\n",
    "print(nn.coefs_)\n",
    "print(nn.intercepts_)\n",
    "\n",
    "# print accuracy\n",
    "print('Training set score: %f' % nn.score(X_train, y_train))\n",
    "print('Testing set score: %f' % nn.score(X_test, y_test))"
   ]
  },
  {
   "cell_type": "markdown",
   "metadata": {},
   "source": [
    "Neural networks have limitations\n",
    "- can overfit\n",
    "- does not generalize to different conditions\n",
    "\n",
    "Use neural networks in tandem with other algorithms for complex tasks."
   ]
  },
  {
   "cell_type": "markdown",
   "metadata": {},
   "source": [
    "The real world is filled with infinite unpredictability and rare events."
   ]
  },
  {
   "cell_type": "markdown",
   "metadata": {},
   "source": [
    "Machine learning, neural networks, and deep learning all work narrowly on defined problems. They cannot broadly reason or choose their own tasks!"
   ]
  },
  {
   "cell_type": "markdown",
   "metadata": {},
   "source": [
    "Choose the tool **for** the job, not the tool **and then** the job!"
   ]
  }
 ],
 "metadata": {
  "kernelspec": {
   "display_name": "venv",
   "language": "python",
   "name": "python3"
  },
  "language_info": {
   "codemirror_mode": {
    "name": "ipython",
    "version": 3
   },
   "file_extension": ".py",
   "mimetype": "text/x-python",
   "name": "python",
   "nbconvert_exporter": "python",
   "pygments_lexer": "ipython3",
   "version": "3.10.11"
  },
  "orig_nbformat": 4
 },
 "nbformat": 4,
 "nbformat_minor": 2
}
