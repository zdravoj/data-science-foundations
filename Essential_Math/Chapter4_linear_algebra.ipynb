{
 "cells": [
  {
   "attachments": {},
   "cell_type": "markdown",
   "metadata": {},
   "source": [
    "## Linear Algebra"
   ]
  },
  {
   "cell_type": "code",
   "execution_count": 1,
   "metadata": {},
   "outputs": [],
   "source": [
    "import math\n",
    "import random\n",
    "import numpy as np\n",
    "import sympy\n",
    "import matplotlib.pyplot as plt\n",
    "import seaborn as sns"
   ]
  },
  {
   "cell_type": "markdown",
   "metadata": {},
   "source": [
    "Linear algebra: study and manipulation of linear systems\n",
    "\n",
    "linear algebra is often more complex than regular algebra <br>\n",
    "linear algebra *should* have been called \"vector algebra\" or \"matrix algebra\""
   ]
  },
  {
   "cell_type": "markdown",
   "metadata": {},
   "source": [
    "vector: arrow in space with direction & length <br>\n",
    "a vector often represents a piece of data (a single vector would be a single observation), where each variable is a component of the vector"
   ]
  },
  {
   "cell_type": "markdown",
   "metadata": {},
   "source": [
    "$\\vec{v} = \\begin{bmatrix} x \\\\ y \\end{bmatrix}$"
   ]
  },
  {
   "cell_type": "code",
   "execution_count": 2,
   "metadata": {},
   "outputs": [
    {
     "name": "stdout",
     "output_type": "stream",
     "text": [
      "[3, 2]\n",
      "[3 2]\n"
     ]
    }
   ],
   "source": [
    "# vectors\n",
    "v = [3, 2]\n",
    "print(v) # as a list\n",
    "v = np.array([3, 2])\n",
    "print(v) # as an array"
   ]
  },
  {
   "cell_type": "markdown",
   "metadata": {},
   "source": [
    "$\\vec{v} = \\begin{bmatrix} 4\\\\1\\\\2 \\end{bmatrix}$\n",
    "\n",
    "$\\vec{v} = \\begin{bmatrix} 6\\\\1\\\\5\\\\8\\\\3 \\end{bmatrix}$"
   ]
  },
  {
   "cell_type": "code",
   "execution_count": 3,
   "metadata": {},
   "outputs": [
    {
     "name": "stdout",
     "output_type": "stream",
     "text": [
      "[4 1 2]\n",
      "[6 1 5 8 3]\n"
     ]
    }
   ],
   "source": [
    "# multidimensional vectors\n",
    "v = np.array([4, 1, 2])\n",
    "print(v)\n",
    "v = np.array([6,1,5,8,3])\n",
    "print(v)"
   ]
  },
  {
   "cell_type": "markdown",
   "metadata": {},
   "source": [
    "physics vector: a direction and magnitude <br>\n",
    "math vector: a direction and scale on an XY plane <br>\n",
    "computer science vector: an array of numbers storing data"
   ]
  },
  {
   "cell_type": "code",
   "execution_count": 4,
   "metadata": {},
   "outputs": [
    {
     "name": "stdout",
     "output_type": "stream",
     "text": [
      "[5 1]\n"
     ]
    }
   ],
   "source": [
    "# adding vectors\n",
    "v = np.array([3, 2])\n",
    "w = np.array([2, -1])\n",
    "v_plus_w = v + w\n",
    "print(v_plus_w)"
   ]
  },
  {
   "cell_type": "markdown",
   "metadata": {},
   "source": [
    "Vector addition: combine movements of two vectors into a single vector\n",
    "\n",
    "$\\vec{v} = \\begin{bmatrix} 3\\\\2 \\end{bmatrix}$\n",
    "\n",
    "$\\vec{w} = \\begin{bmatrix} 2\\\\-1 \\end{bmatrix}$\n",
    "\n",
    "$\\vec{v} + \\vec{w} = \\begin{bmatrix} 3+2\\\\2+(-1) \\end{bmatrix} = \\begin{bmatrix} 5\\\\1 \\end{bmatrix}$"
   ]
  },
  {
   "cell_type": "code",
   "execution_count": 5,
   "metadata": {},
   "outputs": [
    {
     "name": "stdout",
     "output_type": "stream",
     "text": [
      "[5 1]\n"
     ]
    }
   ],
   "source": [
    "# adding vectors is commutative (v+w == w+v)\n",
    "w_plus_v = w + v\n",
    "print(w_plus_v)"
   ]
  },
  {
   "cell_type": "markdown",
   "metadata": {},
   "source": [
    "Vector scaling: multiplying a vector by a constant\n",
    "\n",
    "$2\\vec{v} = 2\\begin{bmatrix} 3\\\\1 \\end{bmatrix} = \\begin{bmatrix} 3*2\\\\1*2 \\end{bmatrix} = \\begin{bmatrix} 6\\\\2 \\end{bmatrix}$\n",
    "\n",
    "scaling only changes magnitude <br>\n",
    "the only exception is that scaling flips direction if scalar is negative"
   ]
  },
  {
   "cell_type": "code",
   "execution_count": 6,
   "metadata": {},
   "outputs": [
    {
     "name": "stdout",
     "output_type": "stream",
     "text": [
      "[6. 2.]\n"
     ]
    }
   ],
   "source": [
    "# scalars\n",
    "v = np.array([3, 1])\n",
    "scaled_v = 2.0 * v\n",
    "print(scaled_v)"
   ]
  },
  {
   "cell_type": "markdown",
   "metadata": {},
   "source": [
    "span: whole space of possible vectors (within the $n$-dimensional space where $n$ is the number of dimensions in the vectors)\n",
    "\n",
    "**ANY NEW VECTOR CAN BE CREATED BY SCALING AND ADDING TWO VECTORS**"
   ]
  },
  {
   "cell_type": "markdown",
   "metadata": {},
   "source": [
    "linear independence: when two vectors have different directions\n",
    "\n",
    "vectors with the same direction (or can be scaled to be parallel) are *linearly dependent*.\n",
    "\n",
    "linearly dependent vectors cannot create any new vectors alone. Linearly dependent vectors reduce the total number of dimensions in the span (linearly dependent vectors in a 3D space only exist on a 2D (or even 1D!) plane)\n",
    "\n",
    "sometimes vectors are used to solve systems of equations, and when vectors have linear dependence, these equations can be extremely difficult or even impossible to solve."
   ]
  },
  {
   "cell_type": "markdown",
   "metadata": {},
   "source": [
    "Basis vectors: describe transformations on other vectors\n",
    "\n",
    "$ \\hat{i} = \\begin{bmatrix} 1\\\\0 \\end{bmatrix} $\n",
    "\n",
    "$ \\hat{j} = \\begin{bmatrix} 0\\\\1 \\end{bmatrix} $\n",
    "\n",
    "$ \\mathrm{basis} = \\hat{i}\\hat{j} = \\begin{bmatrix} 1 & 0 \\\\ 0 & 1 \\end{bmatrix} $"
   ]
  },
  {
   "cell_type": "code",
   "execution_count": 7,
   "metadata": {},
   "outputs": [
    {
     "name": "stdout",
     "output_type": "stream",
     "text": [
      "[1 0]\n",
      "[0 1]\n",
      "[[1 0]\n",
      " [0 1]]\n"
     ]
    }
   ],
   "source": [
    "# basis vectors\n",
    "i_hat = np.array([1, 0])\n",
    "j_hat = np.array([0, 1])\n",
    "basis = np.array(\n",
    "    [[1, 0],\n",
    "     [0, 1]]\n",
    ")\n",
    "print(i_hat)\n",
    "print(j_hat)\n",
    "print(basis)"
   ]
  },
  {
   "cell_type": "markdown",
   "metadata": {},
   "source": [
    "matrix: collection of vectors that can have multiple rows or columns"
   ]
  },
  {
   "cell_type": "markdown",
   "metadata": {},
   "source": [
    "four main transformations are scale, rotate, shear, and inversion"
   ]
  },
  {
   "cell_type": "code",
   "execution_count": 8,
   "metadata": {},
   "outputs": [
    {
     "name": "stdout",
     "output_type": "stream",
     "text": [
      "[3. 0.]\n",
      "[0. 2.]\n"
     ]
    }
   ],
   "source": [
    "# scaled basis\n",
    "i_scaled = 3.0 * i_hat\n",
    "j_scaled = 2.0 * j_hat\n",
    "print(i_scaled)\n",
    "print(j_scaled)"
   ]
  },
  {
   "cell_type": "markdown",
   "metadata": {},
   "source": [
    "Matrix vector multiplication: tracking where basis vectors land after a transformation\n",
    "\n",
    "To transform a vector $\\vec{v}$ given basis vectors $\\hat{i}$ and $\\hat{j}$ packaged as a matrix, use a dot product:\n",
    "\n",
    "$ \\hat{i}\\hat{j}*\\vec{v} =  \\begin{bmatrix} x_{new} \\\\ y_{new} \\end{bmatrix} = \\begin{bmatrix} a & b \\\\ c & d \\end{bmatrix} \\begin{bmatrix} x \\\\ y \\end{bmatrix} = \\begin{bmatrix} ax + by \\\\ cx + dy \\end{bmatrix}$"
   ]
  },
  {
   "cell_type": "code",
   "execution_count": 9,
   "metadata": {},
   "outputs": [
    {
     "name": "stdout",
     "output_type": "stream",
     "text": [
      "[3 2]\n"
     ]
    }
   ],
   "source": [
    "# matrix multiplication\n",
    "basis = np.array(\n",
    "    [[3, 0],\n",
    "     [0, 2]]\n",
    ")\n",
    "v = np.array([1, 1])\n",
    "new_v = basis.dot(v)\n",
    "print(new_v)"
   ]
  },
  {
   "cell_type": "markdown",
   "metadata": {},
   "source": [
    "Matrix transposition: swap rows & columns\n",
    "\n",
    "A transposition of matrix $A$ is represented as $A^{-1}$"
   ]
  },
  {
   "cell_type": "code",
   "execution_count": 10,
   "metadata": {},
   "outputs": [
    {
     "name": "stdout",
     "output_type": "stream",
     "text": [
      "[[2 4]\n",
      " [1 3]]\n",
      "[[2 1]\n",
      " [4 3]]\n"
     ]
    }
   ],
   "source": [
    "# transpose (rows to columns)\n",
    "i_hat = np.array([2, 4])\n",
    "j_hat = np.array([1, 3])\n",
    "A = np.array([i_hat, j_hat])\n",
    "print(A)\n",
    "A_t = A.transpose()\n",
    "print(A_t)"
   ]
  },
  {
   "cell_type": "code",
   "execution_count": 11,
   "metadata": {},
   "outputs": [
    {
     "name": "stdout",
     "output_type": "stream",
     "text": [
      "[2 3]\n"
     ]
    }
   ],
   "source": [
    "# translation of a vector\n",
    "i_hat = np.array([2, 0])\n",
    "j_hat = np.array([0, 3])\n",
    "basis = np.array([i_hat, j_hat]).transpose()\n",
    "v = np.array([1, 1])\n",
    "new_v = basis.dot(v)\n",
    "print(new_v)"
   ]
  },
  {
   "cell_type": "code",
   "execution_count": 12,
   "metadata": {},
   "outputs": [
    {
     "name": "stdout",
     "output_type": "stream",
     "text": [
      "Without transposition: [3 0]\n",
      "With transposition: [-1  4]\n"
     ]
    }
   ],
   "source": [
    "# rows vs columns matters in matrix multiplication!\n",
    "i_hat = np.array([2, 1])\n",
    "j_hat = np.array([-3, 3])\n",
    "incorrect = np.array([i_hat, j_hat])\n",
    "basis = np.array([i_hat, j_hat]).transpose()\n",
    "v = np.array([1, 1])\n",
    "new_v = basis.dot(v)\n",
    "incorrect_v = incorrect.dot(v)\n",
    "print('Without transposition:', incorrect_v)\n",
    "print('With transposition:', new_v)"
   ]
  },
  {
   "cell_type": "code",
   "execution_count": 13,
   "metadata": {},
   "outputs": [
    {
     "name": "stdout",
     "output_type": "stream",
     "text": [
      "[4 3]\n"
     ]
    }
   ],
   "source": [
    "# transform vector\n",
    "i_hat = np.array([2, 0])\n",
    "j_hat = np.array([0, 3])\n",
    "basis = np.array([i_hat, j_hat]).transpose()\n",
    "v = np.array([2, 1])\n",
    "new_v = basis.dot(v)\n",
    "print(new_v)"
   ]
  },
  {
   "cell_type": "code",
   "execution_count": 14,
   "metadata": {},
   "outputs": [
    {
     "name": "stdout",
     "output_type": "stream",
     "text": [
      "[6 5]\n"
     ]
    }
   ],
   "source": [
    "# linear transformation with rotate, shear, and flip\n",
    "i_hat = np.array([2, 3])\n",
    "j_hat = np.array([2, -1])\n",
    "basis = np.array([i_hat, j_hat]).transpose()\n",
    "v = np.array([2, 1])\n",
    "new_v = basis.dot(v)\n",
    "print(new_v)"
   ]
  },
  {
   "cell_type": "markdown",
   "metadata": {},
   "source": [
    "Matrix multiplication can also be thought of as applying multiple transformations to a vector space.\n",
    "\n",
    "matrix multiplication is not commutative! Order matters!"
   ]
  },
  {
   "cell_type": "markdown",
   "metadata": {},
   "source": [
    "$ \\begin{bmatrix} a & b \\\\ c & d \\end{bmatrix}\\begin{bmatrix} e & f \\\\ g & h \\end{bmatrix} = \\begin{bmatrix} ae+bg & af+bh \\\\ ce+dg & cf + dh \\end{bmatrix}$"
   ]
  },
  {
   "cell_type": "code",
   "execution_count": 15,
   "metadata": {},
   "outputs": [
    {
     "name": "stdout",
     "output_type": "stream",
     "text": [
      "Combined matrix:\n",
      " [[ 1 -1]\n",
      " [ 1  0]]\n",
      "[-1  1]\n"
     ]
    }
   ],
   "source": [
    "# combining transformations\n",
    "i_hat1 = np.array([0, 1])\n",
    "j_hat1 = np.array([-1, 0])\n",
    "transform1 = np.array([i_hat1, j_hat1]).transpose()\n",
    "\n",
    "i_hat2 = np.array([1, 0])\n",
    "j_hat2 = np.array([1, 1])\n",
    "transform2 = np.array([i_hat2, j_hat2]).transpose()\n",
    "\n",
    "combined = transform2 @ transform1\n",
    "\n",
    "print('Combined matrix:\\n', combined)\n",
    "v = np.array([1, 2])\n",
    "print(combined.dot(v))"
   ]
  },
  {
   "cell_type": "code",
   "execution_count": 16,
   "metadata": {},
   "outputs": [
    {
     "name": "stdout",
     "output_type": "stream",
     "text": [
      "[-1  1]\n"
     ]
    }
   ],
   "source": [
    "# can also apply in order\n",
    "rotated = transform1.dot(v)\n",
    "sheared = transform2.dot(rotated)\n",
    "print(sheared)"
   ]
  },
  {
   "cell_type": "code",
   "execution_count": 17,
   "metadata": {},
   "outputs": [
    {
     "name": "stdout",
     "output_type": "stream",
     "text": [
      "Combined matrix:\n",
      " [[ 0 -1]\n",
      " [ 1  1]]\n",
      "[-2  3]\n"
     ]
    }
   ],
   "source": [
    "# transformation order matters!\n",
    "combined = transform1 @ transform2\n",
    "print('Combined matrix:\\n', combined)\n",
    "v = np.array([1, 2])\n",
    "print(combined.dot(v))"
   ]
  },
  {
   "cell_type": "markdown",
   "metadata": {},
   "source": [
    "Determinant: describes how much a sampled area in a vector space changes in scale with linear transformations\n",
    "1. shears and rotations do not affect the determinant\n",
    "2. increasing or decreasing scaling, increases or decreases the determinant\n",
    "3. a negative determinant means orientation has flipped\n",
    "4. linearly dependent transformations have a determinant of zero (space has been squashed into a lower dimension)"
   ]
  },
  {
   "cell_type": "code",
   "execution_count": 18,
   "metadata": {},
   "outputs": [
    {
     "name": "stdout",
     "output_type": "stream",
     "text": [
      "6.0\n"
     ]
    }
   ],
   "source": [
    "# determinants (vector areas)\n",
    "i_hat = np.array([3, 0])\n",
    "j_hat = np.array([0, 2])\n",
    "basis = np.array([i_hat, j_hat]).transpose()\n",
    "determinant = np.linalg.det(basis)\n",
    "print(determinant)"
   ]
  },
  {
   "cell_type": "code",
   "execution_count": 19,
   "metadata": {},
   "outputs": [
    {
     "name": "stdout",
     "output_type": "stream",
     "text": [
      "1.0\n"
     ]
    }
   ],
   "source": [
    "# shear determinant (diagonal)\n",
    "i_hat = np.array([1, 0])\n",
    "j_hat = np.array([1, 1])\n",
    "basis = np.array([i_hat, j_hat]).transpose()\n",
    "determinant = np.linalg.det(basis)\n",
    "print(determinant)"
   ]
  },
  {
   "cell_type": "code",
   "execution_count": 20,
   "metadata": {},
   "outputs": [
    {
     "name": "stdout",
     "output_type": "stream",
     "text": [
      "-5.000000000000001\n"
     ]
    }
   ],
   "source": [
    "# determinant negative (orientation flipped)\n",
    "i_hat = np.array([-2, 1])\n",
    "j_hat = np.array([1, 2])\n",
    "basis = np.array([i_hat, j_hat]).transpose()\n",
    "determinant = np.linalg.det(basis)\n",
    "print(determinant)"
   ]
  },
  {
   "cell_type": "code",
   "execution_count": 21,
   "metadata": {},
   "outputs": [
    {
     "name": "stdout",
     "output_type": "stream",
     "text": [
      "0.0\n"
     ]
    }
   ],
   "source": [
    "# determinant for showing linear dependence\n",
    "i_hat = np.array([-2, 1])\n",
    "j_hat = np.array([3, -1.5])\n",
    "basis = np.array([i_hat, j_hat]).transpose()\n",
    "determinant = np.linalg.det(basis)\n",
    "print(determinant)"
   ]
  },
  {
   "cell_type": "markdown",
   "metadata": {},
   "source": [
    "Types of matrices:\n",
    "\n",
    "Square matrix: has the same number of rows and columns <br>\n",
    "primarily used to represent linear transformations and are used in many operations like decomposition.\n",
    "\n",
    "$\\begin{bmatrix} 4 & 2 & 7 \\\\ 5 & 1 & 9 \\\\ 4 & 0 & 1\\end{bmatrix}$\n",
    "\n",
    "Identity matrix: square matrix of diagonal 1's with all other values zero\n",
    "important for identifying when a transformation has been undone\n",
    "\n",
    "$\\begin{bmatrix} 1 & 0 & 0 \\\\ 0 & 1 & 0 \\\\ 0 & 0 & 1 \\end{bmatrix}$\n",
    "\n",
    "Inverse matrix: The matrix that, when applied to its non-inverse, yields an identity matrix <br>\n",
    "useful in many operations, including to solve systems of equations\n",
    "\n",
    "$A * A^{-1} = I $\n",
    "\n",
    "Diagonal matrix: square matrix of diagonal non-zero values, with all other values zero <br>\n",
    "applied in some operations, like simple scalars applied to a vector space\n",
    "\n",
    "$\\begin{bmatrix} 2 & 0 & 0 \\\\ 0 & 8 & 0 \\\\ 0 & 0 & 3 \\end{bmatrix}$\n",
    "\n",
    "Triangular matrix: upper right triangle of values, lower left triangle of zeros <br>\n",
    "useful in many operations, especially decomposition\n",
    "\n",
    "$\\begin{bmatrix} 2 & 8 & 3 \\\\ 0 & 6 & 5 \\\\ 0 & 0 & 1 \\end{bmatrix}$\n",
    "\n",
    "Sparse matrix: matrix with few non-zero elements <br>\n",
    "not very useful in math, but can provide efficiencies from a computing standpoint\n",
    "\n",
    "$\\begin{bmatrix} 0 & 0 & 0 \\\\ 0 & 4& 0 \\\\ 0 & 0 & 3 \\\\ 0 & 0 & 0 \\end{bmatrix}$"
   ]
  },
  {
   "cell_type": "markdown",
   "metadata": {},
   "source": [
    "Solving systems of equations such that\n",
    "\n",
    "$AX = B$, where\n",
    "\n",
    "$A$ is the matrix of coefficients,\n",
    "$X$ is the vector of variables, and\n",
    "$B$ is the vector of solutions.\n",
    "\n",
    "To solve,\n",
    "\n",
    "$AX = B$\n",
    "\n",
    "$A^{-1}AX = A^{-1}B$\n",
    "\n",
    "$X = A^{-1}B$"
   ]
  },
  {
   "cell_type": "code",
   "execution_count": 22,
   "metadata": {},
   "outputs": [
    {
     "name": "stdout",
     "output_type": "stream",
     "text": [
      "INVERSE: Matrix([[-1/2, 0, 1/3], [11/2, -2, -4/3], [-2, 1, 1/3]])\n",
      "IDENTITY: Matrix([[1, 0, 0], [0, 1, 0], [0, 0, 1]])\n",
      "Solution: Matrix([[2], [34], [-8]])\n"
     ]
    }
   ],
   "source": [
    "# solving system of equations using linear algebra\n",
    "# 4x + 2y + 4z = 44\n",
    "# 5x + 3y + 7z = 56\n",
    "# 9x + 3y + 6z = 72\n",
    "A = sympy.Matrix([\n",
    "    [4, 2, 4],\n",
    "    [5, 3, 7],\n",
    "    [9, 3, 6]\n",
    "])\n",
    "inverse = A.inv()\n",
    "identity = inverse * A\n",
    "print('INVERSE:', inverse)\n",
    "print('IDENTITY:', identity)\n",
    "B = sympy.Matrix([\n",
    "    44,\n",
    "    56,\n",
    "    72\n",
    "])\n",
    "# AX = B\n",
    "# X = A.inv * B\n",
    "X = A.inv() * B\n",
    "print('Solution:', X)"
   ]
  },
  {
   "cell_type": "markdown",
   "metadata": {},
   "source": [
    "Matrix decomposition: breaking up a matrix into its basic components"
   ]
  },
  {
   "cell_type": "markdown",
   "metadata": {},
   "source": [
    "Eigendecomposition breaks up a matrix into two components, eigenvalues $\\lambda$ and eigenvector $v$\n",
    "\n",
    "Eigendecomposition only works on square matrices"
   ]
  },
  {
   "cell_type": "markdown",
   "metadata": {},
   "source": [
    "$ Av = \\lambda v$, where \n",
    "$A$ is the parent matrix, <br>\n",
    "$v$ is the eigenvalues, and <br>\n",
    "$\\lambda$ is the eigenvectors\n",
    "\n",
    "to reconstruct the matrix from $\\lambda$ and $v$,\n",
    "\n",
    "$A = \\lambda \\Lambda \\lambda^{-1} $ where <br>\n",
    "$\\lambda$ is the eigenvectors matrix, and <br>\n",
    "$\\Lambda$ is the eigenvalues in diagonal matrix form."
   ]
  },
  {
   "cell_type": "code",
   "execution_count": 23,
   "metadata": {},
   "outputs": [
    {
     "name": "stdout",
     "output_type": "stream",
     "text": [
      "EIGENVALUES: [-0.46410162  6.46410162]\n",
      "EIGENVECTORS: [[-0.80689822 -0.34372377]\n",
      " [ 0.59069049 -0.9390708 ]]\n",
      "MATRIX REBUILT: [[1. 2.]\n",
      " [4. 5.]]\n"
     ]
    }
   ],
   "source": [
    "# eigendecomposition\n",
    "A = np.array([\n",
    "    [1, 2],\n",
    "    [4, 5]\n",
    "])\n",
    "eigenvals, eigenvecs = np.linalg.eig(A)\n",
    "print('EIGENVALUES:', eigenvals)\n",
    "print('EIGENVECTORS:', eigenvecs)\n",
    "# A = Q^Q.inv, where ^ is the diagonal form of eigenvalues\n",
    "Q = eigenvecs\n",
    "R = np.linalg.inv(Q)\n",
    "L = np.diag(eigenvals)\n",
    "B = Q @ L @ R\n",
    "print('MATRIX REBUILT:', B)"
   ]
  },
  {
   "cell_type": "code",
   "execution_count": 24,
   "metadata": {},
   "outputs": [
    {
     "name": "stdout",
     "output_type": "stream",
     "text": [
      "[2. 3.]\n"
     ]
    }
   ],
   "source": [
    "# exercise 1\n",
    "i_hat = np.array([2, 0])\n",
    "j_hat = np.array([0, 1.5])\n",
    "basis = np.array([i_hat, j_hat]).transpose()\n",
    "v = np.array([1, 2])\n",
    "new_v = basis.dot(v)\n",
    "print(new_v)"
   ]
  },
  {
   "cell_type": "code",
   "execution_count": 25,
   "metadata": {},
   "outputs": [
    {
     "name": "stdout",
     "output_type": "stream",
     "text": [
      "[ 0 -3]\n"
     ]
    }
   ],
   "source": [
    "# exercise 2\n",
    "i_hat = np.array([-2, 1])\n",
    "j_hat = np.array([1, -2])\n",
    "basis = np.array([i_hat, j_hat]).transpose()\n",
    "v = np.array([1, 2])\n",
    "new_v = basis.dot(v)\n",
    "print(new_v)"
   ]
  },
  {
   "cell_type": "code",
   "execution_count": 26,
   "metadata": {},
   "outputs": [
    {
     "name": "stdout",
     "output_type": "stream",
     "text": [
      "2.0\n"
     ]
    }
   ],
   "source": [
    "# exercise 3\n",
    "i_hat = np.array([1, 0])\n",
    "j_hat = np.array([2, 2])\n",
    "basis = np.array([i_hat, j_hat]).transpose()\n",
    "determinant = np.linalg.det(basis)\n",
    "print(determinant)"
   ]
  },
  {
   "cell_type": "code",
   "execution_count": 27,
   "metadata": {},
   "outputs": [
    {
     "name": "stdout",
     "output_type": "stream",
     "text": [
      "[[ 0 -1]\n",
      " [-1 -1]]\n",
      "[-1 -3]\n"
     ]
    }
   ],
   "source": [
    "# exercise 4\n",
    "\n",
    "# 2+ linear transformations can be done in a single linear transformation,\n",
    "# so long as the underlying linear transformations are applied\n",
    "# in the correct order. For example:\n",
    "basis1 = np.array([\n",
    "    [1, 1],\n",
    "    [0, 1]\n",
    "])\n",
    "basis2 = np.array([\n",
    "    [0, -1],\n",
    "    [-1, 0]\n",
    "])\n",
    "single = basis2 @ basis1\n",
    "print(single)\n",
    "v = np.array([2, 1])\n",
    "new_v = single.dot(v)\n",
    "print(new_v)"
   ]
  },
  {
   "cell_type": "code",
   "execution_count": 28,
   "metadata": {},
   "outputs": [
    {
     "name": "stdout",
     "output_type": "stream",
     "text": [
      "Matrix([[99/5], [-27/5], [-6]])\n"
     ]
    }
   ],
   "source": [
    "# exercise 5\n",
    "A = sympy.Matrix([\n",
    "    [3, 1, 0],\n",
    "    [2, 4, 1],\n",
    "    [3, 1, 8]\n",
    "])\n",
    "B = sympy.Matrix([\n",
    "    54,\n",
    "    12,\n",
    "    6\n",
    "])\n",
    "X = A.inv() * B\n",
    "print(X)"
   ]
  },
  {
   "cell_type": "code",
   "execution_count": 29,
   "metadata": {},
   "outputs": [
    {
     "name": "stdout",
     "output_type": "stream",
     "text": [
      "0.0\n",
      "Linearly independent? --> False\n"
     ]
    }
   ],
   "source": [
    "# exercise 6\n",
    "basis = np.array([\n",
    "    [2, 1],\n",
    "    [6, 3]\n",
    "])\n",
    "determinant = np.linalg.det(basis)\n",
    "print(determinant)\n",
    "print('Linearly independent? -->', determinant != 0.0)"
   ]
  },
  {
   "cell_type": "markdown",
   "metadata": {},
   "source": [
    "**LINEAR ALGEBRA IS FOUNDATIONAL TO GOOD DATA SCIENCE, LEARN AND MASTER IT**"
   ]
  }
 ],
 "metadata": {
  "kernelspec": {
   "display_name": "venv",
   "language": "python",
   "name": "python3"
  },
  "language_info": {
   "codemirror_mode": {
    "name": "ipython",
    "version": 3
   },
   "file_extension": ".py",
   "mimetype": "text/x-python",
   "name": "python",
   "nbconvert_exporter": "python",
   "pygments_lexer": "ipython3",
   "version": "3.10.11"
  },
  "orig_nbformat": 4
 },
 "nbformat": 4,
 "nbformat_minor": 2
}
