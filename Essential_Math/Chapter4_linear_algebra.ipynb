{
 "cells": [
  {
   "attachments": {},
   "cell_type": "markdown",
   "metadata": {},
   "source": [
    "## Linear Algebra"
   ]
  },
  {
   "cell_type": "code",
   "execution_count": 1,
   "metadata": {},
   "outputs": [],
   "source": [
    "import math\n",
    "import random\n",
    "import numpy as np\n",
    "import scipy\n",
    "import sympy\n",
    "import sklearn\n",
    "import matplotlib.pyplot as plt\n",
    "import seaborn as sns"
   ]
  },
  {
   "cell_type": "code",
   "execution_count": 2,
   "metadata": {},
   "outputs": [
    {
     "name": "stdout",
     "output_type": "stream",
     "text": [
      "[3, 2]\n",
      "[3 2]\n"
     ]
    }
   ],
   "source": [
    "# vectors\n",
    "v = [3, 2]\n",
    "print(v) # as a list\n",
    "v = np.array([3, 2])\n",
    "print(v) # as an array"
   ]
  },
  {
   "cell_type": "code",
   "execution_count": 3,
   "metadata": {},
   "outputs": [
    {
     "name": "stdout",
     "output_type": "stream",
     "text": [
      "[4 1 2]\n",
      "[6 1 5 8 3]\n"
     ]
    }
   ],
   "source": [
    "# multidimensional vectors\n",
    "v = np.array([4, 1, 2])\n",
    "print(v)\n",
    "v = np.array([6,1,5,8,3])\n",
    "print(v)"
   ]
  },
  {
   "cell_type": "code",
   "execution_count": 4,
   "metadata": {},
   "outputs": [
    {
     "name": "stdout",
     "output_type": "stream",
     "text": [
      "[5 1]\n"
     ]
    }
   ],
   "source": [
    "# adding vectors\n",
    "v = np.array([3, 2])\n",
    "w = np.array([2, -1])\n",
    "v_plus_w = v + w\n",
    "print(v_plus_w)"
   ]
  },
  {
   "cell_type": "code",
   "execution_count": 5,
   "metadata": {},
   "outputs": [
    {
     "name": "stdout",
     "output_type": "stream",
     "text": [
      "[5 1]\n"
     ]
    }
   ],
   "source": [
    "# adding vectors is commutative (v+w == w+v)\n",
    "w_plus_v = w + v\n",
    "print(w_plus_v)"
   ]
  },
  {
   "cell_type": "code",
   "execution_count": 6,
   "metadata": {},
   "outputs": [
    {
     "name": "stdout",
     "output_type": "stream",
     "text": [
      "[6. 2.]\n"
     ]
    }
   ],
   "source": [
    "# scalars\n",
    "v = np.array([3, 1])\n",
    "scaled_v = 2.0 * v\n",
    "print(scaled_v)"
   ]
  },
  {
   "cell_type": "code",
   "execution_count": 7,
   "metadata": {},
   "outputs": [
    {
     "name": "stdout",
     "output_type": "stream",
     "text": [
      "[1 0]\n",
      "[0 1]\n",
      "[[1 0]\n",
      " [0 1]]\n"
     ]
    }
   ],
   "source": [
    "# basis vectors\n",
    "i_hat = np.array([1, 0])\n",
    "j_hat = np.array([0, 1])\n",
    "basis = np.array(\n",
    "    [[1, 0],\n",
    "     [0, 1]]\n",
    ")\n",
    "print(i_hat)\n",
    "print(j_hat)\n",
    "print(basis)"
   ]
  },
  {
   "cell_type": "code",
   "execution_count": 8,
   "metadata": {},
   "outputs": [
    {
     "name": "stdout",
     "output_type": "stream",
     "text": [
      "[3. 0.]\n",
      "[0. 2.]\n"
     ]
    }
   ],
   "source": [
    "# scaled basis\n",
    "i_scaled = 3.0 * i_hat\n",
    "j_scaled = 2.0 * j_hat\n",
    "print(i_scaled)\n",
    "print(j_scaled)"
   ]
  },
  {
   "cell_type": "code",
   "execution_count": 9,
   "metadata": {},
   "outputs": [
    {
     "name": "stdout",
     "output_type": "stream",
     "text": [
      "[3 2]\n"
     ]
    }
   ],
   "source": [
    "# matrix multiplication\n",
    "basis = np.array(\n",
    "    [[3, 0],\n",
    "     [0, 2]]\n",
    ")\n",
    "v = np.array([1, 1])\n",
    "new_v = basis.dot(v)\n",
    "print(new_v)"
   ]
  },
  {
   "cell_type": "code",
   "execution_count": 10,
   "metadata": {},
   "outputs": [
    {
     "name": "stdout",
     "output_type": "stream",
     "text": [
      "[2 3]\n"
     ]
    }
   ],
   "source": [
    "# transpose (rows to columns)\n",
    "i_hat = np.array([2, 0])\n",
    "j_hat = np.array([0, 3])\n",
    "basis = np.array([i_hat, j_hat]).transpose()\n",
    "v = np.array([1, 1])\n",
    "new_v = basis.dot(v)\n",
    "print(new_v)"
   ]
  },
  {
   "cell_type": "code",
   "execution_count": 11,
   "metadata": {},
   "outputs": [
    {
     "name": "stdout",
     "output_type": "stream",
     "text": [
      "Without transposition: [3 0]\n",
      "With transposition: [-1  4]\n"
     ]
    }
   ],
   "source": [
    "# rows vs columns matters in matrix multiplication!\n",
    "i_hat = np.array([2, 1])\n",
    "j_hat = np.array([-3, 3])\n",
    "incorrect = np.array([i_hat, j_hat])\n",
    "basis = np.array([i_hat, j_hat]).transpose()\n",
    "v = np.array([1, 1])\n",
    "new_v = basis.dot(v)\n",
    "incorrect_v = incorrect.dot(v)\n",
    "print('Without transposition:', incorrect_v)\n",
    "print('With transposition:', new_v)"
   ]
  },
  {
   "cell_type": "code",
   "execution_count": 12,
   "metadata": {},
   "outputs": [
    {
     "name": "stdout",
     "output_type": "stream",
     "text": [
      "[4 3]\n"
     ]
    }
   ],
   "source": [
    "# transform vector\n",
    "i_hat = np.array([2, 0])\n",
    "j_hat = np.array([0, 3])\n",
    "basis = np.array([i_hat, j_hat]).transpose()\n",
    "v = np.array([2, 1])\n",
    "new_v = basis.dot(v)\n",
    "print(new_v)"
   ]
  },
  {
   "cell_type": "code",
   "execution_count": 13,
   "metadata": {},
   "outputs": [
    {
     "name": "stdout",
     "output_type": "stream",
     "text": [
      "[6 5]\n"
     ]
    }
   ],
   "source": [
    "# linear transformation with rotate, shear, and flip\n",
    "i_hat = np.array([2, 3])\n",
    "j_hat = np.array([2, -1])\n",
    "basis = np.array([i_hat, j_hat]).transpose()\n",
    "v = np.array([2, 1])\n",
    "new_v = basis.dot(v)\n",
    "print(new_v)"
   ]
  },
  {
   "cell_type": "code",
   "execution_count": 14,
   "metadata": {},
   "outputs": [
    {
     "name": "stdout",
     "output_type": "stream",
     "text": [
      "Combined matrix:\n",
      " [[ 1 -1]\n",
      " [ 1  0]]\n",
      "[-1  1]\n"
     ]
    }
   ],
   "source": [
    "# combining transformations\n",
    "i_hat1 = np.array([0, 1])\n",
    "j_hat1 = np.array([-1, 0])\n",
    "transform1 = np.array([i_hat1, j_hat1]).transpose()\n",
    "\n",
    "i_hat2 = np.array([1, 0])\n",
    "j_hat2 = np.array([1, 1])\n",
    "transform2 = np.array([i_hat2, j_hat2]).transpose()\n",
    "\n",
    "combined = transform2 @ transform1\n",
    "\n",
    "print('Combined matrix:\\n', combined)\n",
    "v = np.array([1, 2])\n",
    "print(combined.dot(v))"
   ]
  },
  {
   "cell_type": "code",
   "execution_count": 15,
   "metadata": {},
   "outputs": [
    {
     "name": "stdout",
     "output_type": "stream",
     "text": [
      "[-1  1]\n"
     ]
    }
   ],
   "source": [
    "# can also apply in order\n",
    "rotated = transform1.dot(v)\n",
    "sheared = transform2.dot(rotated)\n",
    "print(sheared)"
   ]
  },
  {
   "cell_type": "code",
   "execution_count": 16,
   "metadata": {},
   "outputs": [
    {
     "name": "stdout",
     "output_type": "stream",
     "text": [
      "Combined matrix:\n",
      " [[ 0 -1]\n",
      " [ 1  1]]\n",
      "[-2  3]\n"
     ]
    }
   ],
   "source": [
    "# transformation order matters!\n",
    "combined = transform1 @ transform2\n",
    "print('Combined matrix:\\n', combined)\n",
    "v = np.array([1, 2])\n",
    "print(combined.dot(v))"
   ]
  },
  {
   "cell_type": "code",
   "execution_count": 17,
   "metadata": {},
   "outputs": [
    {
     "name": "stdout",
     "output_type": "stream",
     "text": [
      "6.0\n"
     ]
    }
   ],
   "source": [
    "# determinants (vector areas)\n",
    "i_hat = np.array([3, 0])\n",
    "j_hat = np.array([0, 2])\n",
    "basis = np.array([i_hat, j_hat]).transpose()\n",
    "determinant = np.linalg.det(basis)\n",
    "print(determinant)"
   ]
  },
  {
   "cell_type": "code",
   "execution_count": 18,
   "metadata": {},
   "outputs": [
    {
     "name": "stdout",
     "output_type": "stream",
     "text": [
      "1.0\n"
     ]
    }
   ],
   "source": [
    "# shear determinant (diagonal)\n",
    "i_hat = np.array([1, 0])\n",
    "j_hat = np.array([1, 1])\n",
    "basis = np.array([i_hat, j_hat]).transpose()\n",
    "determinant = np.linalg.det(basis)\n",
    "print(determinant)"
   ]
  },
  {
   "cell_type": "code",
   "execution_count": 19,
   "metadata": {},
   "outputs": [
    {
     "name": "stdout",
     "output_type": "stream",
     "text": [
      "-5.000000000000001\n"
     ]
    }
   ],
   "source": [
    "# determinant negative (orientation flipped)\n",
    "i_hat = np.array([-2, 1])\n",
    "j_hat = np.array([1, 2])\n",
    "basis = np.array([i_hat, j_hat]).transpose()\n",
    "determinant = np.linalg.det(basis)\n",
    "print(determinant)"
   ]
  },
  {
   "cell_type": "code",
   "execution_count": 20,
   "metadata": {},
   "outputs": [
    {
     "name": "stdout",
     "output_type": "stream",
     "text": [
      "0.0\n"
     ]
    }
   ],
   "source": [
    "# determinant for showing linear dependence\n",
    "i_hat = np.array([-2, 1])\n",
    "j_hat = np.array([3, -1.5])\n",
    "basis = np.array([i_hat, j_hat]).transpose()\n",
    "determinant = np.linalg.det(basis)\n",
    "print(determinant)"
   ]
  },
  {
   "cell_type": "code",
   "execution_count": 21,
   "metadata": {},
   "outputs": [
    {
     "name": "stdout",
     "output_type": "stream",
     "text": [
      "INVERSE: Matrix([[-1/2, 0, 1/3], [11/2, -2, -4/3], [-2, 1, 1/3]])\n",
      "IDENTITY: Matrix([[1, 0, 0], [0, 1, 0], [0, 0, 1]])\n",
      "Solution: Matrix([[2], [34], [-8]])\n"
     ]
    }
   ],
   "source": [
    "# solving system of equations using linear algebra\n",
    "# 4x + 2y + 4z = 44\n",
    "# 5x + 3y + 7z = 56\n",
    "# 9x + 3y + 6z = 72\n",
    "A = sympy.Matrix([\n",
    "    [4, 2, 4],\n",
    "    [5, 3, 7],\n",
    "    [9, 3, 6]\n",
    "])\n",
    "inverse = A.inv()\n",
    "identity = inverse * A\n",
    "print('INVERSE:', inverse)\n",
    "print('IDENTITY:', identity)\n",
    "B = sympy.Matrix([\n",
    "    44,\n",
    "    56,\n",
    "    72\n",
    "])\n",
    "# AX = B\n",
    "# X = A.inv * B\n",
    "X = A.inv() * B\n",
    "print('Solution:', X)"
   ]
  },
  {
   "cell_type": "code",
   "execution_count": 22,
   "metadata": {},
   "outputs": [
    {
     "name": "stdout",
     "output_type": "stream",
     "text": [
      "EIGENVALUES: [-0.46410162  6.46410162]\n",
      "EIGENVECTORS: [[-0.80689822 -0.34372377]\n",
      " [ 0.59069049 -0.9390708 ]]\n",
      "MATRIX REBUILT: [[1. 2.]\n",
      " [4. 5.]]\n"
     ]
    }
   ],
   "source": [
    "# eigendecomposition\n",
    "A = np.array([\n",
    "    [1, 2],\n",
    "    [4, 5]\n",
    "])\n",
    "eigenvals, eigenvecs = np.linalg.eig(A)\n",
    "print('EIGENVALUES:', eigenvals)\n",
    "print('EIGENVECTORS:', eigenvecs)\n",
    "# A = Q^Q.inv, where ^ is the diagonal form of eigenvalues\n",
    "Q = eigenvecs\n",
    "R = np.linalg.inv(Q)\n",
    "L = np.diag(eigenvals)\n",
    "B = Q @ L @ R\n",
    "print('MATRIX REBUILT:', B)"
   ]
  },
  {
   "cell_type": "code",
   "execution_count": 23,
   "metadata": {},
   "outputs": [
    {
     "name": "stdout",
     "output_type": "stream",
     "text": [
      "[2. 3.]\n"
     ]
    }
   ],
   "source": [
    "# exercise 1\n",
    "i_hat = np.array([2, 0])\n",
    "j_hat = np.array([0, 1.5])\n",
    "basis = np.array([i_hat, j_hat]).transpose()\n",
    "v = np.array([1, 2])\n",
    "new_v = basis.dot(v)\n",
    "print(new_v)"
   ]
  },
  {
   "cell_type": "code",
   "execution_count": 24,
   "metadata": {},
   "outputs": [
    {
     "name": "stdout",
     "output_type": "stream",
     "text": [
      "[ 0 -3]\n"
     ]
    }
   ],
   "source": [
    "# exercise 2\n",
    "i_hat = np.array([-2, 1])\n",
    "j_hat = np.array([1, -2])\n",
    "basis = np.array([i_hat, j_hat]).transpose()\n",
    "v = np.array([1, 2])\n",
    "new_v = basis.dot(v)\n",
    "print(new_v)"
   ]
  },
  {
   "cell_type": "code",
   "execution_count": 25,
   "metadata": {},
   "outputs": [
    {
     "name": "stdout",
     "output_type": "stream",
     "text": [
      "2.0\n"
     ]
    }
   ],
   "source": [
    "# exercise 3\n",
    "i_hat = np.array([1, 0])\n",
    "j_hat = np.array([2, 2])\n",
    "basis = np.array([i_hat, j_hat]).transpose()\n",
    "determinant = np.linalg.det(basis)\n",
    "print(determinant)"
   ]
  },
  {
   "cell_type": "code",
   "execution_count": 26,
   "metadata": {},
   "outputs": [
    {
     "name": "stdout",
     "output_type": "stream",
     "text": [
      "[[ 0 -1]\n",
      " [-1 -1]]\n",
      "[-1 -3]\n"
     ]
    }
   ],
   "source": [
    "# exercise 4\n",
    "\n",
    "# 2+ linear transformations can be done in a single linear transformation,\n",
    "# so long as the underlying linear transformations are applied\n",
    "# in the correct order. For example:\n",
    "basis1 = np.array([\n",
    "    [1, 1],\n",
    "    [0, 1]\n",
    "])\n",
    "basis2 = np.array([\n",
    "    [0, -1],\n",
    "    [-1, 0]\n",
    "])\n",
    "single = basis2 @ basis1\n",
    "print(single)\n",
    "v = np.array([2, 1])\n",
    "new_v = single.dot(v)\n",
    "print(new_v)"
   ]
  },
  {
   "cell_type": "code",
   "execution_count": 27,
   "metadata": {},
   "outputs": [
    {
     "name": "stdout",
     "output_type": "stream",
     "text": [
      "Matrix([[99/5], [-27/5], [-6]])\n"
     ]
    }
   ],
   "source": [
    "# exercise 5\n",
    "A = sympy.Matrix([\n",
    "    [3, 1, 0],\n",
    "    [2, 4, 1],\n",
    "    [3, 1, 8]\n",
    "])\n",
    "B = sympy.Matrix([\n",
    "    54,\n",
    "    12,\n",
    "    6\n",
    "])\n",
    "X = A.inv() * B\n",
    "print(X)"
   ]
  },
  {
   "cell_type": "code",
   "execution_count": 28,
   "metadata": {},
   "outputs": [
    {
     "name": "stdout",
     "output_type": "stream",
     "text": [
      "0.0\n",
      "Linearly independent? --> False\n"
     ]
    }
   ],
   "source": [
    "# exercise 6\n",
    "basis = np.array([\n",
    "    [2, 1],\n",
    "    [6, 3]\n",
    "])\n",
    "determinant = np.linalg.det(basis)\n",
    "print(determinant)\n",
    "print('Linearly independent? -->', determinant != 0.0)"
   ]
  }
 ],
 "metadata": {
  "kernelspec": {
   "display_name": "venv",
   "language": "python",
   "name": "python3"
  },
  "language_info": {
   "codemirror_mode": {
    "name": "ipython",
    "version": 3
   },
   "file_extension": ".py",
   "mimetype": "text/x-python",
   "name": "python",
   "nbconvert_exporter": "python",
   "pygments_lexer": "ipython3",
   "version": "3.10.11"
  },
  "orig_nbformat": 4
 },
 "nbformat": 4,
 "nbformat_minor": 2
}
