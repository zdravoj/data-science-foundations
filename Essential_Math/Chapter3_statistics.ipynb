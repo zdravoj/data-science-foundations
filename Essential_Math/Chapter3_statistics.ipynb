{
 "cells": [
  {
   "attachments": {},
   "cell_type": "markdown",
   "metadata": {},
   "source": [
    "## Descriptive and Inferential Statistics"
   ]
  },
  {
   "cell_type": "code",
   "execution_count": 1,
   "metadata": {},
   "outputs": [],
   "source": [
    "import math\n",
    "import random\n",
    "import numpy as np\n",
    "import scipy\n",
    "import matplotlib.pyplot as plt\n",
    "import seaborn as sns"
   ]
  },
  {
   "cell_type": "markdown",
   "metadata": {},
   "source": [
    "Statistics: collecting data, analyzing data to discover findings, using data to predict what causes those findings"
   ]
  },
  {
   "cell_type": "markdown",
   "metadata": {},
   "source": [
    "**ASK WHERE DATA COMES FROM** <br>\n",
    "data is just snapshots. **DATA PROVIDES CLUES, NOT TRUTH** <br>\n",
    "data can be biased (missing variables, missing important representation) <br>\n",
    "keep data objectives focused (gather what is relevant and complete) <br>"
   ]
  },
  {
   "cell_type": "markdown",
   "metadata": {},
   "source": [
    "Descriptive statistics: summarizes data <br>\n",
    "Inferential statistics: attempts to uncover attributes of a larger population"
   ]
  },
  {
   "cell_type": "markdown",
   "metadata": {},
   "source": [
    "Population: a particular group of interest <br>\n",
    "Sample: subset of a population <br>\n",
    "Bias: skews findings by over-representing a certain group <br>\n",
    "1. Confirmation bias: only collecting data that supports a certain belief or hypothesis\n",
    "2. Self-selection bias: occurs when a specific group is more likely to include itself in the sample\n",
    "3. Survival bias: only captures surviving subjects, while deceased are unaccounted for\n",
    "\n",
    "Overcome bias with random selection <br>\n",
    "scrutinize data collection processes for possible bias\n",
    "\n",
    "Confounding variables: unaddressed, unmeasured, or possibly influential variables\n",
    "    "
   ]
  },
  {
   "cell_type": "code",
   "execution_count": 2,
   "metadata": {},
   "outputs": [
    {
     "name": "stdout",
     "output_type": "stream",
     "text": [
      "2.875\n"
     ]
    }
   ],
   "source": [
    "# mean (average of a set of values)\n",
    "sample = [1,3,2,5,7,0,2,3]\n",
    "mean = sum(sample) / len(sample)\n",
    "print(mean)"
   ]
  },
  {
   "cell_type": "code",
   "execution_count": 3,
   "metadata": {},
   "outputs": [
    {
     "name": "stdout",
     "output_type": "stream",
     "text": [
      "81.4\n"
     ]
    }
   ],
   "source": [
    "# weighted mean (mean, but some values are given more importance)\n",
    "sample = [90, 80, 63, 87]\n",
    "weights = [.20, .20, .20, .40]\n",
    "weighted_mean = sum(s*w for s,w in zip(sample, weights)) / sum(weights)\n",
    "print(weighted_mean)"
   ]
  },
  {
   "cell_type": "markdown",
   "metadata": {},
   "source": [
    "means are more sensitive to outliers (when compared to median or mode)"
   ]
  },
  {
   "cell_type": "code",
   "execution_count": 4,
   "metadata": {},
   "outputs": [
    {
     "name": "stdout",
     "output_type": "stream",
     "text": [
      "7\n"
     ]
    }
   ],
   "source": [
    "# median (middlemost value)\n",
    "sample = [0,1,5,7,9,10,14]\n",
    "def median(values):\n",
    "    ordered = sorted(values)\n",
    "    n = len(ordered)\n",
    "    mid = n//2 if n%2 else n//2-1\n",
    "    if n%2:\n",
    "        return ordered[mid]\n",
    "    else:\n",
    "        return (ordered[mid] + ordered[mid+1]) / 2.0\n",
    "\n",
    "print(median(sample))"
   ]
  },
  {
   "cell_type": "markdown",
   "metadata": {},
   "source": [
    "quantile: like median, splitting the data based on # of observations (quartiles split data into 4 groups - 25%, 50%, 75%, 100%)"
   ]
  },
  {
   "cell_type": "code",
   "execution_count": 5,
   "metadata": {},
   "outputs": [
    {
     "name": "stdout",
     "output_type": "stream",
     "text": [
      "[2, 3]\n"
     ]
    }
   ],
   "source": [
    "# mode (most common value)\n",
    "# unimodal and multimodal\n",
    "sample = [1,3,2,5,7,0,2,3]\n",
    "def mode(values):\n",
    "    counts = dict()\n",
    "    for s in values:\n",
    "        counts[s] = counts.get(s, 0)+1\n",
    "    max_count = max(counts.values())\n",
    "    modes = [v for v in set(values) if counts[v] == max_count]\n",
    "    return modes\n",
    "\n",
    "print(mode(sample))"
   ]
  },
  {
   "cell_type": "markdown",
   "metadata": {},
   "source": [
    "mode is useful when data is repetitive"
   ]
  },
  {
   "cell_type": "markdown",
   "metadata": {},
   "source": [
    "Variance:\n",
    "\n",
    "$ \\sigma^2 = \\frac{\\Sigma(x_i - \\mu)^2}{N} $"
   ]
  },
  {
   "cell_type": "code",
   "execution_count": 6,
   "metadata": {},
   "outputs": [
    {
     "name": "stdout",
     "output_type": "stream",
     "text": [
      "21.387755102040813\n"
     ]
    }
   ],
   "source": [
    "# variance (sum of squared differences between data points and mean)\n",
    "data = [0,1,5,7,9,10,14]\n",
    "def variance(values):\n",
    "    mean = sum(values) / len(values)\n",
    "    _variance = sum((v-mean)**2 for v in values) / len(values)\n",
    "    return _variance\n",
    "\n",
    "print(variance(data))"
   ]
  },
  {
   "cell_type": "markdown",
   "metadata": {},
   "source": [
    "Standard deviation:\n",
    "\n",
    "$ \\sigma = \\sqrt{\\frac{\\Sigma(x_i - \\mu)^2}{N}} $"
   ]
  },
  {
   "cell_type": "code",
   "execution_count": 7,
   "metadata": {},
   "outputs": [
    {
     "name": "stdout",
     "output_type": "stream",
     "text": [
      "4.624689730353898\n"
     ]
    }
   ],
   "source": [
    "# standard deviation (average difference between data points and mean)\n",
    "data = [0,1,5,7,9,10,14]\n",
    "def std_dev(values):\n",
    "    return math.sqrt(variance(values))\n",
    "\n",
    "print(std_dev(data))"
   ]
  },
  {
   "cell_type": "markdown",
   "metadata": {},
   "source": [
    "Variance & Standard Deviation of a sample:\n",
    "\n",
    "$ s^2 = \\frac{\\Sigma(x_i - \\mu)^2}{n-1} $\n",
    "\n",
    "$ s = \\sqrt{\\frac{\\Sigma(x_i - \\mu)^2}{n-1}} $\n",
    "\n",
    "samples tend to underestimate the variance in the population, and so the sample formulas divide by $n-1$ instead of $n$ to increase variance and capture greater uncertainty about the population."
   ]
  },
  {
   "cell_type": "code",
   "execution_count": 8,
   "metadata": {},
   "outputs": [
    {
     "name": "stdout",
     "output_type": "stream",
     "text": [
      "VARIANCE = 24.95238095238095\n",
      "STD DEV = 4.99523582550223\n"
     ]
    }
   ],
   "source": [
    "# variance and standard deviation for a sample\n",
    "def variance(values, is_sample: bool = False):\n",
    "    mean = sum(values) / len(values)\n",
    "    _variance = (\n",
    "        sum((v-mean)**2 for v in values) /\n",
    "        (len(values) - (1 if is_sample else 0))\n",
    "    )\n",
    "\n",
    "    return _variance\n",
    "\n",
    "def std_dev(values, is_sample: bool = False):\n",
    "    return math.sqrt(variance(values, is_sample))\n",
    "\n",
    "print(f\"VARIANCE = {variance(data, is_sample=True)}\")\n",
    "print(f\"STD DEV = {std_dev(data, is_sample=True)}\")"
   ]
  },
  {
   "cell_type": "markdown",
   "metadata": {},
   "source": [
    "Normal (Gaussian) distribution: symmetrical, bell-shaped distribution with most mass around the mean and spread defined by standard deviation\n",
    "\n",
    "Standard normal distribution: Normal distribution with mean 0 and standard deviation 1"
   ]
  },
  {
   "cell_type": "code",
   "execution_count": 9,
   "metadata": {},
   "outputs": [
    {
     "data": {
      "image/png": "[encoded data removed]",
      "text/plain": [
       "<Figure size 640x480 with 1 Axes>"
      ]
     },
     "metadata": {},
     "output_type": "display_data"
    }
   ],
   "source": [
    "# normal distribution (histogram)\n",
    "data = np.array([\n",
    "        scipy.stats.norm.ppf(\n",
    "            random.uniform(0.0, 1.0),\n",
    "            loc= 64.43,\n",
    "            scale= 2.99\n",
    "        ) for i in range(1000)\n",
    "])\n",
    "\n",
    "sns.histplot(data= data, binwidth= 1.5);"
   ]
  },
  {
   "cell_type": "code",
   "execution_count": 10,
   "metadata": {},
   "outputs": [
    {
     "data": {
      "image/png": "[encoded data removed]",
      "text/plain": [
       "<Figure size 640x480 with 1 Axes>"
      ]
     },
     "metadata": {},
     "output_type": "display_data"
    }
   ],
   "source": [
    "# normal distribution (density)\n",
    "sns.kdeplot(data= data, bw_adjust= 2);"
   ]
  },
  {
   "cell_type": "markdown",
   "metadata": {},
   "source": [
    "Probability density function that creates a normal distribution:\n",
    "\n",
    "$ \\mathrm{pdf}(x, \\mu, \\sigma) = {1 \\over \\sigma}\\sqrt{2\\pi}e^{-{1 \\over 2}}(\\frac{x - \\mu^2}{\\sigma}) $\n",
    "\n",
    "Probability density function returns a likelihood"
   ]
  },
  {
   "cell_type": "markdown",
   "metadata": {},
   "source": [
    "Cumulative density function: given a range and distribution, finds the probability of a random observation being within that range\n",
    "\n",
    "$ \\mathrm{cdf}(\\beta, \\alpha, \\mu, \\sigma) = \\int\\limits_\\beta^\\alpha \\mathrm{pdf}(x, \\mu, \\sigma)\\mathrm{d}x $, where\n",
    "\n",
    "$ \\alpha $ = upper bound, <br>\n",
    "$ \\beta $ = lower bound, <br>\n",
    "$ \\mu $ = mean, and <br>\n",
    "$ \\sigma $ = standard deviation\n",
    "\n",
    "CDF is a sigmoid curve"
   ]
  },
  {
   "cell_type": "code",
   "execution_count": 11,
   "metadata": {},
   "outputs": [
    {
     "name": "stdout",
     "output_type": "stream",
     "text": [
      "0.5\n"
     ]
    }
   ],
   "source": [
    "# cumulative distribution\n",
    "mu = 64.43\n",
    "sigma = 2.99\n",
    "\n",
    "x = scipy.stats.norm.cdf(64.43, mu, sigma)\n",
    "print(x)"
   ]
  },
  {
   "cell_type": "code",
   "execution_count": 12,
   "metadata": {},
   "outputs": [
    {
     "name": "stdout",
     "output_type": "stream",
     "text": [
      "0.4920450147062894\n"
     ]
    }
   ],
   "source": [
    "# probability between 62 and 66\n",
    "x = scipy.stats.norm.cdf(66, mu, sigma) - scipy.stats.norm.cdf(62, mu, sigma)\n",
    "print(x)"
   ]
  },
  {
   "cell_type": "markdown",
   "metadata": {},
   "source": [
    "Inverse CDF: given a probability (with no lower bound) and distribution, finds the upper bound"
   ]
  },
  {
   "cell_type": "code",
   "execution_count": 13,
   "metadata": {},
   "outputs": [
    {
     "name": "stdout",
     "output_type": "stream",
     "text": [
      "69.3481123445849\n"
     ]
    }
   ],
   "source": [
    "# inverse CDF\n",
    "x = scipy.stats.norm.ppf(0.95, loc= 64.43, scale= 2.99)\n",
    "print(x)"
   ]
  },
  {
   "cell_type": "code",
   "execution_count": 14,
   "metadata": {},
   "outputs": [
    {
     "data": {
      "image/png": "[encoded data removed]",
      "text/plain": [
       "<Figure size 640x480 with 1 Axes>"
      ]
     },
     "metadata": {},
     "output_type": "display_data"
    }
   ],
   "source": [
    "# inverse CDF can also generate realistic (but synthetic) values within a distribution\n",
    "synthetic_data = []\n",
    "for i in range(0, 1000):\n",
    "    random_p = random.uniform(0.0, 1.0)\n",
    "    random_data_point = scipy.stats.norm.ppf(random_p, loc=64.43, scale = 2.99)\n",
    "    synthetic_data.append(random_data_point)\n",
    "\n",
    "sns.histplot(data=synthetic_data);"
   ]
  },
  {
   "cell_type": "markdown",
   "metadata": {},
   "source": [
    "z-score: standardizes any value in a normal distribution to a standard normal distribution <br>\n",
    "z-scores are good for comparing data points with different (normal) distributions.\n",
    "\n",
    "$ z = \\frac{x - \\mu}{\\sigma} $"
   ]
  },
  {
   "cell_type": "code",
   "execution_count": 15,
   "metadata": {},
   "outputs": [
    {
     "name": "stdout",
     "output_type": "stream",
     "text": [
      "3.3333333333333335\n"
     ]
    }
   ],
   "source": [
    "# z score\n",
    "def z_score(x, mean, std):\n",
    "    return (x - mean) / std\n",
    "\n",
    "mean = 140000\n",
    "std_dev = 3000\n",
    "x = 150000\n",
    "\n",
    "print(z_score(x, mean, std_dev))"
   ]
  },
  {
   "cell_type": "markdown",
   "metadata": {},
   "source": [
    "coefficient of variation: standardizes the standard deviation\n",
    "\n",
    "$ \\mathrm{cv} = {\\sigma \\over \\mu} $"
   ]
  },
  {
   "cell_type": "code",
   "execution_count": 16,
   "metadata": {},
   "outputs": [
    {
     "name": "stdout",
     "output_type": "stream",
     "text": [
      "0.02142857142857143\n"
     ]
    }
   ],
   "source": [
    "# coefficient of variation\n",
    "def coeff_variation(mean, std):\n",
    "    return std / mean\n",
    "\n",
    "print(coeff_variation(mean, std_dev))"
   ]
  },
  {
   "cell_type": "markdown",
   "metadata": {},
   "source": [
    "Central limit theorem: the distributions of sample means for any population, no matter how strange or imbalanced the population distribution, as the sample size increases:\n",
    "1. The distribution of sample means appears more normal.\n",
    "2. The mean of sample means approaches the population mean.\n",
    "3. The sample standard deviation approaches the population standard deviation divided by the square root of the sample size, $ s = {\\sigma \\over \\sqrt{n}} $\n",
    "\n",
    "If the population is normal, the sample means will be normal no matter the sample size.\n",
    "\n",
    "For multimodal or highly imbalanced population distributions, a larger sample size (>31) is necessary to see a normal distribution appear in the sample means.\n",
    "\n",
    "For sample sizes smaller than 31, rely on the T-distribution rather than the normal distribution for statistical calculations."
   ]
  },
  {
   "cell_type": "code",
   "execution_count": 17,
   "metadata": {},
   "outputs": [
    {
     "data": {
      "image/png": "[encoded data removed]",
      "text/plain": [
       "<Figure size 640x480 with 1 Axes>"
      ]
     },
     "metadata": {},
     "output_type": "display_data"
    }
   ],
   "source": [
    "# central limit theorem\n",
    "sample_size = 31\n",
    "sample_count = 1000\n",
    "\n",
    "means = np.array([\n",
    "    sum([random.uniform(0.0, 1.0) for i in range(sample_size)])\n",
    "    for i in range(sample_count)\n",
    "])\n",
    "\n",
    "sns.histplot(data= means, bins=20);"
   ]
  },
  {
   "cell_type": "markdown",
   "metadata": {},
   "source": [
    "Confidence interval: how confidently we believe that a range around our sample mean contains the population mean.\n",
    "\n",
    "$ \\mathrm{CI} = \\mu \\pm E = \\mu \\pm z_c{s \\over \\sqrt{n}}$, where\n",
    "\n",
    "$ \\mathrm{CI} $ is the confidence interval, <br>\n",
    "$ \\mu $ is the sample mean, <br>\n",
    "$ E $ is the margin of error, <br>\n",
    "$ s $ is the sample standard deviation, <br>\n",
    "$ n $ is the sample size, and <br>\n",
    "$ z_c $ is the z-score from an inverse CDF of a standard normal distribution for probability $p$ where $p$ is $\\alpha$ (the level of confidence).\n"
   ]
  },
  {
   "cell_type": "markdown",
   "metadata": {},
   "source": [
    "Confidence intervals often confuse junior statisticians because a confidence is *not* a probability. \n",
    "\n",
    "We are *not* saying: There is a 95% chance that our confidence interval contains the population mean.\n",
    "We are saying: If an infinite number of experiments were done like ours (collecting samples, then calculating the mean and confidence interval for each) then 95% of the experiments would have confidence intervals that contained the true population mean.\n",
    "\n",
    "The difference comes from a frequentist vs bayesian approach to statistics, where the frequentist approach is based solely on data, while the bayesian approach is based on prior knowledge and updating probabilities as data is gathered.\n",
    "\n",
    "The bayesian approach, called a credible interval, is closer to what we are *not* saying about a confidence interval - that the range we propose has a 95% probability of containing the true population mean - but the calculation (and indeed the entire experiment) is constructed and calculated differently than a confidence interval.\n",
    "\n",
    "Fundamentally:\n",
    "\n",
    "Confidence intervals treat the interval as the random variable, and the population mean as the fixed value, and\n",
    "Credible intervals treat the population mean as the random variable, and the interval as the fixed value"
   ]
  },
  {
   "cell_type": "code",
   "execution_count": 18,
   "metadata": {},
   "outputs": [
    {
     "name": "stdout",
     "output_type": "stream",
     "text": [
      "(63.68635915701992, 65.12964084298008)\n"
     ]
    }
   ],
   "source": [
    "# confidence intervals\n",
    "def critical_z_value(p):\n",
    "    norm_dist = scipy.stats.norm(loc=0.0, scale=1.0)\n",
    "    left_tail_area = (1.0 - p) / 2.0\n",
    "    right_tail_area = 1.0 - ((1.0 - p) / 2.0)\n",
    "    return norm_dist.ppf(left_tail_area), norm_dist.ppf(right_tail_area)\n",
    "\n",
    "def confidence_interval(p, sample_mean, sample_std, n):\n",
    "    lower, upper = critical_z_value(p)\n",
    "    lower_ci = lower * (sample_std / math.sqrt(n))\n",
    "    upper_ci = upper * (sample_std / math.sqrt(n))\n",
    "    return sample_mean + lower_ci, sample_mean + upper_ci\n",
    "\n",
    "print(confidence_interval(p=0.95, sample_mean=64.408, sample_std=2.05, n=31))"
   ]
  },
  {
   "cell_type": "markdown",
   "metadata": {},
   "source": [
    "p-value: probability (or rarer) of something occurring by chance rather than some (hypothesized) explanation.\n",
    "\n",
    "an alpha value (probability) is set before performing the experiment, and should the alpha exceed the p-value, then the result is considered to be *statistically significant*."
   ]
  },
  {
   "cell_type": "markdown",
   "metadata": {},
   "source": [
    "Hypothesis testing: comparing results of an affected group to a population (or control) group. A null hypothesis indicates that there was no change in the affected group, and an alternative hypothesis indicates that there *was* a change in the affected group.\n",
    "\n",
    "In hypothesis tests, it is impossible to confirm the null hypothesis. Indeed, it is impossible to confirm the alternative hypothesis. Rather, if the results prove statistically significant, we *reject* the null hypothesis *in favor of* the alternative hypothesis (the results favor the alternative, which is the closest thing to \"proof\" that we can achieve). If the results *do not* prove statistically significant, we *fail to reject* the null hypothesis (which does not confirm the null hypothesis is true. It *can* mean that the null hypothesis is true, or it *can* mean that we do not have enough evidence in favor of the alternative hypothesis.)"
   ]
  },
  {
   "cell_type": "code",
   "execution_count": 19,
   "metadata": {},
   "outputs": [
    {
     "name": "stdout",
     "output_type": "stream",
     "text": [
      "15.060054023189918\n",
      "20.93994597681008\n",
      "0.95\n"
     ]
    }
   ],
   "source": [
    "# hypothesis testing\n",
    "mean = 18\n",
    "std_dev = 1.5\n",
    "lower = scipy.stats.norm.ppf(0.025, mean, std_dev)\n",
    "upper = scipy.stats.norm.ppf(0.975, mean, std_dev)\n",
    "\n",
    "x = scipy.stats.norm.cdf(upper, mean, std_dev) - \\\n",
    "    scipy.stats.norm.cdf(lower, mean, std_dev)\n",
    "\n",
    "print(lower)\n",
    "print(upper)\n",
    "print(x)"
   ]
  },
  {
   "cell_type": "markdown",
   "metadata": {},
   "source": [
    "One-tailed test: framing hypothesis test in a single direction\n",
    "\n",
    "$H_0: \\mu \\geq \\overline{\\mu}$ <br>\n",
    "$H_1: \\mu < \\overline{\\mu}$, where\n",
    "\n",
    "$H_0$ is the null hypothesis, <br>\n",
    "$H_1$ is the alternative hypothesis, <br>\n",
    "$ \\mu $ is the sample mean, and <br>\n",
    "$ \\overline{\\mu} $ is the population mean"
   ]
  },
  {
   "cell_type": "code",
   "execution_count": 20,
   "metadata": {},
   "outputs": [
    {
     "name": "stdout",
     "output_type": "stream",
     "text": [
      "15.53271955957279\n",
      "0.09121121972586788\n"
     ]
    }
   ],
   "source": [
    "# one tailed\n",
    "x = scipy.stats.norm.ppf(0.05, mean, std_dev)\n",
    "print(x)\n",
    "test_val = 16\n",
    "p_value = scipy.stats.norm.cdf(test_val, mean, std_dev)\n",
    "print(p_value)"
   ]
  },
  {
   "cell_type": "markdown",
   "metadata": {},
   "source": [
    "Two-tailed test: framing hypothesis test in both directions\n",
    "\n",
    "$H_0: \\mu = \\overline{\\mu}$ <br>\n",
    "$H_1: \\mu \\neq \\overline{\\mu}$, where\n",
    "\n",
    "$H_0$ is the null hypothesis, <br>\n",
    "$H_1$ is the alternative hypothesis, <br>\n",
    "$ \\mu $ is the sample mean, and <br>\n",
    "$ \\overline{\\mu} $ is the population mean\n",
    "\n",
    "Two-tailed tests are often favored because they require more decisive results (for alpha 0.95, p-value must be below 0.025 or exceed 0.975 rather than just being below 0.05), and they can also be used to reject the null hypothesis in the opposite direction of expectation (for example, that a drug actually hindered recovery instead of improved it)."
   ]
  },
  {
   "cell_type": "code",
   "execution_count": 21,
   "metadata": {},
   "outputs": [
    {
     "name": "stdout",
     "output_type": "stream",
     "text": [
      "0.18242243945173575\n"
     ]
    }
   ],
   "source": [
    "# two tailed\n",
    "x1 = scipy.stats.norm.ppf(0.025, mean, std_dev)\n",
    "x2 = scipy.stats.norm.ppf(0.975, mean, std_dev)\n",
    "upper_test_val = mean + (abs(mean - test_val))\n",
    "p1 = scipy.stats.norm.cdf(test_val, mean, std_dev)\n",
    "p2 = 1 - scipy.stats.norm.cdf(upper_test_val, mean, std_dev)\n",
    "print(p1 + p2)"
   ]
  },
  {
   "cell_type": "markdown",
   "metadata": {},
   "source": [
    "**Beware of p-hacking!** Do not shop for statistically significant values.\n",
    "\n",
    "This is easy to do with big data, especially in model tuning, where the model stumbles across a strong accuracy/validation score purely by chance."
   ]
  },
  {
   "cell_type": "markdown",
   "metadata": {},
   "source": [
    "T-distribution: like a normal distribution, but has larger tails (greater spread) to reflect more uncertainty\n",
    "\n",
    "The variance in a T-distribution is measured by its degrees of freedom (in this case, $n-1$)"
   ]
  },
  {
   "cell_type": "markdown",
   "metadata": {},
   "source": [
    "critical t-value: like a critical z-value, but has a degrees of freedom parameter to reflect greater uncertainty for sample sizes below 30"
   ]
  },
  {
   "cell_type": "code",
   "execution_count": 22,
   "metadata": {},
   "outputs": [
    {
     "name": "stdout",
     "output_type": "stream",
     "text": [
      "-2.063898561628021 2.0638985616280205\n"
     ]
    }
   ],
   "source": [
    "# T distribution\n",
    "n = 25\n",
    "lower = scipy.stats.t.ppf(0.025, df= n-1)\n",
    "upper = scipy.stats.t.ppf(0.975, df= n-1)\n",
    "print(lower, upper)"
   ]
  },
  {
   "cell_type": "markdown",
   "metadata": {},
   "source": [
    "Texas sharpshooter fallacy: firing a gun at a wall, then drawing a circle around the holes. <br>\n",
    "Observation of an *unpredicted* rare pattern does not have predictive value.\n",
    "\n",
    "To avoid falling victim to big data fallacies:\n",
    "1. Use structured hypothesis tests and gather data for a particular objective\n",
    "2. Obtain fresh data and re-test findings\n",
    "3. Consider possibility that findings are a coincidence"
   ]
  },
  {
   "cell_type": "markdown",
   "metadata": {},
   "source": [
    "Understandability and explainability are the next frontiers in statistics and machine learning!"
   ]
  },
  {
   "cell_type": "code",
   "execution_count": 23,
   "metadata": {},
   "outputs": [
    {
     "name": "stdout",
     "output_type": "stream",
     "text": [
      "1.752\n",
      "0.023874672772626667\n"
     ]
    }
   ],
   "source": [
    "# exercise 1\n",
    "diameters = [1.78, 1.75, 1.72, 1.74, 1.77]\n",
    "mean = sum(diameters) / len(diameters)\n",
    "std_dev = math.sqrt(\n",
    "    sum([(d - mean)**2 for d in diameters])\n",
    "    / (len(diameters)-1)\n",
    ")\n",
    "print(mean)\n",
    "print(std_dev)"
   ]
  },
  {
   "cell_type": "code",
   "execution_count": 24,
   "metadata": {},
   "outputs": [
    {
     "name": "stdout",
     "output_type": "stream",
     "text": [
      "0.0638274380338035\n"
     ]
    }
   ],
   "source": [
    "# exercise 2\n",
    "mean = 42\n",
    "std_dev = 8\n",
    "\n",
    "result = scipy.stats.norm.cdf(30, mean, std_dev) \\\n",
    "    - scipy.stats.norm.cdf(20, mean, std_dev)\n",
    "\n",
    "print(result)"
   ]
  },
  {
   "cell_type": "code",
   "execution_count": 25,
   "metadata": {},
   "outputs": [
    {
     "name": "stdout",
     "output_type": "stream",
     "text": [
      "-2.5758293035489004\n",
      "1.7026658973748656 1.7285101026251342\n"
     ]
    }
   ],
   "source": [
    "# exercise 3\n",
    "n = 34\n",
    "mean = 1.715588\n",
    "std_dev = 0.029252\n",
    "p = 0.99\n",
    "\n",
    "crit_z = scipy.stats.norm(loc=0.0, scale=1.0).ppf((1-p)/2.0)\n",
    "print(crit_z)\n",
    "conf_upper = mean - (crit_z * (std_dev / math.sqrt(n)))\n",
    "conf_lower = mean + (crit_z * (std_dev / math.sqrt(n)))\n",
    "print(conf_lower, conf_upper)"
   ]
  },
  {
   "cell_type": "code",
   "execution_count": 26,
   "metadata": {},
   "outputs": [
    {
     "name": "stdout",
     "output_type": "stream",
     "text": [
      "0.009441667982480695\n",
      "0.018883335964961383\n"
     ]
    }
   ],
   "source": [
    "# exercise 4\n",
    "mu = 10345.0\n",
    "sigma = 552.0\n",
    "n = 45\n",
    "x_bar = 11641.0\n",
    "\n",
    "one_tailed = 1 - scipy.stats.norm.cdf(x_bar, mu, sigma)\n",
    "print(one_tailed)\n",
    "upper_test_val = mu - abs(x_bar - mu)\n",
    "two_tailed = (\n",
    "    one_tailed +\n",
    "    scipy.stats.norm.cdf(upper_test_val, mu, sigma)\n",
    ")\n",
    "print(two_tailed)"
   ]
  }
 ],
 "metadata": {
  "kernelspec": {
   "display_name": "venv",
   "language": "python",
   "name": "python3"
  },
  "language_info": {
   "codemirror_mode": {
    "name": "ipython",
    "version": 3
   },
   "file_extension": ".py",
   "mimetype": "text/x-python",
   "name": "python",
   "nbconvert_exporter": "python",
   "pygments_lexer": "ipython3",
   "version": "3.10.11"
  },
  "orig_nbformat": 4
 },
 "nbformat": 4,
 "nbformat_minor": 2
}
