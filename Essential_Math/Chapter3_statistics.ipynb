{
 "cells": [
  {
   "attachments": {},
   "cell_type": "markdown",
   "metadata": {},
   "source": [
    "## Descriptive and Inferential Statistics"
   ]
  },
  {
   "cell_type": "code",
   "execution_count": 1,
   "metadata": {},
   "outputs": [],
   "source": [
    "import math\n",
    "import numpy as np\n",
    "import scipy\n",
    "import sympy\n",
    "import sklearn\n",
    "import matplotlib.pyplot as plt"
   ]
  },
  {
   "cell_type": "code",
   "execution_count": 2,
   "metadata": {},
   "outputs": [
    {
     "name": "stdout",
     "output_type": "stream",
     "text": [
      "2.875\n"
     ]
    }
   ],
   "source": [
    "# mean\n",
    "sample = [1,3,2,5,7,0,2,3]\n",
    "mean = sum(sample) / len(sample)\n",
    "print(mean)"
   ]
  },
  {
   "cell_type": "code",
   "execution_count": 3,
   "metadata": {},
   "outputs": [
    {
     "name": "stdout",
     "output_type": "stream",
     "text": [
      "81.4\n"
     ]
    }
   ],
   "source": [
    "# weighted mean\n",
    "sample = [90, 80, 63, 87]\n",
    "weights = [.20, .20, .20, .40]\n",
    "weighted_mean = sum(s*w for s,w in zip(sample, weights)) / sum(weights)\n",
    "print(weighted_mean)"
   ]
  },
  {
   "cell_type": "code",
   "execution_count": 4,
   "metadata": {},
   "outputs": [
    {
     "name": "stdout",
     "output_type": "stream",
     "text": [
      "7\n"
     ]
    }
   ],
   "source": [
    "# median\n",
    "sample = [0,1,5,7,9,10,14]\n",
    "def median(values):\n",
    "    ordered = sorted(values)\n",
    "    n = len(ordered)\n",
    "    mid = n//2 if n%2 else n//2-1\n",
    "    if n%2:\n",
    "        return ordered[mid]\n",
    "    else:\n",
    "        return (ordered[mid] + ordered[mid+1]) / 2.0\n",
    "\n",
    "print(median(sample))"
   ]
  },
  {
   "cell_type": "code",
   "execution_count": 5,
   "metadata": {},
   "outputs": [
    {
     "name": "stdout",
     "output_type": "stream",
     "text": [
      "[2, 3]\n"
     ]
    }
   ],
   "source": [
    "# mode (unimodal and multimodal)\n",
    "sample = [1,3,2,5,7,0,2,3]\n",
    "def mode(values):\n",
    "    counts = dict()\n",
    "    for s in values:\n",
    "        counts[s] = counts.get(s, 0)+1\n",
    "    max_count = max(counts.values())\n",
    "    modes = [v for v in set(values) if counts[v] == max_count]\n",
    "    return modes\n",
    "\n",
    "print(mode(sample))"
   ]
  },
  {
   "cell_type": "code",
   "execution_count": 6,
   "metadata": {},
   "outputs": [
    {
     "name": "stdout",
     "output_type": "stream",
     "text": [
      "21.387755102040813\n"
     ]
    }
   ],
   "source": [
    "# variance\n",
    "data = [0,1,5,7,9,10,14]\n",
    "def variance(values):\n",
    "    mean = sum(values) / len(values)\n",
    "    _variance = sum((v-mean)**2 for v in values) / len(values)\n",
    "    return _variance\n",
    "\n",
    "print(variance(data))"
   ]
  },
  {
   "cell_type": "code",
   "execution_count": 7,
   "metadata": {},
   "outputs": [
    {
     "name": "stdout",
     "output_type": "stream",
     "text": [
      "4.624689730353898\n"
     ]
    }
   ],
   "source": [
    "# standard deviation\n",
    "data = [0,1,5,7,9,10,14]\n",
    "def std_dev(values):\n",
    "    return math.sqrt(variance(values))\n",
    "\n",
    "print(std_dev(data))"
   ]
  },
  {
   "cell_type": "code",
   "execution_count": 8,
   "metadata": {},
   "outputs": [
    {
     "name": "stdout",
     "output_type": "stream",
     "text": [
      "VARIANCE = 24.95238095238095\n",
      "STD DEV = 4.99523582550223\n"
     ]
    }
   ],
   "source": [
    "# variance and standard deviation for a sample\n",
    "def variance(values, is_sample: bool = False):\n",
    "    mean = sum(values) / len(values)\n",
    "    _variance = (\n",
    "        sum((v-mean)**2 for v in values) /\n",
    "        (len(values) - (1 if is_sample else 0))\n",
    "    )\n",
    "\n",
    "    return _variance\n",
    "\n",
    "def std_dev(values, is_sample: bool = False):\n",
    "    return math.sqrt(variance(values, is_sample))\n",
    "\n",
    "print(f\"VARIANCE = {variance(data, is_sample=True)}\")\n",
    "print(f\"STD DEV = {std_dev(data, is_sample=True)}\")"
   ]
  },
  {
   "cell_type": "code",
   "execution_count": null,
   "metadata": {},
   "outputs": [],
   "source": []
  }
 ],
 "metadata": {
  "kernelspec": {
   "display_name": "venv",
   "language": "python",
   "name": "python3"
  },
  "language_info": {
   "codemirror_mode": {
    "name": "ipython",
    "version": 3
   },
   "file_extension": ".py",
   "mimetype": "text/x-python",
   "name": "python",
   "nbconvert_exporter": "python",
   "pygments_lexer": "ipython3",
   "version": "3.10.11"
  },
  "orig_nbformat": 4
 },
 "nbformat": 4,
 "nbformat_minor": 2
}
