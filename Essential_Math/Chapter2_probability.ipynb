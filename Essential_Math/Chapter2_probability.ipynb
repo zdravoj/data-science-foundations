{
 "cells": [
  {
   "attachments": {},
   "cell_type": "markdown",
   "metadata": {},
   "source": [
    "## Probability"
   ]
  },
  {
   "cell_type": "code",
   "execution_count": 1,
   "metadata": {},
   "outputs": [],
   "source": [
    "import math\n",
    "import numpy as np\n",
    "import scipy\n",
    "import sympy\n",
    "import sklearn\n",
    "import matplotlib.pyplot as plt"
   ]
  },
  {
   "cell_type": "markdown",
   "metadata": {},
   "source": [
    "probability: strength of belief that an event (event A) will happen, or <br>\n",
    "quantifying predictions of events yet to happen\n",
    "\n",
    "likelihood: frequency of events (previous event A's) that have already occurred\n",
    "\n",
    "Statistics and machine learning often use likelihood (the past) to predict probability (the future)."
   ]
  },
  {
   "cell_type": "code",
   "execution_count": 2,
   "metadata": {},
   "outputs": [
    {
     "name": "stdout",
     "output_type": "stream",
     "text": [
      "0.7\n",
      "0.3\n"
     ]
    }
   ],
   "source": [
    "# Probabilities must sum to 1\n",
    "P_x = 0.7\n",
    "P_not_x = 1 - P_x\n",
    "print(P_x)\n",
    "print(round(P_not_x, 1))"
   ]
  },
  {
   "cell_type": "code",
   "execution_count": 3,
   "metadata": {},
   "outputs": [
    {
     "name": "stdout",
     "output_type": "stream",
     "text": [
      "7:3\n",
      "7/3\n",
      "2.33333333333333\n"
     ]
    }
   ],
   "source": [
    "# odds (ratio)\n",
    "print(\"7:3\")\n",
    "odds = sympy.Rational(7, 3)\n",
    "print(odds)\n",
    "odds = odds.evalf()\n",
    "print(odds)"
   ]
  },
  {
   "cell_type": "code",
   "execution_count": 4,
   "metadata": {},
   "outputs": [
    {
     "name": "stdout",
     "output_type": "stream",
     "text": [
      "0.7\n",
      "7/10\n"
     ]
    }
   ],
   "source": [
    "# convert odds to probability\n",
    "P_x = odds / (1 + odds)\n",
    "print(round(P_x, 1))\n",
    "P_x = sympy.Rational(P_x).limit_denominator(100)\n",
    "print(P_x)"
   ]
  },
  {
   "cell_type": "code",
   "execution_count": 5,
   "metadata": {},
   "outputs": [
    {
     "name": "stdout",
     "output_type": "stream",
     "text": [
      "7/3\n",
      "2.33333333333333\n"
     ]
    }
   ],
   "source": [
    "# convert probability to odds\n",
    "O_x = P_x / (1 - P_x)\n",
    "print(O_x)\n",
    "O_x = O_x.evalf()\n",
    "print(O_x)"
   ]
  },
  {
   "cell_type": "markdown",
   "metadata": {},
   "source": [
    "Probability is theoretical and does not require data.\n",
    "\n",
    "Statistics is practical and data is the foundation."
   ]
  },
  {
   "cell_type": "code",
   "execution_count": 6,
   "metadata": {},
   "outputs": [
    {
     "name": "stdout",
     "output_type": "stream",
     "text": [
      "1/2\n",
      "1/6\n",
      "1/12\n"
     ]
    }
   ],
   "source": [
    "# joint probabilities\n",
    "P_heads = sympy.Rational(1, 2)\n",
    "P_4 = sympy.Rational(1, 6)\n",
    "P_heads_and_4 = P_heads * P_4\n",
    "print(P_heads)\n",
    "print(P_4)\n",
    "print(P_heads_and_4)"
   ]
  },
  {
   "cell_type": "code",
   "execution_count": 7,
   "metadata": {},
   "outputs": [
    {
     "name": "stdout",
     "output_type": "stream",
     "text": [
      "1/6\n",
      "1/6\n",
      "1/3\n"
     ]
    }
   ],
   "source": [
    "# union probabilities, mutually exclusive\n",
    "P_4 = sympy.Rational(1, 6)\n",
    "P_6 = sympy.Rational(1, 6)\n",
    "P_4_or_6 = P_4 + P_6\n",
    "print(P_4)\n",
    "print(P_6)\n",
    "print(P_4_or_6)"
   ]
  },
  {
   "cell_type": "code",
   "execution_count": 8,
   "metadata": {},
   "outputs": [
    {
     "name": "stdout",
     "output_type": "stream",
     "text": [
      "4/3\n",
      "Probability greater than 100%? --> True\n"
     ]
    }
   ],
   "source": [
    "# union probabilities, nonmutually exclusive, double counting outcomes\n",
    "P_1_through_5 = sympy.Rational(5, 6)\n",
    "P_heads_or_1thru5 = P_heads + P_1_through_5\n",
    "print(P_heads_or_1thru5)\n",
    "print('Probability greater than 100%? -->', P_heads_or_1thru5 > 1.0)"
   ]
  },
  {
   "cell_type": "code",
   "execution_count": 9,
   "metadata": {},
   "outputs": [
    {
     "name": "stdout",
     "output_type": "stream",
     "text": [
      "1/2\n",
      "1/6\n",
      "1/12\n",
      "7/12\n"
     ]
    }
   ],
   "source": [
    "# union probability, nonmutually exclusive\n",
    "P_heads_or_4 = P_heads + P_4 - (P_heads * P_4)\n",
    "print(P_heads)\n",
    "print(P_4)\n",
    "print(P_heads * P_4)\n",
    "print(P_heads_or_4)"
   ]
  },
  {
   "cell_type": "code",
   "execution_count": 10,
   "metadata": {},
   "outputs": [
    {
     "name": "stdout",
     "output_type": "stream",
     "text": [
      "P(A|B) = P(B|A) * P(A) / P(B)\n",
      "0.006538461538461539\n"
     ]
    }
   ],
   "source": [
    "# conditional probability,\n",
    "# bayes theorem,\n",
    "# and using bayes theorem to flip conditional probabilities\n",
    "p_coffee_drinker = 0.65\n",
    "p_cancer = 0.005\n",
    "p_coffee_drinker_given_cancer = 0.85\n",
    "print('P(A|B) = P(B|A) * P(A) / P(B)')\n",
    "p_cancer_given_coffee_drinker = (\n",
    "    p_coffee_drinker_given_cancer * p_cancer\n",
    "    / p_coffee_drinker\n",
    ")\n",
    "print(p_cancer_given_coffee_drinker)"
   ]
  },
  {
   "cell_type": "markdown",
   "metadata": {},
   "source": [
    "Clearly define thresholds (qualifications for data) in experiments!\n",
    "\n",
    "1st ever drink this morning = coffee drinker <br>\n",
    "5 cups a day for 10 years = coffee drinker"
   ]
  },
  {
   "cell_type": "code",
   "execution_count": 11,
   "metadata": {},
   "outputs": [
    {
     "name": "stdout",
     "output_type": "stream",
     "text": [
      "P(A AND B) = P(A|B) * P(B)\n",
      "P(A AND B) = P(B|A) * P(A)\n",
      "For P(coffee drinker AND cancer):\n",
      "If no conditional probabilities exist: 0.0032500000000000003\n",
      "If exists P(coffee|cancer) and P(cancer): 0.00425\n",
      "If exists P(cancer|coffee) and P(coffee): 0.00425\n"
     ]
    }
   ],
   "source": [
    "# joint conditional probability\n",
    "no_conditional_probs = p_coffee_drinker * p_cancer\n",
    "have_conditonal_probs = p_coffee_drinker_given_cancer * p_cancer\n",
    "have_conditonal_probs2 = p_cancer_given_coffee_drinker * p_coffee_drinker\n",
    "print('P(A AND B) = P(A|B) * P(B)')\n",
    "print('P(A AND B) = P(B|A) * P(A)')\n",
    "print('For P(coffee drinker AND cancer):')\n",
    "print('If no conditional probabilities exist:', no_conditional_probs)\n",
    "print('If exists P(coffee|cancer) and P(cancer):', have_conditonal_probs)\n",
    "print('If exists P(cancer|coffee) and P(coffee):', have_conditonal_probs2)"
   ]
  },
  {
   "cell_type": "code",
   "execution_count": 12,
   "metadata": {},
   "outputs": [
    {
     "name": "stdout",
     "output_type": "stream",
     "text": [
      "P(A OR B) = P(A) + P(B) - P(A AND B)\n",
      "P(A OR B) = P(A) + P(B) - (P(A|B) * P(B))\n",
      "P(A OR B) = P(A) + P(B) - (P(B|A) * P(A))\n",
      "0.65075\n"
     ]
    }
   ],
   "source": [
    "# union conditional probability\n",
    "print('P(A OR B) = P(A) + P(B) - P(A AND B)')\n",
    "print('P(A OR B) = P(A) + P(B) - (P(A|B) * P(B))')\n",
    "print('P(A OR B) = P(A) + P(B) - (P(B|A) * P(A))')\n",
    "p_coffee_drinker_or_cancer = (\n",
    "    p_coffee_drinker + p_cancer\n",
    "    - (p_coffee_drinker_given_cancer * p_cancer)\n",
    ")\n",
    "print(p_coffee_drinker_or_cancer)"
   ]
  },
  {
   "cell_type": "markdown",
   "metadata": {},
   "source": [
    "Binomial distribution: # success outcomes $k$ given success probability $p$ in # of trials $n$\n",
    "\n",
    "Beta distribution: success probability $p$ given # success outcomes $k$ and # trials $n$"
   ]
  },
  {
   "cell_type": "code",
   "execution_count": 13,
   "metadata": {},
   "outputs": [
    {
     "data": {
      "image/png": "[encoded data removed]",
      "text/plain": [
       "<Figure size 640x480 with 1 Axes>"
      ]
     },
     "metadata": {},
     "output_type": "display_data"
    },
    {
     "name": "stdout",
     "output_type": "stream",
     "text": [
      "Probability of 8 successes (or less) is:\n",
      "0.26390107089999976\n"
     ]
    }
   ],
   "source": [
    "# binomial distribution\n",
    "# counting k successes in n trials given p probability\n",
    "n = 10 # trials\n",
    "k = 8 # successes\n",
    "p = 0.9 # probability of success\n",
    "probabilities = [scipy.stats.binom.pmf(k, n, p) for k in range(n+1)]\n",
    "plt.bar(x= [i for i in range(n+1)], height= probabilities)\n",
    "plt.xlabel('k successes out of 10')\n",
    "plt.ylabel('probability')\n",
    "plt.title('Binomial Distribution of k/10 successes given 90% success rate')\n",
    "plt.show()\n",
    "\n",
    "print('Probability of 8 successes (or less) is:')\n",
    "print(sum(probabilities[:9]))"
   ]
  },
  {
   "cell_type": "markdown",
   "metadata": {},
   "source": [
    "Binomial coefficient = \"n choose k\" = \"out of n items, choose subset of size k\"\n",
    "\n",
    "$ \\left(\\begin{array}{c}n\\\\k\\end{array}\\right) = {n! \\over k!(n-k)!}$"
   ]
  },
  {
   "cell_type": "markdown",
   "metadata": {},
   "source": [
    "Binomial distribution: $ (\\begin{array}{c}n\\\\k\\end{array})p^{k}(1-p)^{n-k}$"
   ]
  },
  {
   "cell_type": "code",
   "execution_count": 14,
   "metadata": {},
   "outputs": [
    {
     "data": {
      "image/png": "[encoded data removed]",
      "text/plain": [
       "<Figure size 640x480 with 1 Axes>"
      ]
     },
     "metadata": {},
     "output_type": "display_data"
    },
    {
     "name": "stdout",
     "output_type": "stream",
     "text": [
      "Given an underlying probability of 90%, the probability of having at least 8 successes is:\n",
      "0.7748409780000002\n",
      "Given 8 out of 10 successes, the chance of probability of success being 90% or more is:\n",
      "0.22515902199999982\n"
     ]
    }
   ],
   "source": [
    "# beta distribution\n",
    "# probability distribution of probabilities given k/n successes\n",
    "a = 8 # successes\n",
    "b = 2 # failures\n",
    "\n",
    "x = np.linspace(\n",
    "    scipy.stats.beta.ppf(0.001, a, b),\n",
    "    scipy.stats.beta.ppf(0.999, a, b),\n",
    "    1000\n",
    ")\n",
    "plt.plot(x, scipy.stats.beta.pdf(x, a, b))\n",
    "plt.show()\n",
    "\n",
    "print('Given an underlying probability of 90%, the probability of having at least 8 successes is:')\n",
    "p_le8 = scipy.stats.beta.cdf(0.9, a, b)\n",
    "print(p_le8)\n",
    "print('Given 8 out of 10 successes, the chance of probability of success being 90% or more is:')\n",
    "p_ge9 = 1 - scipy.stats.beta.cdf(0.9, a, b)\n",
    "print(p_ge9)"
   ]
  },
  {
   "cell_type": "markdown",
   "metadata": {},
   "source": [
    "Beta distribution cannot evaluate for one probability, but rather a range of probabilities"
   ]
  },
  {
   "cell_type": "markdown",
   "metadata": {},
   "source": [
    "$ \\int\\limits_\\beta^\\alpha \\frac{p^{a-1}(1-p)^{b-1}(a+b-1)!}{(a-1)!(b-1)!}\\mathrm{d}p $, where\n",
    "\n",
    "$\\alpha$ = upper bound probability, <br>\n",
    "$\\beta$ = lower bound probability, <br>\n",
    "$a$ = observed successes, and <br>\n",
    "$b$ = observed failures"
   ]
  },
  {
   "cell_type": "code",
   "execution_count": 15,
   "metadata": {},
   "outputs": [
    {
     "name": "stdout",
     "output_type": "stream",
     "text": [
      "0.12\n"
     ]
    }
   ],
   "source": [
    "# exercise 1\n",
    "rain = 0.3 # probability of rain\n",
    "umbrella = 0.4 # probability that umbrella arrives on time\n",
    "rain_and_umbrella = rain * umbrella # P(rain AND umbrella)\n",
    "print(rain_and_umbrella)"
   ]
  },
  {
   "cell_type": "code",
   "execution_count": 16,
   "metadata": {},
   "outputs": [
    {
     "name": "stdout",
     "output_type": "stream",
     "text": [
      "0.58\n",
      "0.8200000000000001\n"
     ]
    }
   ],
   "source": [
    "# exercise 2\n",
    "rain_or_umbrella = rain + umbrella - rain_and_umbrella # P(rain OR umbrella)\n",
    "print(rain_or_umbrella)\n",
    "# INCORRECT (misunderstood prompt)\n",
    "\n",
    "no_rain_and_umbrella = (1-rain) * umbrella\n",
    "no_rain_or_umbrella = (1-rain) + umbrella - no_rain_and_umbrella\n",
    "print(no_rain_or_umbrella)"
   ]
  },
  {
   "cell_type": "code",
   "execution_count": 17,
   "metadata": {},
   "outputs": [
    {
     "name": "stdout",
     "output_type": "stream",
     "text": [
      "0.06\n"
     ]
    }
   ],
   "source": [
    "# exercise 3\n",
    "umbrella_given_rain = 0.2 # P(umbrella|rain)\n",
    "# P(rain AND umbrella) = P(umbrella|rain) * P(rain)\n",
    "rain_and_umbrella = umbrella_given_rain * rain\n",
    "print(rain_and_umbrella)"
   ]
  },
  {
   "cell_type": "code",
   "execution_count": 18,
   "metadata": {},
   "outputs": [
    {
     "name": "stdout",
     "output_type": "stream",
     "text": [
      "0.8220955881474251\n",
      "0.8220955881474242\n"
     ]
    }
   ],
   "source": [
    "# exercise 4\n",
    "n = 137 # passengers (trials)\n",
    "k = 50 # no-shows (successes)\n",
    "p = 0.4 # no-show estimate (probability)\n",
    "\n",
    "gt50 = 0.0 # probability of >=50 passengers not showing up\n",
    "\n",
    "for i in range(n+1):\n",
    "    if i >= k:\n",
    "        probability = scipy.stats.binom.pmf(i, n, p)\n",
    "        gt50 += probability\n",
    "\n",
    "print(gt50) # add individual probabilities\n",
    "\n",
    "cdf = scipy.stats.binom.cdf(k-1, n, p)\n",
    "\n",
    "print(1-cdf) # using cumulative distribution function"
   ]
  },
  {
   "cell_type": "code",
   "execution_count": 19,
   "metadata": {},
   "outputs": [
    {
     "name": "stdout",
     "output_type": "stream",
     "text": [
      "0.0037689208984375\n",
      "This is highly unlikely to be a fair coin.\n"
     ]
    }
   ],
   "source": [
    "# exercise 5\n",
    "n = 19 # coin flips (trials)\n",
    "a = 15 # heads (successes)\n",
    "b = 4 # tails (failures)\n",
    "p = 0.5 # fair coin probability\n",
    "\n",
    "p_fair_coin = scipy.stats.beta.cdf(p, a, b)\n",
    "\n",
    "print(p_fair_coin)\n",
    "print('This is highly unlikely to be a fair coin.')"
   ]
  }
 ],
 "metadata": {
  "kernelspec": {
   "display_name": "venv",
   "language": "python",
   "name": "python3"
  },
  "language_info": {
   "codemirror_mode": {
    "name": "ipython",
    "version": 3
   },
   "file_extension": ".py",
   "mimetype": "text/x-python",
   "name": "python",
   "nbconvert_exporter": "python",
   "pygments_lexer": "ipython3",
   "version": "3.10.11"
  },
  "orig_nbformat": 4
 },
 "nbformat": 4,
 "nbformat_minor": 2
}
