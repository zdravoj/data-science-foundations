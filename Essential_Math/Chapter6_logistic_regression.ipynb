{
 "cells": [
  {
   "cell_type": "markdown",
   "metadata": {},
   "source": [
    "# Logistic Regression and Classification"
   ]
  },
  {
   "cell_type": "code",
   "execution_count": 1,
   "metadata": {},
   "outputs": [],
   "source": [
    "import math\n",
    "import random\n",
    "import numpy as np\n",
    "import pandas as pd\n",
    "from scipy.stats import chi2\n",
    "import sympy\n",
    "from sklearn.linear_model import LogisticRegression\n",
    "from sklearn.model_selection import KFold, cross_val_score\n",
    "from sklearn.model_selection import train_test_split\n",
    "from sklearn.metrics import confusion_matrix\n",
    "from sklearn.metrics import ConfusionMatrixDisplay\n",
    "from sklearn.metrics import RocCurveDisplay\n",
    "import matplotlib.pyplot as plt\n",
    "import seaborn as sns"
   ]
  },
  {
   "cell_type": "markdown",
   "metadata": {},
   "source": [
    "Logistic regression: predicts probability of an outcome given 1+ variables\n",
    "\n",
    "Logistic regression is:\n",
    "- trained on a discrete output variable (boolean or integer)\n",
    "- resilient against outliers and other data challenges\n",
    "- outputs a continuous value which can be convertd into a discrete value\n",
    "- results in a curve indicating probability of an outcome\n",
    "\n",
    "Classification: predicting categories <br>\n",
    "logistic regression can be used for classification tasks by assigning a threshold to the logistic regression to predict belonging to a category (a probability below the threshold is classified as 0, above classified as 1)"
   ]
  },
  {
   "cell_type": "markdown",
   "metadata": {},
   "source": [
    "A logistic regression uses the logistic function\n",
    "\n",
    "Logistic function: sigmoid curve that produces an output between 0 and 1, for 1+ variables\n",
    "\n",
    "The logistic function for outputting a probability $y$ for one input variable $x$:\n",
    "\n",
    "$ y = \\frac{1}{1 + e^{-(\\beta_0 + \\beta_1 x)}} = \\frac{e^{\\beta_0 + \\beta_1 x}}{1 + e^{\\beta_0 + \\beta_1 x}}$"
   ]
  },
  {
   "cell_type": "markdown",
   "metadata": {},
   "source": [
    "$ \\beta_0 + \\beta_1 x $ is called a log-odds function"
   ]
  },
  {
   "cell_type": "code",
   "execution_count": 2,
   "metadata": {},
   "outputs": [
    {
     "name": "stdout",
     "output_type": "stream",
     "text": [
      "1.0/(1.0 + 16.8272567955368*exp(-0.62*x))\n"
     ]
    },
    {
     "data": {
      "image/png": "[encoded data removed]",
      "text/plain": [
       "<Figure size 640x480 with 1 Axes>"
      ]
     },
     "metadata": {},
     "output_type": "display_data"
    }
   ],
   "source": [
    "# plot logistic function\n",
    "\n",
    "# define variables\n",
    "b0, b1, x = sympy.symbols('b0 b1 x')\n",
    "# define equation\n",
    "p = 1.0 / (1.0 + sympy.exp(-(b0 + b1 * x)))\n",
    "# substitute values\n",
    "p = p.subs(b0, -2.823)\n",
    "p = p.subs(b1, 0.620)\n",
    "# display function\n",
    "print(p)\n",
    "sympy.plot(p);"
   ]
  },
  {
   "cell_type": "markdown",
   "metadata": {},
   "source": [
    "Fitting a model requires an objective function. For logistic regression, that is a *maximum likelihood estimation*.\n",
    "\n",
    "Maximum likelihood estimation (MLE): function maximizing likelihood that a given logistic curve would output the observed data"
   ]
  },
  {
   "cell_type": "code",
   "execution_count": 3,
   "metadata": {},
   "outputs": [
    {
     "name": "stdout",
     "output_type": "stream",
     "text": [
      "[0.69267212]\n",
      "[-3.17576395]\n"
     ]
    }
   ],
   "source": [
    "# fitting logistic regression from sklearn\n",
    "url = 'https://bit.ly/33ebs2R'\n",
    "\n",
    "# load data and extract input and output variables\n",
    "patient_data = pd.read_csv(url)\n",
    "X = patient_data.values[:, :-1]\n",
    "y = patient_data.values[:, -1]\n",
    "\n",
    "# fit logistic regression\n",
    "model = LogisticRegression(penalty= None)\n",
    "model.fit(X, y)\n",
    "\n",
    "# print coefficients\n",
    "print(model.coef_.flatten())\n",
    "print(model.intercept_.flatten())"
   ]
  },
  {
   "cell_type": "markdown",
   "metadata": {},
   "source": [
    "apply gradient descent (GD) or SGD or mini-batch GD to solve MLE"
   ]
  },
  {
   "cell_type": "markdown",
   "metadata": {},
   "source": [
    "Joint likelihood: likelihood of seeing all data points (or sample) for a given logistic regression curve.\n",
    "\n",
    "$ \\displaystyle\\prod_{i=1}^{n} (\\frac{1}{1 + e^{-(\\beta_0 + \\beta_1 x_i)}})^{y_i} * (\\frac{1}{1 + e^{-(\\beta_0 + \\beta_1 x_i)}})^{1-y_i} $, where\n",
    "\n",
    "$x_i$ is the data point input, and <br>\n",
    "$y_i$ is the discrete output prediction (as a 1 or 0)"
   ]
  },
  {
   "cell_type": "code",
   "execution_count": 4,
   "metadata": {},
   "outputs": [
    {
     "name": "stdout",
     "output_type": "stream",
     "text": [
      "4.791118022168743e-05\n"
     ]
    }
   ],
   "source": [
    "# calculate joint likelihood for fitted data\n",
    "\n",
    "# get data and model\n",
    "patient_data_iter = patient_data.itertuples()\n",
    "b1 = model.coef_.flatten()[0]\n",
    "b0 = model.intercept_.flatten()[0]\n",
    "\n",
    "def logistic_function(x):\n",
    "    p = 1.0 / (1.0 + math.exp(-(b0 + b1 * x)))\n",
    "    return p\n",
    "\n",
    "# calculate joint likelihood\n",
    "joint_likelihood = 1.0\n",
    "for p in patient_data_iter:\n",
    "    if p.y == 1.0:\n",
    "        joint_likelihood *= logistic_function(p.x)\n",
    "    elif p.y == 0.0:\n",
    "        joint_likelihood *= (1.0 - logistic_function(p.x))\n",
    "\n",
    "print(joint_likelihood)"
   ]
  },
  {
   "cell_type": "markdown",
   "metadata": {},
   "source": [
    "When a lot of mathematical calculation is done with computers, especially with very small numbers such as those from joint likelihood products, it is possible to experience *floating point underflow*.\n",
    "\n",
    "Floating point underflow: when computer limits on floating point numbers affect numerical accuracy\n",
    "\n",
    "to solve this problem for joint likelihood, take the log of the decimals, add them together, then raise the number back to the exponent of $e$ to convert back to joint likelihood. This form of calculation is more numerically stable."
   ]
  },
  {
   "cell_type": "markdown",
   "metadata": {},
   "source": [
    "joint likelihood = $ \\displaystyle\\sum_{i=1}^{n} log((\\frac{1}{1 + e^{-(\\beta_0 + \\beta_1 x_i)}})^{y_i} * (\\frac{1}{1 + e^{-(\\beta_0 + \\beta_1 x_i)}})^{1-y_i}) $"
   ]
  },
  {
   "cell_type": "code",
   "execution_count": 5,
   "metadata": {},
   "outputs": [
    {
     "name": "stdout",
     "output_type": "stream",
     "text": [
      "4.791118022168748e-05\n"
     ]
    }
   ],
   "source": [
    "# calculate joint likelihood using logs\n",
    "\n",
    "joint_likelihood = 0.0\n",
    "patient_data_iter = patient_data.itertuples()\n",
    "for p in patient_data_iter:\n",
    "    joint_likelihood += math.log(\n",
    "        logistic_function(p.x) ** p.y * \\\n",
    "        (1.0 - logistic_function(p.x)) ** (1.0 - p.y))\n",
    "joint_likelihood = math.exp(joint_likelihood)\n",
    "print(joint_likelihood)"
   ]
  },
  {
   "cell_type": "code",
   "execution_count": 6,
   "metadata": {},
   "outputs": [
    {
     "name": "stdout",
     "output_type": "stream",
     "text": [
      "0.6926693075370812 -3.175751550409821\n"
     ]
    }
   ],
   "source": [
    "# use gradient descent for logistic regression\n",
    "\n",
    "# get data\n",
    "url = 'https://tinyurl.com/y2cocoo7'\n",
    "points = list(pd.read_csv(url).itertuples())\n",
    "\n",
    "# define variables\n",
    "b1, b0, i, n = sympy.symbols('b1 b0 i n')\n",
    "x, y = sympy.symbols('x y', cls=sympy.Function)\n",
    "\n",
    "# calculate joint likelihood\n",
    "joint_likelihood = sympy.Sum(sympy.log(\n",
    "    (\n",
    "        1.0 / \\\n",
    "        (1.0 + sympy.exp(-(b0 + b1 * x(i))))\n",
    "    ) ** y(i) \\\n",
    "    * \\\n",
    "    (\n",
    "        1.0 - \\\n",
    "        (\n",
    "            1.0 / \\\n",
    "            (1.0 + sympy.exp(-(b0 + b1 * x(i))))\n",
    "        )\n",
    "    ) ** (1 - y(i))\n",
    "), (i, 0, n))\n",
    "\n",
    "# calculate partial derivatives\n",
    "d_b1 = sympy.diff(joint_likelihood, b1) \\\n",
    "    .subs(n, len(points) - 1).doit() \\\n",
    "    .replace(x, lambda i: points[i].x) \\\n",
    "    .replace(y, lambda i: points[i].y)\n",
    "d_b0 = sympy.diff(joint_likelihood, b0) \\\n",
    "    .subs(n, len(points) - 1).doit() \\\n",
    "    .replace(x, lambda i: points[i].x) \\\n",
    "    .replace(y, lambda i: points[i].y)\n",
    "#lambdify for faster computation\n",
    "d_b1 = sympy.lambdify([b1, b0], d_b1)\n",
    "d_b0 = sympy.lambdify([b1, b0], d_b0)\n",
    "\n",
    "# initialize parameters\n",
    "b1 = 0.01\n",
    "b0 = 0.01\n",
    "L = 0.01\n",
    "\n",
    "# perform gradient descent\n",
    "for j in range(10_000):\n",
    "    b1 += d_b1(b1, b0) * L\n",
    "    b0 += d_b0(b1, b0) * L\n",
    "\n",
    "print(b1, b0)"
   ]
  },
  {
   "cell_type": "markdown",
   "metadata": {},
   "source": [
    "**DO NOT MAKE HAPHAZARD PREDICTIONS ON PEOPLE DATA**\n",
    "\n",
    "seemingly benign variables can correlate with discriminatory variables"
   ]
  },
  {
   "cell_type": "markdown",
   "metadata": {},
   "source": [
    "A good way to understand inputs is to understand outputs (what are the predictions being used for?)"
   ]
  },
  {
   "cell_type": "code",
   "execution_count": 7,
   "metadata": {},
   "outputs": [
    {
     "name": "stdout",
     "output_type": "stream",
     "text": [
      "0.7271606550610753\n",
      "A patient is 2.665 times more likely to show symptoms than not show symptoms after 6 hours of exposure.\n"
     ]
    }
   ],
   "source": [
    "# odds perspective calculation from logistic regression\n",
    "\n",
    "hours_of_exposure = 6.0\n",
    "\n",
    "def logistic_function(b0, b1, x):\n",
    "    p = 1.0 / (1.0 + math.exp(-(b0 + b1 * x)))\n",
    "    return p\n",
    "\n",
    "p = logistic_function(b0, b1, hours_of_exposure)\n",
    "print(p)\n",
    "\n",
    "def odds(p):\n",
    "    return p / (1-p)\n",
    "\n",
    "odds_ = odds(p)\n",
    "\n",
    "print(f'A patient is {round(odds_, 3)} times more likely to show symptoms than not show symptoms after {int(hours_of_exposure)} hours of exposure.')"
   ]
  },
  {
   "cell_type": "markdown",
   "metadata": {},
   "source": [
    "Wrapping the odds function in log yeilds the logit function.\n",
    "\n",
    "$ log({\\frac{p}{1-p}}) $"
   ]
  },
  {
   "cell_type": "code",
   "execution_count": 8,
   "metadata": {},
   "outputs": [
    {
     "name": "stdout",
     "output_type": "stream",
     "text": [
      "0.9802642948126671\n"
     ]
    }
   ],
   "source": [
    "# get logit\n",
    "logit = math.log(odds_)\n",
    "print(logit)"
   ]
  },
  {
   "cell_type": "markdown",
   "metadata": {},
   "source": [
    "The logit function yields the same answer as the log-odds function.\n",
    "\n",
    "$ log(\\frac{p}{1-p}) = \\beta_0 + \\beta_1 x $"
   ]
  },
  {
   "cell_type": "code",
   "execution_count": 9,
   "metadata": {},
   "outputs": [
    {
     "name": "stdout",
     "output_type": "stream",
     "text": [
      "0.9802642948126667\n",
      "True\n"
     ]
    }
   ],
   "source": [
    "# get log-odds and show equality to logit\n",
    "logodds = b0 + b1 * hours_of_exposure\n",
    "print(logodds)\n",
    "print(round(logit, 5) == round(logodds, 5))"
   ]
  },
  {
   "cell_type": "markdown",
   "metadata": {},
   "source": [
    "logarithms rescale odds so they are linear, making them easier to compare\n",
    "\n",
    "odds ratios can compare effects of one x-value to another\n",
    "\n",
    "$ O_a = \\frac{p_a}{1 - p_a} $\n",
    "\n",
    "$ O_b = \\frac{p_b}{1 - p_b} $\n",
    "\n",
    "odds ratio = $ {O_a \\over O_b} $\n",
    "\n",
    "where $a$ is (odds ratio) times more likely to happen than $b$."
   ]
  },
  {
   "cell_type": "markdown",
   "metadata": {},
   "source": [
    "McFadden's Pseudo R-squared: Closely mimics the $R^2$ used in linear regression, but for logistic regression\n",
    "\n",
    "$ \\frac{\\text{log likelihood} - \\text{log likelihood fit}}{\\text{log likelihood}} $, where\n",
    "\n",
    "log likelihood = $ \\frac{\\sum y_i}{n} * y_i + (1- \\frac{\\sum y_i}{n}) * (1-y_i) $, and\n",
    "\n",
    "log likelihood fit = $ \\displaystyle\\sum_{i=1}^{n} log(f(x_i))*y_i + log(1 - f(x_i)) * (1-y_i) $, where\n",
    "\n",
    "$y_i$ is the true output value and\n",
    "\n",
    "$f(x_i)$ is the logistic function."
   ]
  },
  {
   "cell_type": "markdown",
   "metadata": {},
   "source": [
    "There is no concensus on the best way to calculate $R^2$ on a logistic regression."
   ]
  },
  {
   "cell_type": "code",
   "execution_count": 10,
   "metadata": {},
   "outputs": [
    {
     "name": "stdout",
     "output_type": "stream",
     "text": [
      "0.306456105756576\n"
     ]
    }
   ],
   "source": [
    "# calculate R^2 for logistic regression\n",
    "patient_data = list(patient_data.itertuples())\n",
    "\n",
    "b0 = -3.17576395\n",
    "b1 = 0.69267212\n",
    "\n",
    "def logistic_function(x):\n",
    "    p = 1.0 / (1.0 + (math.exp(-(b0 + b1 * x))))\n",
    "    return p\n",
    "\n",
    "likelihood = sum(p.y for p in patient_data) / len(patient_data)\n",
    "\n",
    "log_likelihood = sum(math.log(likelihood) * p.y + math.log(1.0 - likelihood) * (1.0 - p.y) \\\n",
    "                     for p in patient_data)\n",
    "\n",
    "log_likelihood_fit = sum(math.log(logistic_function(p.x)) * p.y + \\\n",
    "                        math.log(1.0 - logistic_function(p.x)) * (1.0 - p.y)\n",
    "                        for p in patient_data)\n",
    "\n",
    "r2 = (log_likelihood - log_likelihood_fit) / log_likelihood\n",
    "\n",
    "print(r2)\n"
   ]
  },
  {
   "cell_type": "markdown",
   "metadata": {},
   "source": [
    "Like in linear regression, a strong R^2 value does not necessarily indicate an actual relationship. We need a p-value to determine if the relationship is valid."
   ]
  },
  {
   "cell_type": "markdown",
   "metadata": {},
   "source": [
    "p-value = $\\chi^{2}_{n-1}(2 * \\text{log likelihood fit} - \\text{log likelihood})$, where\n",
    "\n",
    "$\\chi^{2}_{n-1}$ is the $\\chi^2$ distribution with $n-1$ degrees of freedom"
   ]
  },
  {
   "cell_type": "code",
   "execution_count": 11,
   "metadata": {},
   "outputs": [
    {
     "name": "stdout",
     "output_type": "stream",
     "text": [
      "0.0016604875618753787\n"
     ]
    }
   ],
   "source": [
    "# calculate p-value for logistic regression\n",
    "b0 = -3.17576395\n",
    "b1 = 0.69267212\n",
    "\n",
    "def logistic_function(x):\n",
    "    p = 1.0 / (1.0 + (math.exp(-(b0 + b1 * x))))\n",
    "    return p\n",
    "\n",
    "likelihood = sum(p.y for p in patient_data) / len(patient_data)\n",
    "\n",
    "log_likelihood = sum(math.log(likelihood) * p.y + math.log(1.0 - likelihood) * (1.0 - p.y) \\\n",
    "                     for p in patient_data)\n",
    "\n",
    "log_likelihood_fit = sum(math.log(logistic_function(p.x)) * p.y + \\\n",
    "                        math.log(1.0 - logistic_function(p.x)) * (1.0 - p.y)\n",
    "                        for p in patient_data)\n",
    "\n",
    "p_value = chi2.pdf((2*(log_likelihood_fit - log_likelihood)), 1)\n",
    "\n",
    "print(p_value)"
   ]
  },
  {
   "cell_type": "markdown",
   "metadata": {},
   "source": [
    "We can also use train/test splits on logistic regression to determine the robustness of our model choice."
   ]
  },
  {
   "cell_type": "code",
   "execution_count": 12,
   "metadata": {},
   "outputs": [
    {
     "name": "stdout",
     "output_type": "stream",
     "text": [
      "Model Accuracy: Mean = 0.633, StdDev = 0.093\n"
     ]
    }
   ],
   "source": [
    "# K-fold validation on linear regression\n",
    "\n",
    "# get input and output variables\n",
    "df = pd.read_csv(\"https://tinyurl.com/y6r7qjrp\")\n",
    "X = df.values[:, :-1]\n",
    "y = df.values[:, -1]\n",
    "\n",
    "# fit K-folds\n",
    "kfold = KFold(n_splits=5, random_state=7, shuffle=True)\n",
    "model = LogisticRegression(penalty=None)\n",
    "results = cross_val_score(model, X, y, cv=kfold)\n",
    "\n",
    "print(f'Model Accuracy: Mean = {round(results.mean(), 3)}, StdDev = {round(results.std(), 3)}')"
   ]
  },
  {
   "cell_type": "markdown",
   "metadata": {},
   "source": [
    "Accuracy is a misleading measure of success for classification. It only captures total true predictions, and cannot account for the importance of Type 1 and Type 2 errors."
   ]
  },
  {
   "cell_type": "markdown",
   "metadata": {},
   "source": [
    "Confusion matrix: a grid of results comparing model predictions against actual values"
   ]
  },
  {
   "cell_type": "code",
   "execution_count": 13,
   "metadata": {},
   "outputs": [
    {
     "data": {
      "image/png": "[encoded data removed]",
      "text/plain": [
       "<Figure size 640x480 with 2 Axes>"
      ]
     },
     "metadata": {},
     "output_type": "display_data"
    }
   ],
   "source": [
    "# confusion matrix \n",
    "model = LogisticRegression(solver= 'liblinear')\n",
    "X_train, X_test, y_train, y_test = train_test_split(X, y, test_size=.33, random_state=7)\n",
    "model.fit(X_train, y_train)\n",
    "prediction = model.predict(X_test)\n",
    "matrix = confusion_matrix(y_true= y_test, y_pred= prediction)\n",
    "ConfusionMatrixDisplay(confusion_matrix= matrix).plot()\n",
    "plt.show()"
   ]
  },
  {
   "cell_type": "markdown",
   "metadata": {},
   "source": [
    "The top-left-to-bottom-right-diagonal values in the confusion matrix are the correct values. <br>\n",
    "The above model over-predicts the true label. Only 50% of the negative true values were correctly classified as negative!"
   ]
  },
  {
   "cell_type": "markdown",
   "metadata": {},
   "source": [
    "Bayes' theorem can be useful when working with confusion matrices."
   ]
  },
  {
   "cell_type": "code",
   "execution_count": 14,
   "metadata": {},
   "outputs": [
    {
     "data": {
      "text/html": [
       "<div>\n",
       "<style scoped>\n",
       "    .dataframe tbody tr th:only-of-type {\n",
       "        vertical-align: middle;\n",
       "    }\n",
       "\n",
       "    .dataframe tbody tr th {\n",
       "        vertical-align: top;\n",
       "    }\n",
       "\n",
       "    .dataframe thead th {\n",
       "        text-align: right;\n",
       "    }\n",
       "</style>\n",
       "<table border=\"1\" class=\"dataframe\">\n",
       "  <thead>\n",
       "    <tr style=\"text-align: right;\">\n",
       "      <th></th>\n",
       "      <th>tests positive</th>\n",
       "      <th>tests negative</th>\n",
       "    </tr>\n",
       "  </thead>\n",
       "  <tbody>\n",
       "    <tr>\n",
       "      <th>at risk</th>\n",
       "      <td>198</td>\n",
       "      <td>2</td>\n",
       "    </tr>\n",
       "    <tr>\n",
       "      <th>not at risk</th>\n",
       "      <td>50</td>\n",
       "      <td>750</td>\n",
       "    </tr>\n",
       "  </tbody>\n",
       "</table>\n",
       "</div>"
      ],
      "text/plain": [
       "             tests positive  tests negative\n",
       "at risk                 198               2\n",
       "not at risk              50             750"
      ]
     },
     "metadata": {},
     "output_type": "display_data"
    }
   ],
   "source": [
    "# patient data\n",
    "\n",
    "patient_df = pd.DataFrame(\n",
    "    data= {\n",
    "        'tests positive': [198, 50],\n",
    "        'tests negative': [2, 750]\n",
    "    },\n",
    "    index = ['at risk', 'not at risk']\n",
    ")\n",
    "\n",
    "display(patient_df)"
   ]
  },
  {
   "cell_type": "code",
   "execution_count": 15,
   "metadata": {},
   "outputs": [
    {
     "name": "stdout",
     "output_type": "stream",
     "text": [
      "0.99\n",
      "0.7983870967741935\n"
     ]
    }
   ],
   "source": [
    "# sensitivity and precision\n",
    "sensitivity = patient_df.loc['at risk', 'tests positive'] / sum(patient_df.loc['at risk', :])\n",
    "print(sensitivity)\n",
    "precision = patient_df.loc['at risk', 'tests positive'] / sum(patient_df.loc[:, 'tests positive'])\n",
    "print(precision)"
   ]
  },
  {
   "cell_type": "markdown",
   "metadata": {},
   "source": [
    "$ P(\\text{At Risk if Positive}) = \\frac{P(\\text{Positive if At Risk}) * P(\\text{At Risk})}{P(\\text{Positive})} $"
   ]
  },
  {
   "cell_type": "code",
   "execution_count": 16,
   "metadata": {},
   "outputs": [
    {
     "name": "stdout",
     "output_type": "stream",
     "text": [
      "0.03991935483870968\n"
     ]
    }
   ],
   "source": [
    "# using Bayes' theorem to determine risk if positive\n",
    "p_positive_given_at_risk = patient_df.loc['at risk', 'tests positive'] / sum(patient_df.loc['at risk', :])\n",
    "p_positive = sum(patient_df.loc[:, 'tests positive']) / patient_df.values.sum()\n",
    "\n",
    "p_at_risk = 0.01\n",
    "\n",
    "p_at_risk_given_positive = p_positive_given_at_risk * p_at_risk / p_positive\n",
    "\n",
    "print(p_at_risk_given_positive)"
   ]
  },
  {
   "cell_type": "markdown",
   "metadata": {},
   "source": [
    "Receiver Operating Characteristic (ROC) curve: graph showing all testing instances as coordinates of true positives and false positives <br>\n",
    "helps to find a balanced classification threshold"
   ]
  },
  {
   "cell_type": "markdown",
   "metadata": {},
   "source": [
    "Area Under the Curve (AUC): a measure used on ROC curves to determine model strength across all testing instances <br>\n",
    "measured between 0 and 1 <br>\n",
    "higher AUC means stronger model overall <br>\n",
    "useful to compare models"
   ]
  },
  {
   "cell_type": "code",
   "execution_count": 17,
   "metadata": {},
   "outputs": [
    {
     "data": {
      "image/png": "[encoded data removed]",
      "text/plain": [
       "<Figure size 640x480 with 1 Axes>"
      ]
     },
     "metadata": {},
     "output_type": "display_data"
    },
    {
     "name": "stdout",
     "output_type": "stream",
     "text": [
      "AUC: 0.858 (0.161)\n"
     ]
    }
   ],
   "source": [
    "# ROC and AUC from Logistic Regression\n",
    "\n",
    "# get input and output variables\n",
    "df = pd.read_csv(\"https://tinyurl.com/y6r7qjrp\")\n",
    "X = df.values[:, :-1]\n",
    "y = df.values[:, -1]\n",
    "\n",
    "# train test split\n",
    "X_train, X_test, y_train, y_test = train_test_split(X, y, test_size=.33, random_state=7)\n",
    "\n",
    "# fit model and get ROC\n",
    "model = LogisticRegression(penalty=None)\n",
    "model.fit(X_train, y_train)\n",
    "RocCurveDisplay.from_estimator(model, X_test, y_test)\n",
    "plt.show()\n",
    "\n",
    "# get ROC-AUC score\n",
    "kfold = KFold(n_splits=5, random_state=7, shuffle=True)\n",
    "model = LogisticRegression(penalty=None)\n",
    "results = cross_val_score(model, X, y, cv= kfold, scoring= 'roc_auc')\n",
    "print('AUC: %.3f (%.3f)' % (results.mean(), results.std()))"
   ]
  },
  {
   "cell_type": "markdown",
   "metadata": {},
   "source": [
    "Class imbalance: when data is not equally represented across every outcome class\n",
    "\n",
    "Some techniques to combat class imbalance:\n",
    "- collect more data\n",
    "- try different models\n",
    "- duplicate minority samples until classes balanced\n",
    "- SMOTE lgorithms\n",
    "- unsupervised anomaly detection models"
   ]
  },
  {
   "cell_type": "markdown",
   "metadata": {},
   "source": [
    "For predicting more than one category, build separate logistic regressions for each class, and the one that produces the highest probability is the best."
   ]
  },
  {
   "cell_type": "code",
   "execution_count": 18,
   "metadata": {},
   "outputs": [
    {
     "data": {
      "text/html": [
       "<div>\n",
       "<style scoped>\n",
       "    .dataframe tbody tr th:only-of-type {\n",
       "        vertical-align: middle;\n",
       "    }\n",
       "\n",
       "    .dataframe tbody tr th {\n",
       "        vertical-align: top;\n",
       "    }\n",
       "\n",
       "    .dataframe thead th {\n",
       "        text-align: right;\n",
       "    }\n",
       "</style>\n",
       "<table border=\"1\" class=\"dataframe\">\n",
       "  <thead>\n",
       "    <tr style=\"text-align: right;\">\n",
       "      <th></th>\n",
       "      <th>RED</th>\n",
       "      <th>GREEN</th>\n",
       "      <th>BLUE</th>\n",
       "      <th>LIGHT_OR_DARK_FONT_IND</th>\n",
       "    </tr>\n",
       "  </thead>\n",
       "  <tbody>\n",
       "    <tr>\n",
       "      <th>688</th>\n",
       "      <td>219</td>\n",
       "      <td>112</td>\n",
       "      <td>147</td>\n",
       "      <td>1</td>\n",
       "    </tr>\n",
       "    <tr>\n",
       "      <th>900</th>\n",
       "      <td>3</td>\n",
       "      <td>168</td>\n",
       "      <td>158</td>\n",
       "      <td>0</td>\n",
       "    </tr>\n",
       "    <tr>\n",
       "      <th>856</th>\n",
       "      <td>255</td>\n",
       "      <td>230</td>\n",
       "      <td>153</td>\n",
       "      <td>1</td>\n",
       "    </tr>\n",
       "    <tr>\n",
       "      <th>1127</th>\n",
       "      <td>238</td>\n",
       "      <td>92</td>\n",
       "      <td>66</td>\n",
       "      <td>1</td>\n",
       "    </tr>\n",
       "    <tr>\n",
       "      <th>1342</th>\n",
       "      <td>97</td>\n",
       "      <td>97</td>\n",
       "      <td>97</td>\n",
       "      <td>0</td>\n",
       "    </tr>\n",
       "  </tbody>\n",
       "</table>\n",
       "</div>"
      ],
      "text/plain": [
       "      RED  GREEN  BLUE  LIGHT_OR_DARK_FONT_IND\n",
       "688   219    112   147                       1\n",
       "900     3    168   158                       0\n",
       "856   255    230   153                       1\n",
       "1127  238     92    66                       1\n",
       "1342   97     97    97                       0"
      ]
     },
     "execution_count": 18,
     "metadata": {},
     "output_type": "execute_result"
    }
   ],
   "source": [
    "df = pd.read_csv(\"https://bit.ly/3imidqa\")\n",
    "df.sample(5)"
   ]
  },
  {
   "cell_type": "code",
   "execution_count": 19,
   "metadata": {},
   "outputs": [
    {
     "name": "stdout",
     "output_type": "stream",
     "text": [
      "Accuracy Score: Mean = 0.999, StdDev = 0.002\n"
     ]
    }
   ],
   "source": [
    "# exercise 1\n",
    "\n",
    "# get input and output variables\n",
    "X = df.values[:, :-1]\n",
    "y = df.values[:, -1]\n",
    "\n",
    "# fit model and get accuracy\n",
    "kfold = KFold(n_splits= 3)\n",
    "model = LogisticRegression(penalty= None)\n",
    "results = cross_val_score(model, X, y, cv= kfold, scoring= 'accuracy')\n",
    "\n",
    "print('Accuracy Score: Mean = %.3f, StdDev = %.3f' % (results.mean(), results.std()))"
   ]
  },
  {
   "cell_type": "code",
   "execution_count": 20,
   "metadata": {},
   "outputs": [
    {
     "data": {
      "image/png": "[encoded data removed]",
      "text/plain": [
       "<Figure size 640x480 with 2 Axes>"
      ]
     },
     "metadata": {},
     "output_type": "display_data"
    },
    {
     "data": {
      "image/png": "[encoded data removed]",
      "text/plain": [
       "<Figure size 640x480 with 2 Axes>"
      ]
     },
     "metadata": {},
     "output_type": "display_data"
    }
   ],
   "source": [
    "# exercise 2\n",
    "\n",
    "# train test split\n",
    "X_train, X_test, y_train, y_test = train_test_split(X, y, random_state=7)\n",
    "\n",
    "# fit model\n",
    "model = LogisticRegression(penalty= None)\n",
    "model.fit(X_train, y_train)\n",
    "\n",
    "# show confusion matrix from predictions\n",
    "ConfusionMatrixDisplay.from_estimator(\n",
    "    model,\n",
    "    X_test,\n",
    "    y_test\n",
    ").plot();"
   ]
  },
  {
   "cell_type": "code",
   "execution_count": 21,
   "metadata": {},
   "outputs": [
    {
     "name": "stdout",
     "output_type": "stream",
     "text": [
      "[1 1 0 0 0 0]\n"
     ]
    }
   ],
   "source": [
    "# exercise 3\n",
    "\n",
    "results = model.predict([\n",
    "    [138, 186, 104], # probably dark\n",
    "    [239, 234, 237], # dark\n",
    "    [87, 135, 44], # probably light?\n",
    "    [15, 25, 168], # light\n",
    "    [127, 127, 127], # either way\n",
    "    [181, 49, 145] # light\n",
    "])\n",
    "\n",
    "print(results)"
   ]
  }
 ],
 "metadata": {
  "kernelspec": {
   "display_name": "venv",
   "language": "python",
   "name": "python3"
  },
  "language_info": {
   "codemirror_mode": {
    "name": "ipython",
    "version": 3
   },
   "file_extension": ".py",
   "mimetype": "text/x-python",
   "name": "python",
   "nbconvert_exporter": "python",
   "pygments_lexer": "ipython3",
   "version": "3.10.11"
  },
  "orig_nbformat": 4
 },
 "nbformat": 4,
 "nbformat_minor": 2
}
