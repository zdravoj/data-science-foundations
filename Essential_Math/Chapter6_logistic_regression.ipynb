{
 "cells": [
  {
   "cell_type": "markdown",
   "metadata": {},
   "source": [
    "# Logistic Regression and Classification"
   ]
  },
  {
   "cell_type": "code",
   "execution_count": 1,
   "metadata": {},
   "outputs": [],
   "source": [
    "import math\n",
    "import random\n",
    "import numpy as np\n",
    "import pandas as pd\n",
    "import scipy\n",
    "import sympy\n",
    "from sklearn.linear_model import LogisticRegression\n",
    "import matplotlib.pyplot as plt\n",
    "import seaborn as sns"
   ]
  },
  {
   "cell_type": "markdown",
   "metadata": {},
   "source": [
    "Logistic regression: predicts probability of an outcome given 1+ variables\n",
    "\n",
    "Logistic regression is:\n",
    "- trained on a discrete output variable (boolean or integer)\n",
    "- resilient against outliers and other data challenges\n",
    "- outputs a continuous value which can be convertd into a discrete value\n",
    "- results in a curve indicating probability of an outcome\n",
    "\n",
    "Classification: predicting categories <br>\n",
    "logistic regression can be used for classification tasks by assigning a threshold to the logistic regression to predict belonging to a category (a probability below the threshold is classified as 0, above classified as 1)"
   ]
  },
  {
   "cell_type": "markdown",
   "metadata": {},
   "source": [
    "A logistic regression uses the logistic function\n",
    "\n",
    "Logistic function: sigmoid curve that produces an output between 0 and 1, for 1+ variables\n",
    "\n",
    "The logistic function for outputting a probability $y$ for one input variable $x$:\n",
    "\n",
    "$ y = \\frac{1}{1 + e^{-(\\beta_0 + \\beta_1 x)}} = \\frac{e^{\\beta_0 + \\beta_1 x}}{1 + e^{\\beta_0 + \\beta_1 x}}$"
   ]
  },
  {
   "cell_type": "markdown",
   "metadata": {},
   "source": [
    "$ \\beta_0 + \\beta_1 x $ is called a log-odds function"
   ]
  },
  {
   "cell_type": "code",
   "execution_count": 2,
   "metadata": {},
   "outputs": [
    {
     "name": "stdout",
     "output_type": "stream",
     "text": [
      "1.0/(1.0 + 16.8272567955368*exp(-0.62*x))\n"
     ]
    },
    {
     "data": {
      "image/png": "[encoded data removed]",
      "text/plain": [
       "<Figure size 640x480 with 1 Axes>"
      ]
     },
     "metadata": {},
     "output_type": "display_data"
    }
   ],
   "source": [
    "# plot logistic function\n",
    "\n",
    "# define variables\n",
    "b0, b1, x = sympy.symbols('b0 b1 x')\n",
    "# define equation\n",
    "p = 1.0 / (1.0 + sympy.exp(-(b0 + b1 * x)))\n",
    "# substitute values\n",
    "p = p.subs(b0, -2.823)\n",
    "p = p.subs(b1, 0.620)\n",
    "# display function\n",
    "print(p)\n",
    "sympy.plot(p);"
   ]
  },
  {
   "cell_type": "markdown",
   "metadata": {},
   "source": [
    "Fitting a model requires an objective function. For logistic regression, that is a *maximum likelihood estimation*.\n",
    "\n",
    "Maximum likelihood estimation (MLE): function maximizing likelihood that a given logistic curve would output the observed data"
   ]
  },
  {
   "cell_type": "code",
   "execution_count": 3,
   "metadata": {},
   "outputs": [
    {
     "name": "stdout",
     "output_type": "stream",
     "text": [
      "[0.69267212]\n",
      "[-3.17576395]\n"
     ]
    }
   ],
   "source": [
    "# fitting logistic regression from sklearn\n",
    "url = 'https://bit.ly/33ebs2R'\n",
    "\n",
    "# load data and extract input and output variables\n",
    "patient_data = pd.read_csv(url)\n",
    "X = patient_data.values[:, :-1]\n",
    "y = patient_data.values[:, -1]\n",
    "\n",
    "# fit logistic regression\n",
    "model = LogisticRegression(penalty= None)\n",
    "model.fit(X, y)\n",
    "\n",
    "# print coefficients\n",
    "print(model.coef_.flatten())\n",
    "print(model.intercept_.flatten())"
   ]
  },
  {
   "cell_type": "markdown",
   "metadata": {},
   "source": [
    "apply gradient descent (GD) or SGD or mini-batch GD to solve MLE"
   ]
  },
  {
   "cell_type": "markdown",
   "metadata": {},
   "source": [
    "Joint likelihood: likelihood of seeing all data points (or sample) for a given logistic regression curve.\n",
    "\n",
    "$ \\displaystyle\\prod_{i=1}^{n} (\\frac{1}{1 + e^{-(\\beta_0 + \\beta_1 x_i)}})^{y_i} * (\\frac{1}{1 + e^{-(\\beta_0 + \\beta_1 x_i)}})^{1-y_i} $, where\n",
    "\n",
    "$x_i$ is the data point input, and <br>\n",
    "$y_i$ is the discrete output prediction (as a 1 or 0)"
   ]
  },
  {
   "cell_type": "code",
   "execution_count": 4,
   "metadata": {},
   "outputs": [
    {
     "name": "stdout",
     "output_type": "stream",
     "text": [
      "4.791118022168743e-05\n"
     ]
    }
   ],
   "source": [
    "# calculate joint likelihood for fitted data\n",
    "\n",
    "# get data and model\n",
    "patient_data_iter = patient_data.itertuples()\n",
    "b1 = model.coef_.flatten()[0]\n",
    "b0 = model.intercept_.flatten()[0]\n",
    "\n",
    "def logistic_function(x):\n",
    "    p = 1.0 / (1.0 + math.exp(-(b0 + b1 * x)))\n",
    "    return p\n",
    "\n",
    "# calculate joint likelihood\n",
    "joint_likelihood = 1.0\n",
    "for p in patient_data_iter:\n",
    "    if p.y == 1.0:\n",
    "        joint_likelihood *= logistic_function(p.x)\n",
    "    elif p.y == 0.0:\n",
    "        joint_likelihood *= (1.0 - logistic_function(p.x))\n",
    "\n",
    "print(joint_likelihood)"
   ]
  },
  {
   "cell_type": "markdown",
   "metadata": {},
   "source": [
    "When a lot of mathematical calculation is done with computers, especially with very small numbers such as those from joint likelihood products, it is possible to experience *floating point underflow*.\n",
    "\n",
    "Floating point underflow: when computer limits on floating point numbers affect numerical accuracy\n",
    "\n",
    "to solve this problem for joint likelihood, take the log of the decimals, add them together, then raise the number back to the exponent of $e$ to convert back to joint likelihood. This form of calculation is more numerically stable."
   ]
  },
  {
   "cell_type": "markdown",
   "metadata": {},
   "source": [
    "joint likelihood = $ \\displaystyle\\sum_{i=1}^{n} log((\\frac{1}{1 + e^{-(\\beta_0 + \\beta_1 x_i)}})^{y_i} * (\\frac{1}{1 + e^{-(\\beta_0 + \\beta_1 x_i)}})^{1-y_i}) $"
   ]
  },
  {
   "cell_type": "code",
   "execution_count": 5,
   "metadata": {},
   "outputs": [
    {
     "name": "stdout",
     "output_type": "stream",
     "text": [
      "4.791118022168748e-05\n"
     ]
    }
   ],
   "source": [
    "# calculate joint likelihood using logs\n",
    "\n",
    "joint_likelihood = 0.0\n",
    "patient_data_iter = patient_data.itertuples()\n",
    "for p in patient_data_iter:\n",
    "    joint_likelihood += math.log(\n",
    "        logistic_function(p.x) ** p.y * \\\n",
    "        (1.0 - logistic_function(p.x)) ** (1.0 - p.y))\n",
    "joint_likelihood = math.exp(joint_likelihood)\n",
    "print(joint_likelihood)"
   ]
  },
  {
   "cell_type": "code",
   "execution_count": 6,
   "metadata": {},
   "outputs": [
    {
     "name": "stdout",
     "output_type": "stream",
     "text": [
      "0.6926693075370812 -3.175751550409821\n"
     ]
    }
   ],
   "source": [
    "# use gradient descent for logistic regression\n",
    "\n",
    "# get data\n",
    "url = 'https://tinyurl.com/y2cocoo7'\n",
    "points = list(pd.read_csv(url).itertuples())\n",
    "\n",
    "# define variables\n",
    "b1, b0, i, n = sympy.symbols('b1 b0 i n')\n",
    "x, y = sympy.symbols('x y', cls=sympy.Function)\n",
    "\n",
    "# calculate joint likelihood\n",
    "joint_likelihood = sympy.Sum(sympy.log(\n",
    "    (\n",
    "        1.0 / \\\n",
    "        (1.0 + sympy.exp(-(b0 + b1 * x(i))))\n",
    "    ) ** y(i) \\\n",
    "    * \\\n",
    "    (\n",
    "        1.0 - \\\n",
    "        (\n",
    "            1.0 / \\\n",
    "            (1.0 + sympy.exp(-(b0 + b1 * x(i))))\n",
    "        )\n",
    "    ) ** (1 - y(i))\n",
    "), (i, 0, n))\n",
    "\n",
    "# calculate partial derivatives\n",
    "d_b1 = sympy.diff(joint_likelihood, b1) \\\n",
    "    .subs(n, len(points) - 1).doit() \\\n",
    "    .replace(x, lambda i: points[i].x) \\\n",
    "    .replace(y, lambda i: points[i].y)\n",
    "d_b0 = sympy.diff(joint_likelihood, b0) \\\n",
    "    .subs(n, len(points) - 1).doit() \\\n",
    "    .replace(x, lambda i: points[i].x) \\\n",
    "    .replace(y, lambda i: points[i].y)\n",
    "#lambdify for faster computation\n",
    "d_b1 = sympy.lambdify([b1, b0], d_b1)\n",
    "d_b0 = sympy.lambdify([b1, b0], d_b0)\n",
    "\n",
    "# initialize parameters\n",
    "b1 = 0.01\n",
    "b0 = 0.01\n",
    "L = 0.01\n",
    "\n",
    "# perform gradient descent\n",
    "for j in range(10_000):\n",
    "    b1 += d_b1(b1, b0) * L\n",
    "    b0 += d_b0(b1, b0) * L\n",
    "\n",
    "print(b1, b0)"
   ]
  },
  {
   "cell_type": "markdown",
   "metadata": {},
   "source": [
    "**DO NOT MAKE HAPHAZARD PREDICTIONS ON PEOPLE DATA**\n",
    "\n",
    "seemingly benign variables can correlate with discriminatory variables"
   ]
  },
  {
   "cell_type": "markdown",
   "metadata": {},
   "source": [
    "A good way to understand inputs is to understand outputs (what are the predictions being used for?)"
   ]
  },
  {
   "cell_type": "code",
   "execution_count": 7,
   "metadata": {},
   "outputs": [
    {
     "name": "stdout",
     "output_type": "stream",
     "text": [
      "0.7271606550610753\n",
      "A patient is 2.665 times more likely to show symptoms than not show symptoms after 6 hours of exposure.\n"
     ]
    }
   ],
   "source": [
    "# odds perspective calculation from logistic regression\n",
    "\n",
    "hours_of_exposure = 6.0\n",
    "\n",
    "def logistic_function(b0, b1, x):\n",
    "    p = 1.0 / (1.0 + math.exp(-(b0 + b1 * x)))\n",
    "    return p\n",
    "\n",
    "p = logistic_function(b0, b1, hours_of_exposure)\n",
    "print(p)\n",
    "\n",
    "def odds(p):\n",
    "    return p / (1-p)\n",
    "\n",
    "odds_ = odds(p)\n",
    "\n",
    "print(f'A patient is {round(odds_, 3)} times more likely to show symptoms than not show symptoms after {int(hours_of_exposure)} hours of exposure.')"
   ]
  },
  {
   "cell_type": "markdown",
   "metadata": {},
   "source": [
    "Wrapping the odds function in log yeilds the logit function.\n",
    "\n",
    "$ log({\\frac{p}{1-p}}) $"
   ]
  },
  {
   "cell_type": "code",
   "execution_count": 8,
   "metadata": {},
   "outputs": [
    {
     "name": "stdout",
     "output_type": "stream",
     "text": [
      "0.9802642948126671\n"
     ]
    }
   ],
   "source": [
    "# get logit\n",
    "logit = math.log(odds_)\n",
    "print(logit)"
   ]
  },
  {
   "cell_type": "markdown",
   "metadata": {},
   "source": [
    "The logit function yields the same answer as the log-odds function.\n",
    "\n",
    "$ log(\\frac{p}{1-p}) = \\beta_0 + \\beta_1 x $"
   ]
  },
  {
   "cell_type": "code",
   "execution_count": 9,
   "metadata": {},
   "outputs": [
    {
     "name": "stdout",
     "output_type": "stream",
     "text": [
      "0.9802642948126667\n",
      "True\n"
     ]
    }
   ],
   "source": [
    "# get log-odds and show equality to logit\n",
    "logodds = b0 + b1 * hours_of_exposure\n",
    "print(logodds)\n",
    "print(round(logit, 5) == round(logodds, 5))"
   ]
  },
  {
   "cell_type": "markdown",
   "metadata": {},
   "source": [
    "logarithms rescale odds so they are linear, making them easier to compare\n",
    "\n",
    "odds ratios can compare effects of one x-value to another\n",
    "\n",
    "$ O_a = \\frac{p_a}{1 - p_a} $\n",
    "\n",
    "$ O_b = \\frac{p_b}{1 - p_b} $\n",
    "\n",
    "odds ratio = $ {O_a \\over O_b} $\n",
    "\n",
    "where $a$ is (odds ratio) times more likely to happen than $b$."
   ]
  }
 ],
 "metadata": {
  "kernelspec": {
   "display_name": "venv",
   "language": "python",
   "name": "python3"
  },
  "language_info": {
   "codemirror_mode": {
    "name": "ipython",
    "version": 3
   },
   "file_extension": ".py",
   "mimetype": "text/x-python",
   "name": "python",
   "nbconvert_exporter": "python",
   "pygments_lexer": "ipython3",
   "version": "3.10.11"
  },
  "orig_nbformat": 4
 },
 "nbformat": 4,
 "nbformat_minor": 2
}
